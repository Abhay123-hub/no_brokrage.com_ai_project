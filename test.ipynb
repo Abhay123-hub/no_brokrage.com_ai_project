{
 "cells": [
  {
   "cell_type": "code",
   "execution_count": 1,
   "id": "76f3e96c",
   "metadata": {},
   "outputs": [
    {
     "name": "stdout",
     "output_type": "stream",
     "text": [
      "hii\n"
     ]
    }
   ],
   "source": [
    "print(\"hii\")"
   ]
  },
  {
   "cell_type": "code",
   "execution_count": 3,
   "id": "1cff1e52",
   "metadata": {},
   "outputs": [],
   "source": [
    "import pandas as pd\n",
    "import re\n",
    "\n",
    "# ---------- STEP 1: LOAD YOUR DATA ----------\n",
    "projects = pd.read_csv(\"data/project.csv\")\n",
    "addresses = pd.read_csv(\"data/ProjectAddress.csv\")\n",
    "configs = pd.read_csv(\"data/ProjectConfiguration.csv\")\n",
    "variants = pd.read_csv(\"data/ProjectConfigurationVariant.csv\")\n",
    "\n",
    "# ---------- STEP 2: MERGE ALL FILES ----------\n",
    "merged1 = pd.merge(projects, addresses, left_on=\"id\", right_on=\"projectId\", how=\"left\", suffixes=(\"\", \"_address\"))\n",
    "merged2 = pd.merge(merged1, configs, left_on=\"id\", right_on=\"projectId\", how=\"left\", suffixes=(\"\", \"_config\"))\n",
    "master_df = pd.merge(merged2, variants, left_on=\"id_config\", right_on=\"configurationId\", how=\"left\")\n",
    "\n",
    "# ---------- STEP 3: KEEP ONLY USEFUL COLUMNS ----------\n",
    "chatbot_df = master_df[[\n",
    "    \"projectName\",\n",
    "    \"status\",\n",
    "    \"possessionDate\",\n",
    "    \"fullAddress\",\n",
    "    \"pincode\",\n",
    "    \"type\",             # e.g. 1BHK, 2BHK, 3BHK\n",
    "    \"carpetArea\",\n",
    "    \"price\",\n",
    "    \"bathrooms\",\n",
    "    \"balcony\",\n",
    "    \"listingType\",\n",
    "    \"furnishedType\",\n",
    "    \"projectCategory\",\n",
    "    \"projectType\",\n",
    "    \"propertyCategory\",\n",
    "    \"landmark\",\n",
    "    \"cityId\",\n",
    "    \"localityId\",\n",
    "    \"subLocalityId\",\n",
    "    \"propertyImages\",\n",
    "    \"floorPlanImage\"\n",
    "]].copy()"
   ]
  },
  {
   "cell_type": "code",
   "execution_count": 4,
   "id": "d2931cf7",
   "metadata": {},
   "outputs": [
    {
     "data": {
      "text/html": [
       "<div>\n",
       "<style scoped>\n",
       "    .dataframe tbody tr th:only-of-type {\n",
       "        vertical-align: middle;\n",
       "    }\n",
       "\n",
       "    .dataframe tbody tr th {\n",
       "        vertical-align: top;\n",
       "    }\n",
       "\n",
       "    .dataframe thead th {\n",
       "        text-align: right;\n",
       "    }\n",
       "</style>\n",
       "<table border=\"1\" class=\"dataframe\">\n",
       "  <thead>\n",
       "    <tr style=\"text-align: right;\">\n",
       "      <th></th>\n",
       "      <th>projectName</th>\n",
       "      <th>status</th>\n",
       "      <th>possessionDate</th>\n",
       "      <th>fullAddress</th>\n",
       "      <th>pincode</th>\n",
       "      <th>type</th>\n",
       "      <th>carpetArea</th>\n",
       "      <th>price</th>\n",
       "      <th>bathrooms</th>\n",
       "      <th>balcony</th>\n",
       "      <th>...</th>\n",
       "      <th>furnishedType</th>\n",
       "      <th>projectCategory</th>\n",
       "      <th>projectType</th>\n",
       "      <th>propertyCategory</th>\n",
       "      <th>landmark</th>\n",
       "      <th>cityId</th>\n",
       "      <th>localityId</th>\n",
       "      <th>subLocalityId</th>\n",
       "      <th>propertyImages</th>\n",
       "      <th>floorPlanImage</th>\n",
       "    </tr>\n",
       "  </thead>\n",
       "  <tbody>\n",
       "    <tr>\n",
       "      <th>0</th>\n",
       "      <td>Ashwini</td>\n",
       "      <td>UNDER_CONSTRUCTION</td>\n",
       "      <td>2025-09-28 00:00:00</td>\n",
       "      <td>Mumbai chembur</td>\n",
       "      <td>411017</td>\n",
       "      <td>1BHK</td>\n",
       "      <td>123.00</td>\n",
       "      <td>11111111</td>\n",
       "      <td>1</td>\n",
       "      <td>1.0</td>\n",
       "      <td>...</td>\n",
       "      <td>UNFURNISHED</td>\n",
       "      <td>STANDALONE</td>\n",
       "      <td>RESIDENTIAL</td>\n",
       "      <td>RESIDENTIAL</td>\n",
       "      <td>Babys school</td>\n",
       "      <td>cmf6nu3ru000gvcxspxarll3v</td>\n",
       "      <td>cmf6pksk30035vcxs7r2mo3iq</td>\n",
       "      <td>cmfdkuymm0001vc90iiyzkr8d</td>\n",
       "      <td>[\"https://pub-d28896f69c604ec5aa743cb0397740d9...</td>\n",
       "      <td>https://pub-d28896f69c604ec5aa743cb0397740d9.r...</td>\n",
       "    </tr>\n",
       "    <tr>\n",
       "      <th>1</th>\n",
       "      <td>Ashwini</td>\n",
       "      <td>UNDER_CONSTRUCTION</td>\n",
       "      <td>2025-09-28 00:00:00</td>\n",
       "      <td>Mumbai chembur</td>\n",
       "      <td>411017</td>\n",
       "      <td>2BHK</td>\n",
       "      <td>456.00</td>\n",
       "      <td>22222222</td>\n",
       "      <td>0</td>\n",
       "      <td>2.0</td>\n",
       "      <td>...</td>\n",
       "      <td>UNFURNISHED</td>\n",
       "      <td>STANDALONE</td>\n",
       "      <td>RESIDENTIAL</td>\n",
       "      <td>RESIDENTIAL</td>\n",
       "      <td>Babys school</td>\n",
       "      <td>cmf6nu3ru000gvcxspxarll3v</td>\n",
       "      <td>cmf6pksk30035vcxs7r2mo3iq</td>\n",
       "      <td>cmfdkuymm0001vc90iiyzkr8d</td>\n",
       "      <td>[\"https://pub-d28896f69c604ec5aa743cb0397740d9...</td>\n",
       "      <td>https://pub-d28896f69c604ec5aa743cb0397740d9.r...</td>\n",
       "    </tr>\n",
       "    <tr>\n",
       "      <th>2</th>\n",
       "      <td>Pristine02</td>\n",
       "      <td>READY_TO_MOVE</td>\n",
       "      <td>NaN</td>\n",
       "      <td>sr no 13 beside godrej, opposite to mca stadiu...</td>\n",
       "      <td>412101</td>\n",
       "      <td>2BHK</td>\n",
       "      <td>972.00</td>\n",
       "      <td>120000000</td>\n",
       "      <td>12</td>\n",
       "      <td>3.0</td>\n",
       "      <td>...</td>\n",
       "      <td>UNFURNISHED</td>\n",
       "      <td>STANDALONE</td>\n",
       "      <td>RESIDENTIAL</td>\n",
       "      <td>RESIDENTIAL</td>\n",
       "      <td>Sai nagar</td>\n",
       "      <td>cmf6nu3ru000gvcxspxarll3v</td>\n",
       "      <td>cmf6pk0cn0033vcxshxbf5hdh</td>\n",
       "      <td>cmfdn705v001pvc90uyle9m34</td>\n",
       "      <td>[\"https://pub-d28896f69c604ec5aa743cb0397740d9...</td>\n",
       "      <td>https://pub-d28896f69c604ec5aa743cb0397740d9.r...</td>\n",
       "    </tr>\n",
       "    <tr>\n",
       "      <th>3</th>\n",
       "      <td>Pristine02</td>\n",
       "      <td>READY_TO_MOVE</td>\n",
       "      <td>NaN</td>\n",
       "      <td>sr no 13 beside godrej, opposite to mca stadiu...</td>\n",
       "      <td>412101</td>\n",
       "      <td>2BHK</td>\n",
       "      <td>188.73</td>\n",
       "      <td>210000000</td>\n",
       "      <td>3</td>\n",
       "      <td>2.0</td>\n",
       "      <td>...</td>\n",
       "      <td>UNFURNISHED</td>\n",
       "      <td>STANDALONE</td>\n",
       "      <td>RESIDENTIAL</td>\n",
       "      <td>RESIDENTIAL</td>\n",
       "      <td>Sai nagar</td>\n",
       "      <td>cmf6nu3ru000gvcxspxarll3v</td>\n",
       "      <td>cmf6pk0cn0033vcxshxbf5hdh</td>\n",
       "      <td>cmfdn705v001pvc90uyle9m34</td>\n",
       "      <td>[\"https://pub-d28896f69c604ec5aa743cb0397740d9...</td>\n",
       "      <td>https://pub-d28896f69c604ec5aa743cb0397740d9.r...</td>\n",
       "    </tr>\n",
       "    <tr>\n",
       "      <th>4</th>\n",
       "      <td>Gurukripa</td>\n",
       "      <td>UNDER_CONSTRUCTION</td>\n",
       "      <td>NaN</td>\n",
       "      <td>Sindhi Society, Near Swami Vivekanand Jr Colle...</td>\n",
       "      <td>400071</td>\n",
       "      <td>1BHK</td>\n",
       "      <td>426.57</td>\n",
       "      <td>13000000</td>\n",
       "      <td>1</td>\n",
       "      <td>1.0</td>\n",
       "      <td>...</td>\n",
       "      <td>UNFURNISHED</td>\n",
       "      <td>COMPLEX</td>\n",
       "      <td>RESIDENTIAL</td>\n",
       "      <td>RESIDENTIAL</td>\n",
       "      <td>Sindhi Society</td>\n",
       "      <td>cmf50r5a00000vcj0k1iuocuu</td>\n",
       "      <td>cmf51ieam0001vcj0kljobiod</td>\n",
       "      <td>cmf51ix980003vcj0z7abv17k</td>\n",
       "      <td>[\"https://pub-d28896f69c604ec5aa743cb0397740d9...</td>\n",
       "      <td>https://pub-d28896f69c604ec5aa743cb0397740d9.r...</td>\n",
       "    </tr>\n",
       "  </tbody>\n",
       "</table>\n",
       "<p>5 rows × 21 columns</p>\n",
       "</div>"
      ],
      "text/plain": [
       "  projectName              status       possessionDate  \\\n",
       "0     Ashwini  UNDER_CONSTRUCTION  2025-09-28 00:00:00   \n",
       "1     Ashwini  UNDER_CONSTRUCTION  2025-09-28 00:00:00   \n",
       "2  Pristine02       READY_TO_MOVE                  NaN   \n",
       "3  Pristine02       READY_TO_MOVE                  NaN   \n",
       "4   Gurukripa  UNDER_CONSTRUCTION                  NaN   \n",
       "\n",
       "                                         fullAddress  pincode  type  \\\n",
       "0                                     Mumbai chembur   411017  1BHK   \n",
       "1                                     Mumbai chembur   411017  2BHK   \n",
       "2  sr no 13 beside godrej, opposite to mca stadiu...   412101  2BHK   \n",
       "3  sr no 13 beside godrej, opposite to mca stadiu...   412101  2BHK   \n",
       "4  Sindhi Society, Near Swami Vivekanand Jr Colle...   400071  1BHK   \n",
       "\n",
       "   carpetArea      price  bathrooms  balcony  ... furnishedType  \\\n",
       "0      123.00   11111111          1      1.0  ...   UNFURNISHED   \n",
       "1      456.00   22222222          0      2.0  ...   UNFURNISHED   \n",
       "2      972.00  120000000         12      3.0  ...   UNFURNISHED   \n",
       "3      188.73  210000000          3      2.0  ...   UNFURNISHED   \n",
       "4      426.57   13000000          1      1.0  ...   UNFURNISHED   \n",
       "\n",
       "  projectCategory  projectType propertyCategory        landmark  \\\n",
       "0      STANDALONE  RESIDENTIAL      RESIDENTIAL    Babys school   \n",
       "1      STANDALONE  RESIDENTIAL      RESIDENTIAL    Babys school   \n",
       "2      STANDALONE  RESIDENTIAL      RESIDENTIAL      Sai nagar    \n",
       "3      STANDALONE  RESIDENTIAL      RESIDENTIAL      Sai nagar    \n",
       "4         COMPLEX  RESIDENTIAL      RESIDENTIAL  Sindhi Society   \n",
       "\n",
       "                      cityId                 localityId  \\\n",
       "0  cmf6nu3ru000gvcxspxarll3v  cmf6pksk30035vcxs7r2mo3iq   \n",
       "1  cmf6nu3ru000gvcxspxarll3v  cmf6pksk30035vcxs7r2mo3iq   \n",
       "2  cmf6nu3ru000gvcxspxarll3v  cmf6pk0cn0033vcxshxbf5hdh   \n",
       "3  cmf6nu3ru000gvcxspxarll3v  cmf6pk0cn0033vcxshxbf5hdh   \n",
       "4  cmf50r5a00000vcj0k1iuocuu  cmf51ieam0001vcj0kljobiod   \n",
       "\n",
       "               subLocalityId  \\\n",
       "0  cmfdkuymm0001vc90iiyzkr8d   \n",
       "1  cmfdkuymm0001vc90iiyzkr8d   \n",
       "2  cmfdn705v001pvc90uyle9m34   \n",
       "3  cmfdn705v001pvc90uyle9m34   \n",
       "4  cmf51ix980003vcj0z7abv17k   \n",
       "\n",
       "                                      propertyImages  \\\n",
       "0  [\"https://pub-d28896f69c604ec5aa743cb0397740d9...   \n",
       "1  [\"https://pub-d28896f69c604ec5aa743cb0397740d9...   \n",
       "2  [\"https://pub-d28896f69c604ec5aa743cb0397740d9...   \n",
       "3  [\"https://pub-d28896f69c604ec5aa743cb0397740d9...   \n",
       "4  [\"https://pub-d28896f69c604ec5aa743cb0397740d9...   \n",
       "\n",
       "                                      floorPlanImage  \n",
       "0  https://pub-d28896f69c604ec5aa743cb0397740d9.r...  \n",
       "1  https://pub-d28896f69c604ec5aa743cb0397740d9.r...  \n",
       "2  https://pub-d28896f69c604ec5aa743cb0397740d9.r...  \n",
       "3  https://pub-d28896f69c604ec5aa743cb0397740d9.r...  \n",
       "4  https://pub-d28896f69c604ec5aa743cb0397740d9.r...  \n",
       "\n",
       "[5 rows x 21 columns]"
      ]
     },
     "execution_count": 4,
     "metadata": {},
     "output_type": "execute_result"
    }
   ],
   "source": [
    "chatbot_df.head()"
   ]
  },
  {
   "cell_type": "code",
   "execution_count": 5,
   "id": "c27eb6a9",
   "metadata": {},
   "outputs": [
    {
     "name": "stderr",
     "output_type": "stream",
     "text": [
      "C:\\Users\\Global\\AppData\\Local\\Temp\\ipykernel_11860\\567421458.py:25: FutureWarning: A value is trying to be set on a copy of a DataFrame or Series through chained assignment using an inplace method.\n",
      "The behavior will change in pandas 3.0. This inplace method will never work because the intermediate object on which we are setting values always behaves as a copy.\n",
      "\n",
      "For example, when doing 'df[col].method(value, inplace=True)', try using 'df.method({col: value}, inplace=True)' or df[col] = df[col].method(value) instead, to perform the operation inplace on the original object.\n",
      "\n",
      "\n",
      "  chatbot_df[\"status\"].fillna(\"UNKNOWN\", inplace=True)\n",
      "C:\\Users\\Global\\AppData\\Local\\Temp\\ipykernel_11860\\567421458.py:26: FutureWarning: A value is trying to be set on a copy of a DataFrame or Series through chained assignment using an inplace method.\n",
      "The behavior will change in pandas 3.0. This inplace method will never work because the intermediate object on which we are setting values always behaves as a copy.\n",
      "\n",
      "For example, when doing 'df[col].method(value, inplace=True)', try using 'df.method({col: value}, inplace=True)' or df[col] = df[col].method(value) instead, to perform the operation inplace on the original object.\n",
      "\n",
      "\n",
      "  chatbot_df[\"listingType\"].fillna(\"Sell\", inplace=True)\n"
     ]
    }
   ],
   "source": [
    "\n",
    "# Convert 'price' to numeric (if in lakhs/crores)\n",
    "def clean_price(value):\n",
    "    if pd.isna(value):\n",
    "        return None\n",
    "    if isinstance(value, (int, float)):\n",
    "        return value\n",
    "    value = str(value).replace(\"₹\", \"\").replace(\",\", \"\").strip().lower()\n",
    "    if \"cr\" in value or \"crore\" in value:\n",
    "        num = float(re.findall(r\"[0-9.]+\", value)[0])\n",
    "        return num * 1e7\n",
    "    elif \"lakh\" in value or \"lac\" in value:\n",
    "        num = float(re.findall(r\"[0-9.]+\", value)[0])\n",
    "        return num * 1e5\n",
    "    elif re.search(r\"[0-9]\", value):\n",
    "        return float(re.findall(r\"[0-9.]+\", value)[0])\n",
    "    else:\n",
    "        return None\n",
    "\n",
    "chatbot_df[\"price\"] = chatbot_df[\"price\"].apply(clean_price)\n",
    "\n",
    "# Convert carpet area to numeric\n",
    "chatbot_df[\"carpetArea\"] = pd.to_numeric(chatbot_df[\"carpetArea\"], errors=\"coerce\")\n",
    "\n",
    "# Fill missing values with blank or zeros where appropriate\n",
    "chatbot_df[\"status\"].fillna(\"UNKNOWN\", inplace=True)\n",
    "chatbot_df[\"listingType\"].fillna(\"Sell\", inplace=True)\n",
    "\n",
    "# ---------- STEP 5: SAVE CLEANED DATA ----------\n",
    "chatbot_df.to_csv(\"cleaned_master_for_chatbot.csv\", index=False)"
   ]
  },
  {
   "cell_type": "code",
   "execution_count": 7,
   "id": "dc8c1044",
   "metadata": {},
   "outputs": [
    {
     "name": "stdout",
     "output_type": "stream",
     "text": [
      "✅ Cleaned dataset created successfully!\n",
      "Rows: 83, Columns: 21\n"
     ]
    },
    {
     "data": {
      "text/html": [
       "<div>\n",
       "<style scoped>\n",
       "    .dataframe tbody tr th:only-of-type {\n",
       "        vertical-align: middle;\n",
       "    }\n",
       "\n",
       "    .dataframe tbody tr th {\n",
       "        vertical-align: top;\n",
       "    }\n",
       "\n",
       "    .dataframe thead th {\n",
       "        text-align: right;\n",
       "    }\n",
       "</style>\n",
       "<table border=\"1\" class=\"dataframe\">\n",
       "  <thead>\n",
       "    <tr style=\"text-align: right;\">\n",
       "      <th></th>\n",
       "      <th>projectName</th>\n",
       "      <th>status</th>\n",
       "      <th>possessionDate</th>\n",
       "      <th>fullAddress</th>\n",
       "      <th>pincode</th>\n",
       "      <th>type</th>\n",
       "      <th>carpetArea</th>\n",
       "      <th>price</th>\n",
       "      <th>bathrooms</th>\n",
       "      <th>balcony</th>\n",
       "      <th>...</th>\n",
       "      <th>furnishedType</th>\n",
       "      <th>projectCategory</th>\n",
       "      <th>projectType</th>\n",
       "      <th>propertyCategory</th>\n",
       "      <th>landmark</th>\n",
       "      <th>cityId</th>\n",
       "      <th>localityId</th>\n",
       "      <th>subLocalityId</th>\n",
       "      <th>propertyImages</th>\n",
       "      <th>floorPlanImage</th>\n",
       "    </tr>\n",
       "  </thead>\n",
       "  <tbody>\n",
       "    <tr>\n",
       "      <th>0</th>\n",
       "      <td>Ashwini</td>\n",
       "      <td>UNDER_CONSTRUCTION</td>\n",
       "      <td>2025-09-28 00:00:00</td>\n",
       "      <td>Mumbai chembur</td>\n",
       "      <td>411017</td>\n",
       "      <td>1BHK</td>\n",
       "      <td>123.00</td>\n",
       "      <td>11111111</td>\n",
       "      <td>1</td>\n",
       "      <td>1.0</td>\n",
       "      <td>...</td>\n",
       "      <td>UNFURNISHED</td>\n",
       "      <td>STANDALONE</td>\n",
       "      <td>RESIDENTIAL</td>\n",
       "      <td>RESIDENTIAL</td>\n",
       "      <td>Babys school</td>\n",
       "      <td>cmf6nu3ru000gvcxspxarll3v</td>\n",
       "      <td>cmf6pksk30035vcxs7r2mo3iq</td>\n",
       "      <td>cmfdkuymm0001vc90iiyzkr8d</td>\n",
       "      <td>[\"https://pub-d28896f69c604ec5aa743cb0397740d9...</td>\n",
       "      <td>https://pub-d28896f69c604ec5aa743cb0397740d9.r...</td>\n",
       "    </tr>\n",
       "    <tr>\n",
       "      <th>1</th>\n",
       "      <td>Ashwini</td>\n",
       "      <td>UNDER_CONSTRUCTION</td>\n",
       "      <td>2025-09-28 00:00:00</td>\n",
       "      <td>Mumbai chembur</td>\n",
       "      <td>411017</td>\n",
       "      <td>2BHK</td>\n",
       "      <td>456.00</td>\n",
       "      <td>22222222</td>\n",
       "      <td>0</td>\n",
       "      <td>2.0</td>\n",
       "      <td>...</td>\n",
       "      <td>UNFURNISHED</td>\n",
       "      <td>STANDALONE</td>\n",
       "      <td>RESIDENTIAL</td>\n",
       "      <td>RESIDENTIAL</td>\n",
       "      <td>Babys school</td>\n",
       "      <td>cmf6nu3ru000gvcxspxarll3v</td>\n",
       "      <td>cmf6pksk30035vcxs7r2mo3iq</td>\n",
       "      <td>cmfdkuymm0001vc90iiyzkr8d</td>\n",
       "      <td>[\"https://pub-d28896f69c604ec5aa743cb0397740d9...</td>\n",
       "      <td>https://pub-d28896f69c604ec5aa743cb0397740d9.r...</td>\n",
       "    </tr>\n",
       "    <tr>\n",
       "      <th>2</th>\n",
       "      <td>Pristine02</td>\n",
       "      <td>READY_TO_MOVE</td>\n",
       "      <td>NaN</td>\n",
       "      <td>sr no 13 beside godrej, opposite to mca stadiu...</td>\n",
       "      <td>412101</td>\n",
       "      <td>2BHK</td>\n",
       "      <td>972.00</td>\n",
       "      <td>120000000</td>\n",
       "      <td>12</td>\n",
       "      <td>3.0</td>\n",
       "      <td>...</td>\n",
       "      <td>UNFURNISHED</td>\n",
       "      <td>STANDALONE</td>\n",
       "      <td>RESIDENTIAL</td>\n",
       "      <td>RESIDENTIAL</td>\n",
       "      <td>Sai nagar</td>\n",
       "      <td>cmf6nu3ru000gvcxspxarll3v</td>\n",
       "      <td>cmf6pk0cn0033vcxshxbf5hdh</td>\n",
       "      <td>cmfdn705v001pvc90uyle9m34</td>\n",
       "      <td>[\"https://pub-d28896f69c604ec5aa743cb0397740d9...</td>\n",
       "      <td>https://pub-d28896f69c604ec5aa743cb0397740d9.r...</td>\n",
       "    </tr>\n",
       "    <tr>\n",
       "      <th>3</th>\n",
       "      <td>Pristine02</td>\n",
       "      <td>READY_TO_MOVE</td>\n",
       "      <td>NaN</td>\n",
       "      <td>sr no 13 beside godrej, opposite to mca stadiu...</td>\n",
       "      <td>412101</td>\n",
       "      <td>2BHK</td>\n",
       "      <td>188.73</td>\n",
       "      <td>210000000</td>\n",
       "      <td>3</td>\n",
       "      <td>2.0</td>\n",
       "      <td>...</td>\n",
       "      <td>UNFURNISHED</td>\n",
       "      <td>STANDALONE</td>\n",
       "      <td>RESIDENTIAL</td>\n",
       "      <td>RESIDENTIAL</td>\n",
       "      <td>Sai nagar</td>\n",
       "      <td>cmf6nu3ru000gvcxspxarll3v</td>\n",
       "      <td>cmf6pk0cn0033vcxshxbf5hdh</td>\n",
       "      <td>cmfdn705v001pvc90uyle9m34</td>\n",
       "      <td>[\"https://pub-d28896f69c604ec5aa743cb0397740d9...</td>\n",
       "      <td>https://pub-d28896f69c604ec5aa743cb0397740d9.r...</td>\n",
       "    </tr>\n",
       "    <tr>\n",
       "      <th>4</th>\n",
       "      <td>Gurukripa</td>\n",
       "      <td>UNDER_CONSTRUCTION</td>\n",
       "      <td>NaN</td>\n",
       "      <td>Sindhi Society, Near Swami Vivekanand Jr Colle...</td>\n",
       "      <td>400071</td>\n",
       "      <td>1BHK</td>\n",
       "      <td>426.57</td>\n",
       "      <td>13000000</td>\n",
       "      <td>1</td>\n",
       "      <td>1.0</td>\n",
       "      <td>...</td>\n",
       "      <td>UNFURNISHED</td>\n",
       "      <td>COMPLEX</td>\n",
       "      <td>RESIDENTIAL</td>\n",
       "      <td>RESIDENTIAL</td>\n",
       "      <td>Sindhi Society</td>\n",
       "      <td>cmf50r5a00000vcj0k1iuocuu</td>\n",
       "      <td>cmf51ieam0001vcj0kljobiod</td>\n",
       "      <td>cmf51ix980003vcj0z7abv17k</td>\n",
       "      <td>[\"https://pub-d28896f69c604ec5aa743cb0397740d9...</td>\n",
       "      <td>https://pub-d28896f69c604ec5aa743cb0397740d9.r...</td>\n",
       "    </tr>\n",
       "  </tbody>\n",
       "</table>\n",
       "<p>5 rows × 21 columns</p>\n",
       "</div>"
      ],
      "text/plain": [
       "  projectName              status       possessionDate  \\\n",
       "0     Ashwini  UNDER_CONSTRUCTION  2025-09-28 00:00:00   \n",
       "1     Ashwini  UNDER_CONSTRUCTION  2025-09-28 00:00:00   \n",
       "2  Pristine02       READY_TO_MOVE                  NaN   \n",
       "3  Pristine02       READY_TO_MOVE                  NaN   \n",
       "4   Gurukripa  UNDER_CONSTRUCTION                  NaN   \n",
       "\n",
       "                                         fullAddress  pincode  type  \\\n",
       "0                                     Mumbai chembur   411017  1BHK   \n",
       "1                                     Mumbai chembur   411017  2BHK   \n",
       "2  sr no 13 beside godrej, opposite to mca stadiu...   412101  2BHK   \n",
       "3  sr no 13 beside godrej, opposite to mca stadiu...   412101  2BHK   \n",
       "4  Sindhi Society, Near Swami Vivekanand Jr Colle...   400071  1BHK   \n",
       "\n",
       "   carpetArea      price  bathrooms  balcony  ... furnishedType  \\\n",
       "0      123.00   11111111          1      1.0  ...   UNFURNISHED   \n",
       "1      456.00   22222222          0      2.0  ...   UNFURNISHED   \n",
       "2      972.00  120000000         12      3.0  ...   UNFURNISHED   \n",
       "3      188.73  210000000          3      2.0  ...   UNFURNISHED   \n",
       "4      426.57   13000000          1      1.0  ...   UNFURNISHED   \n",
       "\n",
       "  projectCategory  projectType propertyCategory        landmark  \\\n",
       "0      STANDALONE  RESIDENTIAL      RESIDENTIAL    Babys school   \n",
       "1      STANDALONE  RESIDENTIAL      RESIDENTIAL    Babys school   \n",
       "2      STANDALONE  RESIDENTIAL      RESIDENTIAL      Sai nagar    \n",
       "3      STANDALONE  RESIDENTIAL      RESIDENTIAL      Sai nagar    \n",
       "4         COMPLEX  RESIDENTIAL      RESIDENTIAL  Sindhi Society   \n",
       "\n",
       "                      cityId                 localityId  \\\n",
       "0  cmf6nu3ru000gvcxspxarll3v  cmf6pksk30035vcxs7r2mo3iq   \n",
       "1  cmf6nu3ru000gvcxspxarll3v  cmf6pksk30035vcxs7r2mo3iq   \n",
       "2  cmf6nu3ru000gvcxspxarll3v  cmf6pk0cn0033vcxshxbf5hdh   \n",
       "3  cmf6nu3ru000gvcxspxarll3v  cmf6pk0cn0033vcxshxbf5hdh   \n",
       "4  cmf50r5a00000vcj0k1iuocuu  cmf51ieam0001vcj0kljobiod   \n",
       "\n",
       "               subLocalityId  \\\n",
       "0  cmfdkuymm0001vc90iiyzkr8d   \n",
       "1  cmfdkuymm0001vc90iiyzkr8d   \n",
       "2  cmfdn705v001pvc90uyle9m34   \n",
       "3  cmfdn705v001pvc90uyle9m34   \n",
       "4  cmf51ix980003vcj0z7abv17k   \n",
       "\n",
       "                                      propertyImages  \\\n",
       "0  [\"https://pub-d28896f69c604ec5aa743cb0397740d9...   \n",
       "1  [\"https://pub-d28896f69c604ec5aa743cb0397740d9...   \n",
       "2  [\"https://pub-d28896f69c604ec5aa743cb0397740d9...   \n",
       "3  [\"https://pub-d28896f69c604ec5aa743cb0397740d9...   \n",
       "4  [\"https://pub-d28896f69c604ec5aa743cb0397740d9...   \n",
       "\n",
       "                                      floorPlanImage  \n",
       "0  https://pub-d28896f69c604ec5aa743cb0397740d9.r...  \n",
       "1  https://pub-d28896f69c604ec5aa743cb0397740d9.r...  \n",
       "2  https://pub-d28896f69c604ec5aa743cb0397740d9.r...  \n",
       "3  https://pub-d28896f69c604ec5aa743cb0397740d9.r...  \n",
       "4  https://pub-d28896f69c604ec5aa743cb0397740d9.r...  \n",
       "\n",
       "[5 rows x 21 columns]"
      ]
     },
     "execution_count": 7,
     "metadata": {},
     "output_type": "execute_result"
    }
   ],
   "source": [
    "print(\"✅ Cleaned dataset created successfully!\")\n",
    "print(f\"Rows: {len(chatbot_df)}, Columns: {len(chatbot_df.columns)}\")\n",
    "chatbot_df.head()"
   ]
  },
  {
   "cell_type": "code",
   "execution_count": 141,
   "id": "c9e09b07",
   "metadata": {},
   "outputs": [],
   "source": [
    "df = pd.read_csv(\"cleaned_master_for_chatbot.csv\")"
   ]
  },
  {
   "cell_type": "code",
   "execution_count": 142,
   "id": "188f972e",
   "metadata": {},
   "outputs": [
    {
     "data": {
      "text/html": [
       "<div>\n",
       "<style scoped>\n",
       "    .dataframe tbody tr th:only-of-type {\n",
       "        vertical-align: middle;\n",
       "    }\n",
       "\n",
       "    .dataframe tbody tr th {\n",
       "        vertical-align: top;\n",
       "    }\n",
       "\n",
       "    .dataframe thead th {\n",
       "        text-align: right;\n",
       "    }\n",
       "</style>\n",
       "<table border=\"1\" class=\"dataframe\">\n",
       "  <thead>\n",
       "    <tr style=\"text-align: right;\">\n",
       "      <th></th>\n",
       "      <th>projectName</th>\n",
       "      <th>status</th>\n",
       "      <th>possessionDate</th>\n",
       "      <th>fullAddress</th>\n",
       "      <th>pincode</th>\n",
       "      <th>type</th>\n",
       "      <th>carpetArea</th>\n",
       "      <th>price</th>\n",
       "      <th>bathrooms</th>\n",
       "      <th>balcony</th>\n",
       "      <th>...</th>\n",
       "      <th>furnishedType</th>\n",
       "      <th>projectCategory</th>\n",
       "      <th>projectType</th>\n",
       "      <th>propertyCategory</th>\n",
       "      <th>landmark</th>\n",
       "      <th>cityId</th>\n",
       "      <th>localityId</th>\n",
       "      <th>subLocalityId</th>\n",
       "      <th>propertyImages</th>\n",
       "      <th>floorPlanImage</th>\n",
       "    </tr>\n",
       "  </thead>\n",
       "  <tbody>\n",
       "    <tr>\n",
       "      <th>0</th>\n",
       "      <td>Ashwini</td>\n",
       "      <td>UNDER_CONSTRUCTION</td>\n",
       "      <td>2025-09-28 00:00:00</td>\n",
       "      <td>Mumbai chembur</td>\n",
       "      <td>411017</td>\n",
       "      <td>1BHK</td>\n",
       "      <td>123.00</td>\n",
       "      <td>11111111</td>\n",
       "      <td>1</td>\n",
       "      <td>1.0</td>\n",
       "      <td>...</td>\n",
       "      <td>UNFURNISHED</td>\n",
       "      <td>STANDALONE</td>\n",
       "      <td>RESIDENTIAL</td>\n",
       "      <td>RESIDENTIAL</td>\n",
       "      <td>Babys school</td>\n",
       "      <td>cmf6nu3ru000gvcxspxarll3v</td>\n",
       "      <td>cmf6pksk30035vcxs7r2mo3iq</td>\n",
       "      <td>cmfdkuymm0001vc90iiyzkr8d</td>\n",
       "      <td>[\"https://pub-d28896f69c604ec5aa743cb0397740d9...</td>\n",
       "      <td>https://pub-d28896f69c604ec5aa743cb0397740d9.r...</td>\n",
       "    </tr>\n",
       "    <tr>\n",
       "      <th>1</th>\n",
       "      <td>Ashwini</td>\n",
       "      <td>UNDER_CONSTRUCTION</td>\n",
       "      <td>2025-09-28 00:00:00</td>\n",
       "      <td>Mumbai chembur</td>\n",
       "      <td>411017</td>\n",
       "      <td>2BHK</td>\n",
       "      <td>456.00</td>\n",
       "      <td>22222222</td>\n",
       "      <td>0</td>\n",
       "      <td>2.0</td>\n",
       "      <td>...</td>\n",
       "      <td>UNFURNISHED</td>\n",
       "      <td>STANDALONE</td>\n",
       "      <td>RESIDENTIAL</td>\n",
       "      <td>RESIDENTIAL</td>\n",
       "      <td>Babys school</td>\n",
       "      <td>cmf6nu3ru000gvcxspxarll3v</td>\n",
       "      <td>cmf6pksk30035vcxs7r2mo3iq</td>\n",
       "      <td>cmfdkuymm0001vc90iiyzkr8d</td>\n",
       "      <td>[\"https://pub-d28896f69c604ec5aa743cb0397740d9...</td>\n",
       "      <td>https://pub-d28896f69c604ec5aa743cb0397740d9.r...</td>\n",
       "    </tr>\n",
       "    <tr>\n",
       "      <th>2</th>\n",
       "      <td>Pristine02</td>\n",
       "      <td>READY_TO_MOVE</td>\n",
       "      <td>NaN</td>\n",
       "      <td>sr no 13 beside godrej, opposite to mca stadiu...</td>\n",
       "      <td>412101</td>\n",
       "      <td>2BHK</td>\n",
       "      <td>972.00</td>\n",
       "      <td>120000000</td>\n",
       "      <td>12</td>\n",
       "      <td>3.0</td>\n",
       "      <td>...</td>\n",
       "      <td>UNFURNISHED</td>\n",
       "      <td>STANDALONE</td>\n",
       "      <td>RESIDENTIAL</td>\n",
       "      <td>RESIDENTIAL</td>\n",
       "      <td>Sai nagar</td>\n",
       "      <td>cmf6nu3ru000gvcxspxarll3v</td>\n",
       "      <td>cmf6pk0cn0033vcxshxbf5hdh</td>\n",
       "      <td>cmfdn705v001pvc90uyle9m34</td>\n",
       "      <td>[\"https://pub-d28896f69c604ec5aa743cb0397740d9...</td>\n",
       "      <td>https://pub-d28896f69c604ec5aa743cb0397740d9.r...</td>\n",
       "    </tr>\n",
       "    <tr>\n",
       "      <th>3</th>\n",
       "      <td>Pristine02</td>\n",
       "      <td>READY_TO_MOVE</td>\n",
       "      <td>NaN</td>\n",
       "      <td>sr no 13 beside godrej, opposite to mca stadiu...</td>\n",
       "      <td>412101</td>\n",
       "      <td>2BHK</td>\n",
       "      <td>188.73</td>\n",
       "      <td>210000000</td>\n",
       "      <td>3</td>\n",
       "      <td>2.0</td>\n",
       "      <td>...</td>\n",
       "      <td>UNFURNISHED</td>\n",
       "      <td>STANDALONE</td>\n",
       "      <td>RESIDENTIAL</td>\n",
       "      <td>RESIDENTIAL</td>\n",
       "      <td>Sai nagar</td>\n",
       "      <td>cmf6nu3ru000gvcxspxarll3v</td>\n",
       "      <td>cmf6pk0cn0033vcxshxbf5hdh</td>\n",
       "      <td>cmfdn705v001pvc90uyle9m34</td>\n",
       "      <td>[\"https://pub-d28896f69c604ec5aa743cb0397740d9...</td>\n",
       "      <td>https://pub-d28896f69c604ec5aa743cb0397740d9.r...</td>\n",
       "    </tr>\n",
       "    <tr>\n",
       "      <th>4</th>\n",
       "      <td>Gurukripa</td>\n",
       "      <td>UNDER_CONSTRUCTION</td>\n",
       "      <td>NaN</td>\n",
       "      <td>Sindhi Society, Near Swami Vivekanand Jr Colle...</td>\n",
       "      <td>400071</td>\n",
       "      <td>1BHK</td>\n",
       "      <td>426.57</td>\n",
       "      <td>13000000</td>\n",
       "      <td>1</td>\n",
       "      <td>1.0</td>\n",
       "      <td>...</td>\n",
       "      <td>UNFURNISHED</td>\n",
       "      <td>COMPLEX</td>\n",
       "      <td>RESIDENTIAL</td>\n",
       "      <td>RESIDENTIAL</td>\n",
       "      <td>Sindhi Society</td>\n",
       "      <td>cmf50r5a00000vcj0k1iuocuu</td>\n",
       "      <td>cmf51ieam0001vcj0kljobiod</td>\n",
       "      <td>cmf51ix980003vcj0z7abv17k</td>\n",
       "      <td>[\"https://pub-d28896f69c604ec5aa743cb0397740d9...</td>\n",
       "      <td>https://pub-d28896f69c604ec5aa743cb0397740d9.r...</td>\n",
       "    </tr>\n",
       "  </tbody>\n",
       "</table>\n",
       "<p>5 rows × 21 columns</p>\n",
       "</div>"
      ],
      "text/plain": [
       "  projectName              status       possessionDate  \\\n",
       "0     Ashwini  UNDER_CONSTRUCTION  2025-09-28 00:00:00   \n",
       "1     Ashwini  UNDER_CONSTRUCTION  2025-09-28 00:00:00   \n",
       "2  Pristine02       READY_TO_MOVE                  NaN   \n",
       "3  Pristine02       READY_TO_MOVE                  NaN   \n",
       "4   Gurukripa  UNDER_CONSTRUCTION                  NaN   \n",
       "\n",
       "                                         fullAddress  pincode  type  \\\n",
       "0                                     Mumbai chembur   411017  1BHK   \n",
       "1                                     Mumbai chembur   411017  2BHK   \n",
       "2  sr no 13 beside godrej, opposite to mca stadiu...   412101  2BHK   \n",
       "3  sr no 13 beside godrej, opposite to mca stadiu...   412101  2BHK   \n",
       "4  Sindhi Society, Near Swami Vivekanand Jr Colle...   400071  1BHK   \n",
       "\n",
       "   carpetArea      price  bathrooms  balcony  ... furnishedType  \\\n",
       "0      123.00   11111111          1      1.0  ...   UNFURNISHED   \n",
       "1      456.00   22222222          0      2.0  ...   UNFURNISHED   \n",
       "2      972.00  120000000         12      3.0  ...   UNFURNISHED   \n",
       "3      188.73  210000000          3      2.0  ...   UNFURNISHED   \n",
       "4      426.57   13000000          1      1.0  ...   UNFURNISHED   \n",
       "\n",
       "  projectCategory  projectType propertyCategory        landmark  \\\n",
       "0      STANDALONE  RESIDENTIAL      RESIDENTIAL    Babys school   \n",
       "1      STANDALONE  RESIDENTIAL      RESIDENTIAL    Babys school   \n",
       "2      STANDALONE  RESIDENTIAL      RESIDENTIAL      Sai nagar    \n",
       "3      STANDALONE  RESIDENTIAL      RESIDENTIAL      Sai nagar    \n",
       "4         COMPLEX  RESIDENTIAL      RESIDENTIAL  Sindhi Society   \n",
       "\n",
       "                      cityId                 localityId  \\\n",
       "0  cmf6nu3ru000gvcxspxarll3v  cmf6pksk30035vcxs7r2mo3iq   \n",
       "1  cmf6nu3ru000gvcxspxarll3v  cmf6pksk30035vcxs7r2mo3iq   \n",
       "2  cmf6nu3ru000gvcxspxarll3v  cmf6pk0cn0033vcxshxbf5hdh   \n",
       "3  cmf6nu3ru000gvcxspxarll3v  cmf6pk0cn0033vcxshxbf5hdh   \n",
       "4  cmf50r5a00000vcj0k1iuocuu  cmf51ieam0001vcj0kljobiod   \n",
       "\n",
       "               subLocalityId  \\\n",
       "0  cmfdkuymm0001vc90iiyzkr8d   \n",
       "1  cmfdkuymm0001vc90iiyzkr8d   \n",
       "2  cmfdn705v001pvc90uyle9m34   \n",
       "3  cmfdn705v001pvc90uyle9m34   \n",
       "4  cmf51ix980003vcj0z7abv17k   \n",
       "\n",
       "                                      propertyImages  \\\n",
       "0  [\"https://pub-d28896f69c604ec5aa743cb0397740d9...   \n",
       "1  [\"https://pub-d28896f69c604ec5aa743cb0397740d9...   \n",
       "2  [\"https://pub-d28896f69c604ec5aa743cb0397740d9...   \n",
       "3  [\"https://pub-d28896f69c604ec5aa743cb0397740d9...   \n",
       "4  [\"https://pub-d28896f69c604ec5aa743cb0397740d9...   \n",
       "\n",
       "                                      floorPlanImage  \n",
       "0  https://pub-d28896f69c604ec5aa743cb0397740d9.r...  \n",
       "1  https://pub-d28896f69c604ec5aa743cb0397740d9.r...  \n",
       "2  https://pub-d28896f69c604ec5aa743cb0397740d9.r...  \n",
       "3  https://pub-d28896f69c604ec5aa743cb0397740d9.r...  \n",
       "4  https://pub-d28896f69c604ec5aa743cb0397740d9.r...  \n",
       "\n",
       "[5 rows x 21 columns]"
      ]
     },
     "execution_count": 142,
     "metadata": {},
     "output_type": "execute_result"
    }
   ],
   "source": [
    "df.head()"
   ]
  },
  {
   "cell_type": "code",
   "execution_count": null,
   "id": "ab005ae2",
   "metadata": {},
   "outputs": [],
   "source": []
  },
  {
   "cell_type": "code",
   "execution_count": 124,
   "id": "18fb3d72",
   "metadata": {},
   "outputs": [
    {
     "data": {
      "text/plain": [
       "array(['UNDER_CONSTRUCTION', 'READY_TO_MOVE'], dtype=object)"
      ]
     },
     "execution_count": 124,
     "metadata": {},
     "output_type": "execute_result"
    }
   ],
   "source": [
    "df[\"status\"].unique()"
   ]
  },
  {
   "cell_type": "code",
   "execution_count": 12,
   "id": "c4a06a54",
   "metadata": {},
   "outputs": [
    {
     "data": {
      "text/plain": [
       "projectName          0\n",
       "status               0\n",
       "possessionDate      66\n",
       "fullAddress          0\n",
       "pincode              0\n",
       "type                 0\n",
       "carpetArea           0\n",
       "price                0\n",
       "bathrooms            0\n",
       "balcony              3\n",
       "listingType          0\n",
       "furnishedType        0\n",
       "projectCategory      0\n",
       "projectType          0\n",
       "propertyCategory     0\n",
       "landmark             0\n",
       "cityId               0\n",
       "localityId           0\n",
       "subLocalityId        0\n",
       "propertyImages       0\n",
       "floorPlanImage       2\n",
       "dtype: int64"
      ]
     },
     "execution_count": 12,
     "metadata": {},
     "output_type": "execute_result"
    }
   ],
   "source": [
    "df.isnull().sum()"
   ]
  },
  {
   "cell_type": "code",
   "execution_count": 17,
   "id": "dac1e708",
   "metadata": {},
   "outputs": [
    {
     "data": {
      "text/plain": [
       "0     Sell\n",
       "1     Sell\n",
       "2     Sell\n",
       "3     Sell\n",
       "4     Sell\n",
       "      ... \n",
       "78    Sell\n",
       "79    Sell\n",
       "80    Sell\n",
       "81    Sell\n",
       "82    Sell\n",
       "Name: listingType, Length: 83, dtype: object"
      ]
     },
     "execution_count": 17,
     "metadata": {},
     "output_type": "execute_result"
    }
   ],
   "source": [
    "df[\"listingType\"]"
   ]
  },
  {
   "cell_type": "code",
   "execution_count": 125,
   "id": "3aa1e4c9",
   "metadata": {},
   "outputs": [
    {
     "data": {
      "text/plain": [
       "array(['UNDER_CONSTRUCTION', 'READY_TO_MOVE'], dtype=object)"
      ]
     },
     "execution_count": 125,
     "metadata": {},
     "output_type": "execute_result"
    }
   ],
   "source": [
    "df[\"status\"].unique()"
   ]
  },
  {
   "cell_type": "code",
   "execution_count": 133,
   "id": "7c922b9b",
   "metadata": {},
   "outputs": [
    {
     "data": {
      "text/plain": [
       "array(['UNFURNISHED', 'FURNISHED', 'SEMI_FURNISHED'], dtype=object)"
      ]
     },
     "execution_count": 133,
     "metadata": {},
     "output_type": "execute_result"
    }
   ],
   "source": [
    "df[\"furnishedType\"].unique()"
   ]
  },
  {
   "cell_type": "code",
   "execution_count": 136,
   "id": "4dbd1882",
   "metadata": {},
   "outputs": [
    {
     "data": {
      "text/plain": [
       "dtype('int64')"
      ]
     },
     "execution_count": 136,
     "metadata": {},
     "output_type": "execute_result"
    }
   ],
   "source": [
    "df[\"bathrooms\"].dtype"
   ]
  },
  {
   "cell_type": "code",
   "execution_count": 144,
   "id": "525b42ed",
   "metadata": {},
   "outputs": [
    {
     "data": {
      "text/plain": [
       "array(['Sell'], dtype=object)"
      ]
     },
     "execution_count": 144,
     "metadata": {},
     "output_type": "execute_result"
    }
   ],
   "source": [
    "df[\"listingType\"].unique()"
   ]
  },
  {
   "cell_type": "code",
   "execution_count": 14,
   "id": "cedf52cc",
   "metadata": {},
   "outputs": [
    {
     "data": {
      "text/plain": [
       "(83, 21)"
      ]
     },
     "execution_count": 14,
     "metadata": {},
     "output_type": "execute_result"
    }
   ],
   "source": [
    "df.shape"
   ]
  },
  {
   "cell_type": "code",
   "execution_count": 274,
   "id": "78c3e4fb",
   "metadata": {},
   "outputs": [
    {
     "data": {
      "text/plain": [
       "{'carpetArea': 123,\n",
       " 'furnishedType': 'UNFURNISHED',\n",
       " 'listingType': 'Sell',\n",
       " 'fullAddress': 'Wakad, Pune',\n",
       " 'price': {'min': 1000000, 'max': 10000000},\n",
       " 'type': '1BHK'}"
      ]
     },
     "execution_count": 274,
     "metadata": {},
     "output_type": "execute_result"
    }
   ],
   "source": [
    "response"
   ]
  },
  {
   "cell_type": "code",
   "execution_count": 281,
   "id": "46dff69e",
   "metadata": {},
   "outputs": [
    {
     "data": {
      "text/plain": [
       "array(['UNDER_CONSTRUCTION', 'READY_TO_MOVE'], dtype=object)"
      ]
     },
     "execution_count": 281,
     "metadata": {},
     "output_type": "execute_result"
    }
   ],
   "source": [
    "df[\"status\"].unique()"
   ]
  },
  {
   "cell_type": "code",
   "execution_count": 279,
   "id": "ade3d30c",
   "metadata": {},
   "outputs": [
    {
     "data": {
      "text/plain": [
       "array(['STANDALONE', 'COMPLEX', 'TOWNSHIP'], dtype=object)"
      ]
     },
     "execution_count": 279,
     "metadata": {},
     "output_type": "execute_result"
    }
   ],
   "source": [
    "df[\"projectCategory\"].unique()"
   ]
  },
  {
   "cell_type": "code",
   "execution_count": 394,
   "id": "e8888392",
   "metadata": {},
   "outputs": [
    {
     "name": "stdout",
     "output_type": "stream",
     "text": [
      "Marigold Miraaya, Purushottam Kheraj Rd, Asha Nagar, Mulund West, Mumbai, Maharashtra 400080\n",
      "Marigold Miraaya, Purushottam Kheraj Rd, Asha Nagar, Mulund West, Mumbai, Maharashtra 400080\n",
      "64C5+C63 Dombivli East Dombivli Maharashtra 421301\n",
      "64C5+C63 Dombivli East Dombivli Maharashtra 421301\n",
      "3WG5+CHM, 90 Feet Rd, Garodia Nagar, Ghatkopar East, Mumbai, Maharashtra 400077\n",
      "3WG5+CHM, 90 Feet Rd, Garodia Nagar, Ghatkopar East, Mumbai, Maharashtra 400077\n",
      "3WG5+CHM, 90 Feet Rd, Garodia Nagar, Ghatkopar East, Mumbai, Maharashtra 400077\n",
      "Makwana Rd, Gamdevi, Marol, Andheri East, Mumbai, Maharashtra 400059\n",
      "Makwana Rd, Gamdevi, Marol, Andheri East, Mumbai, Maharashtra 400059\n",
      "Makwana Rd, Gamdevi, Marol, Andheri East, Mumbai, Maharashtra 400059\n",
      " Kate Wasti Rd, Kate Wasti, Punawale, Pimpri-Chinchwad, Dattwadi, Maharashtra 411033\n",
      " Kate Wasti Rd, Kate Wasti, Punawale, Pimpri-Chinchwad, Dattwadi, Maharashtra 411033\n",
      " Kate Wasti Rd, Kate Wasti, Punawale, Pimpri-Chinchwad, Dattwadi, Maharashtra 411033\n",
      "CTS NO 391, Station Rd, opp. Zilla Parishad, Mangalwar Peth, Somwar Peth, Pune, Maharashtra 411011\n",
      "CTS NO 391, Station Rd, opp. Zilla Parishad, Mangalwar Peth, Somwar Peth, Pune, Maharashtra 411011\n",
      "CTS NO 391, Station Rd, opp. Zilla Parishad, Mangalwar Peth, Somwar Peth, Pune, Maharashtra 411011\n",
      "CTS NO 391, Station Rd, opp. Zilla Parishad, Mangalwar Peth, Somwar Peth, Pune, Maharashtra 411011\n",
      "1102/A/48, Lakaki Rd, Model Colony, Shivajinagar, Pune, Maharashtra 411016\n",
      "Dinmanee, Squadron Leader Sureshchandra Bhagwat Rd, Model Colony, Shivajinagar, Pune, Maharashtra 411016\n",
      "Sr.no.36 Zoa, keshav nagar,Neatr renuka mata Temple Mundhwa, pune 411036\n"
     ]
    }
   ],
   "source": [
    "for i in range(30,50):\n",
    "    print(list(df[\"fullAddress\"])[i])"
   ]
  },
  {
   "cell_type": "code",
   "execution_count": 15,
   "id": "b0e1ef7f",
   "metadata": {},
   "outputs": [
    {
     "data": {
      "text/plain": [
       "Index(['projectName', 'status', 'possessionDate', 'fullAddress', 'pincode',\n",
       "       'type', 'carpetArea', 'price', 'bathrooms', 'balcony', 'listingType',\n",
       "       'furnishedType', 'projectCategory', 'projectType', 'propertyCategory',\n",
       "       'landmark', 'cityId', 'localityId', 'subLocalityId', 'propertyImages',\n",
       "       'floorPlanImage'],\n",
       "      dtype='object')"
      ]
     },
     "execution_count": 15,
     "metadata": {},
     "output_type": "execute_result"
    }
   ],
   "source": [
    "df.columns"
   ]
  },
  {
   "cell_type": "code",
   "execution_count": 398,
   "id": "63e2d48b",
   "metadata": {},
   "outputs": [
    {
     "data": {
      "text/plain": [
       "0      1\n",
       "1      0\n",
       "2     12\n",
       "3      3\n",
       "4      1\n",
       "      ..\n",
       "78     9\n",
       "79     1\n",
       "80     1\n",
       "81     2\n",
       "82     2\n",
       "Name: bathrooms, Length: 83, dtype: int64"
      ]
     },
     "execution_count": 398,
     "metadata": {},
     "output_type": "execute_result"
    }
   ],
   "source": [
    "df[\"bathrooms\"]"
   ]
  },
  {
   "cell_type": "code",
   "execution_count": 236,
   "id": "40e84dcd",
   "metadata": {},
   "outputs": [
    {
     "data": {
      "text/plain": [
       "0      11111111\n",
       "1      22222222\n",
       "2     120000000\n",
       "3     210000000\n",
       "4      13000000\n",
       "        ...    \n",
       "78     80000000\n",
       "79      7944000\n",
       "80     10700000\n",
       "81     15300000\n",
       "82     16700000\n",
       "Name: price, Length: 83, dtype: int64"
      ]
     },
     "execution_count": 236,
     "metadata": {},
     "output_type": "execute_result"
    }
   ],
   "source": [
    "df['price']"
   ]
  },
  {
   "cell_type": "code",
   "execution_count": 98,
   "id": "12af9d88",
   "metadata": {},
   "outputs": [
    {
     "data": {
      "text/plain": [
       "0     UNDER_CONSTRUCTION\n",
       "1     UNDER_CONSTRUCTION\n",
       "2          READY_TO_MOVE\n",
       "3          READY_TO_MOVE\n",
       "4     UNDER_CONSTRUCTION\n",
       "             ...        \n",
       "78    UNDER_CONSTRUCTION\n",
       "79    UNDER_CONSTRUCTION\n",
       "80    UNDER_CONSTRUCTION\n",
       "81    UNDER_CONSTRUCTION\n",
       "82    UNDER_CONSTRUCTION\n",
       "Name: status, Length: 83, dtype: object"
      ]
     },
     "execution_count": 98,
     "metadata": {},
     "output_type": "execute_result"
    }
   ],
   "source": [
    "df[\"status\"]"
   ]
  },
  {
   "cell_type": "code",
   "execution_count": 102,
   "id": "acd0cce6",
   "metadata": {},
   "outputs": [
    {
     "ename": "AttributeError",
     "evalue": "'str' object has no attribute 'astype'",
     "output_type": "error",
     "traceback": [
      "\u001b[1;31m---------------------------------------------------------------------------\u001b[0m",
      "\u001b[1;31mAttributeError\u001b[0m                            Traceback (most recent call last)",
      "Cell \u001b[1;32mIn[102], line 1\u001b[0m\n\u001b[1;32m----> 1\u001b[0m \u001b[38;5;124;43m\"\u001b[39;49m\u001b[38;5;124;43mhello\u001b[39;49m\u001b[38;5;124;43m\"\u001b[39;49m\u001b[38;5;241;43m.\u001b[39;49m\u001b[43mastype\u001b[49m(\u001b[38;5;28mstr\u001b[39m)\n",
      "\u001b[1;31mAttributeError\u001b[0m: 'str' object has no attribute 'astype'"
     ]
    }
   ],
   "source": [
    "\"hello\".astype(str)"
   ]
  },
  {
   "cell_type": "code",
   "execution_count": 79,
   "id": "96c79e11",
   "metadata": {},
   "outputs": [
    {
     "name": "stdout",
     "output_type": "stream",
     "text": [
      "Mumbai chembur\n",
      "Mumbai chembur\n",
      "sr no 13 beside godrej, opposite to mca stadium, sai nagar, mamurdi, pune \n",
      "sr no 13 beside godrej, opposite to mca stadium, sai nagar, mamurdi, pune \n",
      "Sindhi Society, Near Swami Vivekanand Jr College, Chembur, Mumbai Harbour, Mumbai\n",
      "Sindhi Society, Near Swami Vivekanand Jr College, Chembur, Mumbai Harbour, Mumbai\n",
      "Sindhi Society, Near Swami Vivekanand Jr College, Chembur, Mumbai Harbour, Mumbai\n",
      "Sindhi Society, Near Swami Vivekanand Jr College, Chembur, Mumbai Harbour, Mumbai\n",
      "Sindhi Society, Near Swami Vivekanand Jr College, Chembur, Mumbai Harbour, Mumbai\n",
      "Sindhi Society, Near Swami Vivekanand Jr College, Chembur, Mumbai Harbour, Mumbai\n"
     ]
    }
   ],
   "source": [
    "for i in list(df[\"fullAddress\"])[:10]:\n",
    "    print(i)"
   ]
  },
  {
   "cell_type": "code",
   "execution_count": 54,
   "id": "02390829",
   "metadata": {},
   "outputs": [
    {
     "data": {
      "text/plain": [
       "0     123.00\n",
       "1     456.00\n",
       "2     972.00\n",
       "3     188.73\n",
       "4     426.57\n",
       "       ...  \n",
       "78      7.00\n",
       "79    331.85\n",
       "80    396.97\n",
       "81    568.98\n",
       "82    619.89\n",
       "Name: carpetArea, Length: 83, dtype: float64"
      ]
     },
     "execution_count": 54,
     "metadata": {},
     "output_type": "execute_result"
    }
   ],
   "source": [
    "df[\"carpetArea\"]"
   ]
  },
  {
   "cell_type": "code",
   "execution_count": 19,
   "id": "ef31ac99",
   "metadata": {},
   "outputs": [
    {
     "data": {
      "text/plain": [
       "0     STANDALONE\n",
       "1     STANDALONE\n",
       "2     STANDALONE\n",
       "3     STANDALONE\n",
       "4        COMPLEX\n",
       "         ...    \n",
       "78       COMPLEX\n",
       "79    STANDALONE\n",
       "80      TOWNSHIP\n",
       "81      TOWNSHIP\n",
       "82      TOWNSHIP\n",
       "Name: projectCategory, Length: 83, dtype: object"
      ]
     },
     "execution_count": 19,
     "metadata": {},
     "output_type": "execute_result"
    }
   ],
   "source": [
    "df[\"projectCategory\"]"
   ]
  },
  {
   "cell_type": "code",
   "execution_count": 420,
   "id": "40763b24",
   "metadata": {},
   "outputs": [
    {
     "data": {
      "text/plain": [
       "Index(['projectName', 'status', 'possessionDate', 'fullAddress', 'pincode',\n",
       "       'type', 'carpetArea', 'price', 'bathrooms', 'balcony', 'listingType',\n",
       "       'furnishedType', 'projectCategory', 'projectType', 'propertyCategory',\n",
       "       'landmark', 'cityId', 'localityId', 'subLocalityId', 'propertyImages',\n",
       "       'floorPlanImage'],\n",
       "      dtype='object')"
      ]
     },
     "execution_count": 420,
     "metadata": {},
     "output_type": "execute_result"
    }
   ],
   "source": [
    "df.columns"
   ]
  },
  {
   "cell_type": "code",
   "execution_count": 33,
   "id": "0178b1e0",
   "metadata": {},
   "outputs": [
    {
     "data": {
      "text/plain": [
       "0     False\n",
       "1     False\n",
       "2     False\n",
       "3     False\n",
       "4     False\n",
       "      ...  \n",
       "78    False\n",
       "79    False\n",
       "80    False\n",
       "81    False\n",
       "82    False\n",
       "Name: projectType, Length: 83, dtype: bool"
      ]
     },
     "execution_count": 33,
     "metadata": {},
     "output_type": "execute_result"
    }
   ],
   "source": [
    "df[\"projectType\"] == \"Commercial\""
   ]
  },
  {
   "cell_type": "code",
   "execution_count": 18,
   "id": "4862d703",
   "metadata": {},
   "outputs": [
    {
     "data": {
      "text/plain": [
       "0     UNFURNISHED\n",
       "1     UNFURNISHED\n",
       "2     UNFURNISHED\n",
       "3     UNFURNISHED\n",
       "4     UNFURNISHED\n",
       "         ...     \n",
       "78    UNFURNISHED\n",
       "79    UNFURNISHED\n",
       "80    UNFURNISHED\n",
       "81    UNFURNISHED\n",
       "82    UNFURNISHED\n",
       "Name: furnishedType, Length: 83, dtype: object"
      ]
     },
     "execution_count": 18,
     "metadata": {},
     "output_type": "execute_result"
    }
   ],
   "source": [
    "df[\"furnishedType\"]"
   ]
  },
  {
   "cell_type": "code",
   "execution_count": 46,
   "id": "2966a731",
   "metadata": {},
   "outputs": [],
   "source": [
    "from langchain_openai import ChatOpenAI\n",
    "from dotenv import load_dotenv\n",
    "from langchain_core.prompts import PromptTemplate\n",
    "from dotenv import load_dotenv\n",
    "from langgraph.graph import START, END,StateGraph"
   ]
  },
  {
   "cell_type": "code",
   "execution_count": 109,
   "id": "2b1c98a8",
   "metadata": {},
   "outputs": [],
   "source": [
    "from typing import TypedDict,List,Dict,Optional,Any"
   ]
  },
  {
   "cell_type": "code",
   "execution_count": 51,
   "id": "37fe00e1",
   "metadata": {},
   "outputs": [
    {
     "data": {
      "text/plain": [
       "True"
      ]
     },
     "execution_count": 51,
     "metadata": {},
     "output_type": "execute_result"
    }
   ],
   "source": [
    "load_dotenv()"
   ]
  },
  {
   "cell_type": "code",
   "execution_count": 485,
   "id": "939b6e17",
   "metadata": {},
   "outputs": [],
   "source": [
    "llm = ChatOpenAI(model = \"gpt-4.1\")"
   ]
  },
  {
   "cell_type": "code",
   "execution_count": 486,
   "id": "e5463293",
   "metadata": {},
   "outputs": [
    {
     "data": {
      "text/plain": [
       "'Sure! Here’s a clear explanation of both:\\n\\n---\\n\\n## Data Science\\n\\n**Data Science** is an interdisciplinary field that involves using scientific methods, algorithms, and systems to extract knowledge and insights from structured and unstructured data. It combines aspects of statistics, mathematics, computer science, and domain expertise.\\n\\n- **Key Steps in Data Science:**\\n  1. **Data Collection:** Gathering relevant data from various sources.\\n  2. **Data Cleaning and Preparation:** Processing data to handle missing values, errors, and formatting.\\n  3. **Data Analysis and Exploration:** Using statistical and visualization tools to understand data patterns.\\n  4. **Modeling:** Applying algorithms to make predictions or find patterns (may include machine learning).\\n  5. **Communication:** Presenting insights through reports, dashboards, or visualizations.\\n\\n- **Applications:** Business analytics, healthcare predictions, finance, marketing, social sciences, and more.\\n\\n---\\n\\n## Artificial Intelligence (AI)\\n\\n**Artificial Intelligence (AI)** refers to the simulation of human intelligence by computer systems. AI involves creating algorithms and systems that can perform tasks typically requiring human intelligence—such as learning, reasoning, problem-solving, perception, and language understanding.\\n\\n- **Types of AI:**\\n  - **Narrow AI (Weak AI):** Performs specific tasks (e.g., voice assistants, spam filters).\\n  - **General AI (Strong AI):** AI with human-like cognitive abilities (still theoretical).\\n\\n- **Core Subfields:**\\n  - **Machine Learning:** AI systems that learn from data (often overlaps with data science).\\n  - **Natural Language Processing (NLP):** Understanding and generating human language.\\n  - **Computer Vision:** Recognizing and interpreting images and videos.\\n  - **Robotics:** Physical systems that can act and interact in the world.\\n\\n- **Applications:** Virtual assistants (Siri, Alexa), autonomous vehicles, recommendation engines, translation, healthcare diagnostics, and more.\\n\\n---\\n\\n## **In Summary:**\\n\\n- **Data Science** is about extracting insights and knowledge from data.\\n- **AI** is about creating machines that can perform tasks that require intelligence.\\n- **Connection:** Data science often uses AI techniques (especially machine learning) to analyze and interpret data.\\n\\nLet me know if you want more details or examples about either field!'"
      ]
     },
     "execution_count": 486,
     "metadata": {},
     "output_type": "execute_result"
    }
   ],
   "source": [
    "llm.invoke(\"what is data science and ai\").content"
   ]
  },
  {
   "cell_type": "code",
   "execution_count": 476,
   "id": "d448fe7a",
   "metadata": {},
   "outputs": [],
   "source": [
    "## i want the response of my main agent into a structured format with typeddict\n",
    "class PropertyQuery(TypedDict, total=False):\n",
    "    status: Optional[str]\n",
    "    possessionDate: Optional[str]\n",
    "    fullAddress: Optional[str]\n",
    "    pincode: Optional[str]\n",
    "    type: Optional[str]\n",
    "    carpetArea: Optional[float]\n",
    "    price: Optional[float]\n",
    "    bathrooms: Optional[int]\n",
    "    balcony: Optional[int]\n",
    "    listingType: Optional[str]\n",
    "    furnishedType: Optional[str]\n",
    "    projectCategory: Optional[str]\n",
    "    projectType: Optional[str]\n"
   ]
  },
  {
   "cell_type": "code",
   "execution_count": 488,
   "id": "f1e33aa1",
   "metadata": {},
   "outputs": [],
   "source": [
    "structured_llm = llm.with_structured_output(PropertyQuery)"
   ]
  },
  {
   "cell_type": "code",
   "execution_count": 478,
   "id": "2976a0b6",
   "metadata": {},
   "outputs": [],
   "source": [
    "from typing import Annotated, TypedDict, Optional\n",
    "\n",
    "def merge_dicts(existing: Optional[dict], new: dict) -> dict:\n",
    "    if existing is None:\n",
    "        return dict(new)\n",
    "    existing.update(new)   # new wins on sub-key collisions\n",
    "    return existing\n",
    "\n"
   ]
  },
  {
   "cell_type": "code",
   "execution_count": 457,
   "id": "18c5314c",
   "metadata": {},
   "outputs": [],
   "source": [
    "### first of all creating the state for the dictionary\n",
    "class State(TypedDict):\n",
    "    user_query:str\n",
    "    output_dict:Dict\n",
    "    df_dict:Annotated[dict, merge_dicts]\n",
    "    response:str\n"
   ]
  },
  {
   "cell_type": "code",
   "execution_count": 314,
   "id": "e09f16c0",
   "metadata": {},
   "outputs": [
    {
     "data": {
      "text/plain": [
       "'2025-09-28'"
      ]
     },
     "execution_count": 314,
     "metadata": {},
     "output_type": "execute_result"
    }
   ],
   "source": [
    "list(df['possessionDate'])[1].split( \" \")[0]"
   ]
  },
  {
   "cell_type": "code",
   "execution_count": 311,
   "id": "f247667a",
   "metadata": {},
   "outputs": [
    {
     "data": {
      "text/plain": [
       "float"
      ]
     },
     "execution_count": 311,
     "metadata": {},
     "output_type": "execute_result"
    }
   ],
   "source": [
    "type(list(df['possessionDate'])[10])"
   ]
  },
  {
   "cell_type": "code",
   "execution_count": 487,
   "id": "ac9871fb",
   "metadata": {},
   "outputs": [],
   "source": [
    "def main_agent(state:State) -> dict:\n",
    "    \"\"\"\n",
    "    Takes a user query like:\n",
    "        \"Show me 3BHK flats in Pune under ₹1.2 Cr\"\n",
    "    Returns a dictionary:\n",
    "        {\n",
    "          \"type\": \"3BHK\",\n",
    "          \"fullAddress\": \"Pune\",\n",
    "          \"price\": 12000000\n",
    "        }\n",
    "    \"\"\"\n",
    "\n",
    "    template = \"\"\"\n",
    "You are a strict JSON extractor for real-estate search queries.\n",
    "\n",
    "Task:\n",
    "Given a user's natural-language real-estate query, output **ONLY** a single valid JSON object (no extra text, no explanation). The JSON object must include ZERO or more keys from this exact set:\n",
    "\n",
    "[\n",
    "  \"status\",\n",
    "  \"possessionDate\",\n",
    "  \"fullAddress\",\n",
    "  \"pincode\",\n",
    "  \"type\",\n",
    "  \"carpetArea\",\n",
    "  \"price\",\n",
    "  \"bathrooms\",\n",
    "  \"balcony\",\n",
    "  \"listingType\",\n",
    "  \"furnishedType\",\n",
    "  \"projectCategory\",\n",
    "  \"projectType\"\n",
    "]\n",
    "\n",
    "Output rules & normalization:\n",
    "1. Price:\n",
    "   - Convert prices to numeric **rupees** (integers or floats).  \n",
    "     *Examples:* \"1.2 Cr\" -> 12000000, \"80 lakh\" -> 8000000.\n",
    "   \n",
    "   - If user says **\"above\"/\"over\"**, set `\"price\"` to a **single numeric value** representing the lower bound.\n",
    "     *Example:* \"above 50 lakh\" -> `\"price\": 5000000`\n",
    "   - If user gives a **range** (`\"between X and Y\"`), set `\"price\"` to an object with `{{\"min\": <rupees>, \"max\": <rupees>}}.\n",
    "     *Example:* \"between 50 and 80 lakh\" -> `\"price\": {{\"min\": 5000000, \"max\": 8000000}}\n",
    "   - - If user says **\"under\"/\"below\"/\"up to\"**, set `\"price\"` to a **single numeric value** representing the upper bound.\n",
    "     *Example:* \"under ₹1.2 Cr\" -> `{{\"min\":0,\"max\":12000000}}\n",
    "     IMPORTANT: price output format rules (BE VERY STRICT)\n",
    "- If the user expresses an upper bound using words like \"under\", \"below\", \"up to\", or \"maximum\", the model MUST output the price as an object with \"min\" and \"max\". Use min = 0 and max = <rupees value>.\n",
    "  Example: \"under 1.2 Cr\"  ->  \"price\": {{\"min\": 0, \"max\": 12000000}}\n",
    "- If the user expresses a lower bound using words like \"above\", \"over\", \"minimum\", the model MUST output price as an object with \"min\" and \"max\". Use max = null (or omit max) and min = <rupees value>.\n",
    "  Example: \"above 50 lakh\" -> \"price\": {{\"min\": 5000000, \"max\": null}}\n",
    "- If the user gives a closed range (\"between X and Y\"), the model MUST output price as {{\"min\": <rupees>, \"max\": <rupees>}}.\n",
    "- If the user gives an exact price (e.g., \"price 12,000,000\" or \"budget 1.2 Cr\" with no comparison word), the model MAY output either a numeric value or an object; prefer object for consistency is allowed but not required.\n",
    "- Always convert human units to rupees (1.2 Cr -> 12000000, 80 lakh -> 8000000).\n",
    "\n",
    "\n",
    "2. Type (BHK):\n",
    "   - Use the format `\"1BHK\"`, `\"2BHK\"`, `\"3BHK\"`, etc. Normalize words (\"three bhk\") to numeric form.\n",
    "\n",
    "3. possessionDate:\n",
    "   - This represents the **expected date when the property will be ready for possession (handover date)**.\n",
    "   - If the property is already ready to move in, use the status \"READY_TO_MOVE\" instead of setting a future possessionDate.\n",
    "   - If the user specifies a **future date, year, or range**, convert it into the ISO date format \"YYYY-MM-DD\".\n",
    "   - If the user only mentions a **year**, assume the start of that year (\"YYYY-01-01\").\n",
    "     Example: \"possession in 2025\" → \"possessionDate\": \"2025-01-01\"\n",
    "   - If the user mentions **by, before, or until a year**, treat it as **upper bound**.\n",
    "     Example: \"possession by 2026\" → \"possessionDate\": \"2026-01-01\"\n",
    "   - If the user says **after or from a year**, treat it as **lower bound**.\n",
    "     Example: \"possession after 2024\" → \"possessionDate\": \"2024-01-01\"\n",
    "   - If the user says **ready to move / already ready / immediate possession**, do **NOT** set possessionDate.\n",
    "     Instead, set `\"status\": \"READY_TO_MOVE\"`.\n",
    "   - Always use a valid date string in ISO format. Examples:\n",
    "       \"2025\" → \"2025-01-01\"\n",
    "       \"Dec 2024\" → \"2024-12-01\"\n",
    "       \"after 2023\" → \"2023-01-01\"\n",
    "   - If no clear possession information is given, **omit the key** (do not guess or hallucinate).\n",
    "   - Do not output explanatory text — only the JSON key-value pair.\n",
    "\n",
    "Examples (strictly follow these):\n",
    "\n",
    "Example 1:\n",
    "User: \"Show me 2BHK flats ready in 2025\"\n",
    "Output:\n",
    "{{\"type\": \"2BHK\", \"possessionDate\": \"2025-01-01\"}}\n",
    "\n",
    "Example 2:\n",
    "User: \"Flats with possession by 2026 in Mumbai\"\n",
    "Output:\n",
    "{{\"fullAddress\": \"Mumbai\", \"possessionDate\": \"2026-01-01\"}}\n",
    "\n",
    "Example 3:\n",
    "User: \"3BHK ready to move apartments in Pune\"\n",
    "Output:\n",
    "{{\"type\": \"3BHK\", \"status\": \"READY_TO_MOVE\", \"fullAddress\": \"Pune\"}}\n",
    "\n",
    "Example 4:\n",
    "User: \"Possession after 2024 near Baner\"\n",
    "Output:\n",
    "{{\"possessionDate\": \"2024-01-01\", \"fullAddress\": \"Baner\"}}\n",
    "\n",
    "Example 5:\n",
    "User: \"Ready to move property\"\n",
    "Output:\n",
    "{{\"status\": \"READY_TO_MOVE\"}}\n",
    "\n",
    "Example 6:\n",
    "User: \"Expected possession in December 2025\"\n",
    "Output:\n",
    "{{\"possessionDate\": \"2025-12-01\"}}\n",
    "\n",
    "4. fullAddress:\n",
    "   - Prefer the city / locality string that appears in the query (capitalized). e.g., \"Pune\", \"Wakad, Pune\", \"Chembur, Mumbai\".\n",
    "   - If the user gives a pincode, include `\"pincode\"` (string) too.\n",
    "\n",
    "5. pincode:\n",
    "   - 6-digit postal code as string.\n",
    "\n",
    "6. carpetArea:\n",
    "   - Numeric area in square feet (integer or float). Accept inputs like \"800 sqft\" -> 800.\n",
    "\n",
    "7. bathrooms and balcony:\n",
    "   - Integers.\n",
    "\n",
    "8. listingType:\n",
    "   - Normalize to `\"Sell\"` (for sale/resale) or `\"Rent\"`.\n",
    "\n",
    "9. furnishedType:\n",
    "   - Normalize to `\"FURNISHED\"`, `\"SEMI_FURNISHED\"`, or `\"UNFURNISHED\"`.\n",
    "\n",
    "10. projectCategory:\n",
    "    - `\"STANDALONE\"` or `\"COMPLEX\"`.\n",
    "\n",
    "11. projectType (and propertyCategory if implied):\n",
    "    - `\"RESIDENTIAL\"` or `\"COMMERCIAL\"`.\n",
    "12. status (The current status of the project):\n",
    "     - 'UNDER_CONSTRUCTION'or  'READY_TO_MOVE'\n",
    "\n",
    "\n",
    "12. If a key isn't clearly mentioned or implied in the query, DO NOT include that key.\n",
    "\n",
    "13. Always output valid JSON only. Do not output explanatory text, markdown, or code fences.\n",
    "\n",
    "14. If the user provides conflicting specifications, choose the most recent explicit statement in the query. If still ambiguous, omit the conflicting key.\n",
    "\n",
    "Examples (these are strict examples you must follow):\n",
    "\n",
    "Example A:\n",
    "User: \"Show me 3BHK flats in Pune of ₹1.2 Cr\"\n",
    "Output:\n",
    "{{\"type\":\"3BHK\",\"location\":\"Pune\",\"price\": 12000000 }}\n",
    "\n",
    "Example B:\n",
    "User: \"2 bhk semi-furnished for rent in Wakad, Pune above 800 sqft\"\n",
    "Output:\n",
    "{{\"type\":\"2BHK\",\"listingType\":\"Rent\",\"furnishedType\":\"SEMI_FURNISHED\",\"fullAddress\":\"Wakad, Pune\",\"carpetArea\":800}}\n",
    "\n",
    "Example C:\n",
    "User: \"Any ready-to-move 1 BHK in Mumbai pincode 400075\"\n",
    "Output:\n",
    "{{\"type\":\"1BHK\",\"status\":\"READY_TO_MOVE\",\"fullAddress\":\"Mumbai\",\"pincode\":\"400075\"}}\n",
    "\n",
    "Example D:\n",
    "User: \"3BHK with 2 bathrooms and 2 balconies in Bangalore under 90 lakh\"\n",
    "Output:\n",
    "{{\"type\":\"3BHK\",\"bathrooms\":2,\"balcony\":2,\"fullAddress\":\"Bangalore\",\"price\":9000000}}\n",
    "\n",
    "Example E:\n",
    "User: \"Looking for a standalone complex, 4BHK, possession by 2026, fully furnished\"\n",
    "Output:\n",
    "{{\"projectCategory\":\"STANDALONE\",\"type\":\"4BHK\",\"possessionDate\":\"2026-01-01\",\"furnishedType\":\"FURNISHED\"}}\n",
    "\n",
    "\n",
    "\n",
    "Example F:\n",
    "User: \"I want a commercial shop for rent near MG Road, Bangalore, budget 1.5 Cr\"\n",
    "Output:\n",
    "{{\"projectType\":\"COMMERCIAL\",\"listingType\":\"Rent\",\"fullAddress\":\"MG Road, Bangalore\",\"price\":15000000}}\n",
    "\n",
    "Example G:\n",
    "User: \"Unfurnished 1 BHK for sale, carpet area 450 sqft, under 35 L\"\n",
    "Output:\n",
    "{{\"type\":\"1BHK\",\"furnishedType\":\"UNFURNISHED\",\"listingType\":\"Sell\",\"carpetArea\":450,\"price\":3500000}}\n",
    "\n",
    "Example H:\n",
    "User: \"Flats ready in 2024 in Chembur with at least 2 balconies\"\n",
    "Output:\n",
    "{{\"possessionDate\":\"2024-01-01\",\"fullAddress\":\"Chembur\",\"balcony\":2}}\n",
    "\n",
    "Example I:\n",
    "User: \"2 BHK resale in Noida with 2 bathrooms and pincode 201301\"\n",
    "Output:\n",
    "{{\"type\":\"2BHK\",\"listingType\":\"Sell\",\"fullAddress\":\"Noida\",\"bathrooms\":2,\"pincode\":\"201301\"}}\n",
    "\n",
    "Now, process this user query and **output ONLY** the JSON object (no commentary):\n",
    "\n",
    "User: {user_query}\n",
    "    \n",
    "    \n",
    "\n",
    "                                                                                 \"\"\"\n",
    "    user_query = state.get(\"user_query\")\n",
    "    prompt = PromptTemplate(template = template,input_variables = [\"user_query\"])\n",
    "\n",
    "    chain = prompt | structured_llm \n",
    "    response = chain.invoke({\"user_query\":user_query})\n",
    "    return {\"output_dict\":response}"
   ]
  },
  {
   "cell_type": "code",
   "execution_count": 180,
   "id": "04062fe7",
   "metadata": {},
   "outputs": [
    {
     "data": {
      "text/plain": [
       "array(['1BHK', '2BHK', '3BHK', 'Office', 'Office space', '4.5BHK', '5BHK',\n",
       "       '4BHK', 'House_Villa', '1RK '], dtype=object)"
      ]
     },
     "execution_count": 180,
     "metadata": {},
     "output_type": "execute_result"
    }
   ],
   "source": [
    "df[\"type\"].unique()"
   ]
  },
  {
   "cell_type": "code",
   "execution_count": 172,
   "id": "19dae140",
   "metadata": {},
   "outputs": [
    {
     "data": {
      "text/plain": [
       "array(['UNFURNISHED', 'FURNISHED', 'SEMI_FURNISHED'], dtype=object)"
      ]
     },
     "execution_count": 172,
     "metadata": {},
     "output_type": "execute_result"
    }
   ],
   "source": [
    "df[\"furnishedType\"].unique()"
   ]
  },
  {
   "cell_type": "code",
   "execution_count": 202,
   "id": "3fb43ebc",
   "metadata": {},
   "outputs": [
    {
     "data": {
      "text/plain": [
       "array(['Sell'], dtype=object)"
      ]
     },
     "execution_count": 202,
     "metadata": {},
     "output_type": "execute_result"
    }
   ],
   "source": [
    "df[\"listingType\"].unique()"
   ]
  },
  {
   "cell_type": "code",
   "execution_count": 224,
   "id": "f0f27238",
   "metadata": {},
   "outputs": [
    {
     "data": {
      "text/plain": [
       "dtype('float64')"
      ]
     },
     "execution_count": 224,
     "metadata": {},
     "output_type": "execute_result"
    }
   ],
   "source": [
    "df['carpetArea'].dtype"
   ]
  },
  {
   "cell_type": "code",
   "execution_count": 203,
   "id": "440e40a7",
   "metadata": {},
   "outputs": [
    {
     "data": {
      "text/plain": [
       "{'status': 'UNDER_CONSTRUCTION',\n",
       " 'type': '1BHK',\n",
       " 'furnishedType': 'UNFURNISHED',\n",
       " 'listingType': 'Sell',\n",
       " 'fullAddress': 'Wakad, Pune',\n",
       " 'carpetArea': 800}"
      ]
     },
     "execution_count": 203,
     "metadata": {},
     "output_type": "execute_result"
    }
   ],
   "source": [
    "response"
   ]
  },
  {
   "cell_type": "code",
   "execution_count": 222,
   "id": "39a5bc0a",
   "metadata": {},
   "outputs": [
    {
     "data": {
      "text/plain": [
       "array(['UNDER_CONSTRUCTION', 'READY_TO_MOVE'], dtype=object)"
      ]
     },
     "execution_count": 222,
     "metadata": {},
     "output_type": "execute_result"
    }
   ],
   "source": [
    "df[\"status\"].unique()"
   ]
  },
  {
   "cell_type": "code",
   "execution_count": 219,
   "id": "7f3a3543",
   "metadata": {},
   "outputs": [
    {
     "data": {
      "text/plain": [
       "83"
      ]
     },
     "execution_count": 219,
     "metadata": {},
     "output_type": "execute_result"
    }
   ],
   "source": [
    "len(df)"
   ]
  },
  {
   "cell_type": "code",
   "execution_count": 230,
   "id": "dc2e5ee0",
   "metadata": {},
   "outputs": [
    {
     "data": {
      "text/plain": [
       "0     123.00\n",
       "1     456.00\n",
       "2     972.00\n",
       "3     188.73\n",
       "4     426.57\n",
       "       ...  \n",
       "78      7.00\n",
       "79    331.85\n",
       "80    396.97\n",
       "81    568.98\n",
       "82    619.89\n",
       "Name: carpetArea, Length: 83, dtype: float64"
      ]
     },
     "execution_count": 230,
     "metadata": {},
     "output_type": "execute_result"
    }
   ],
   "source": [
    "df[\"carpetArea\"]"
   ]
  },
  {
   "cell_type": "code",
   "execution_count": 238,
   "id": "88bd100b",
   "metadata": {},
   "outputs": [
    {
     "data": {
      "text/plain": [
       "np.int64(790000)"
      ]
     },
     "execution_count": 238,
     "metadata": {},
     "output_type": "execute_result"
    }
   ],
   "source": [
    "df[\"price\"].min()"
   ]
  },
  {
   "cell_type": "code",
   "execution_count": 411,
   "id": "80aa3bfa",
   "metadata": {},
   "outputs": [
    {
     "data": {
      "text/plain": [
       "{'status': 'UNDER_CONSTRUCTION',\n",
       " 'fullAddress': 'Wakad, Pune',\n",
       " 'type': '1BHK',\n",
       " 'listingType': 'Sell',\n",
       " 'furnishedType': 'UNFURNISHED',\n",
       " 'carpetArea': 123,\n",
       " 'bathrooms': 2,\n",
       " 'balcony': 1,\n",
       " 'price': {'min': 1000000, 'max': 10000000}}"
      ]
     },
     "execution_count": 411,
     "metadata": {},
     "output_type": "execute_result"
    }
   ],
   "source": [
    "response = main_agent(\"1 bhk unfurnished for buying in wakad, pune above 123 sqft ,with two bathrooms and one balcony of price range 1000000 to 10000000\")\n",
    "response"
   ]
  },
  {
   "cell_type": "code",
   "execution_count": 412,
   "id": "cc415d19",
   "metadata": {},
   "outputs": [
    {
     "data": {
      "text/plain": [
       "['status',\n",
       " 'fullAddress',\n",
       " 'type',\n",
       " 'listingType',\n",
       " 'furnishedType',\n",
       " 'carpetArea',\n",
       " 'bathrooms',\n",
       " 'balcony',\n",
       " 'price']"
      ]
     },
     "execution_count": 412,
     "metadata": {},
     "output_type": "execute_result"
    }
   ],
   "source": [
    "list(response.keys())"
   ]
  },
  {
   "cell_type": "code",
   "execution_count": 367,
   "id": "54590be4",
   "metadata": {},
   "outputs": [
    {
     "data": {
      "text/plain": [
       "0     2025-09-28 00:00:00\n",
       "1     2025-09-28 00:00:00\n",
       "2                     NaN\n",
       "3                     NaN\n",
       "4                     NaN\n",
       "             ...         \n",
       "78    2025-09-25 00:00:00\n",
       "79    2027-12-31 00:00:00\n",
       "80    2027-12-31 00:00:00\n",
       "81    2027-12-31 00:00:00\n",
       "82    2027-12-31 00:00:00\n",
       "Name: possessionDate, Length: 83, dtype: object"
      ]
     },
     "execution_count": 367,
     "metadata": {},
     "output_type": "execute_result"
    }
   ],
   "source": [
    "df[\"possessionDate\"]"
   ]
  },
  {
   "cell_type": "code",
   "execution_count": 377,
   "id": "dffc88cc",
   "metadata": {},
   "outputs": [],
   "source": [
    "object1 = convert_to_date(\"2025-09-28\")\n",
    "object2 = convert_to_date(\"2025-12-01\")"
   ]
  },
  {
   "cell_type": "code",
   "execution_count": 376,
   "id": "e1412efb",
   "metadata": {},
   "outputs": [
    {
     "data": {
      "text/plain": [
       "True"
      ]
     },
     "execution_count": 376,
     "metadata": {},
     "output_type": "execute_result"
    }
   ],
   "source": [
    "object1 > object2"
   ]
  },
  {
   "cell_type": "code",
   "execution_count": 371,
   "id": "d7c4db5b",
   "metadata": {},
   "outputs": [
    {
     "data": {
      "text/plain": [
       "True"
      ]
     },
     "execution_count": 371,
     "metadata": {},
     "output_type": "execute_result"
    }
   ],
   "source": [
    "object1 > object2"
   ]
  },
  {
   "cell_type": "code",
   "execution_count": 369,
   "id": "4b8ed095",
   "metadata": {},
   "outputs": [
    {
     "data": {
      "text/plain": [
       "False"
      ]
     },
     "execution_count": 369,
     "metadata": {},
     "output_type": "execute_result"
    }
   ],
   "source": [
    "## according to the conditions this must be true\n",
    "object2 > object1"
   ]
  },
  {
   "cell_type": "code",
   "execution_count": 364,
   "id": "0609604b",
   "metadata": {},
   "outputs": [
    {
     "data": {
      "text/plain": [
       "{'type': '1BHK',\n",
       " 'furnishedType': 'UNFURNISHED',\n",
       " 'listingType': 'Sell',\n",
       " 'fullAddress': 'Wakad, Pune',\n",
       " 'carpetArea': 123,\n",
       " 'price': {'min': 0, 'max': 10000000},\n",
       " 'possessionDate': '2025-12-01'}"
      ]
     },
     "execution_count": 364,
     "metadata": {},
     "output_type": "execute_result"
    }
   ],
   "source": [
    "response = main_agent(\"1 bhk unfurnished for buying in wakad, pune above 123 sqft upto price 1 crore should be ready before  dec 2025\")\n",
    "response"
   ]
  },
  {
   "cell_type": "code",
   "execution_count": 264,
   "id": "5d2a1637",
   "metadata": {},
   "outputs": [
    {
     "data": {
      "text/plain": [
       "dtype('int64')"
      ]
     },
     "execution_count": 264,
     "metadata": {},
     "output_type": "execute_result"
    }
   ],
   "source": [
    "df[\"price\"].dtype"
   ]
  },
  {
   "cell_type": "code",
   "execution_count": 241,
   "id": "c0e38b06",
   "metadata": {},
   "outputs": [
    {
     "data": {
      "text/plain": [
       "int"
      ]
     },
     "execution_count": 241,
     "metadata": {},
     "output_type": "execute_result"
    }
   ],
   "source": [
    "type(response.get(\"price\"))"
   ]
  },
  {
   "cell_type": "code",
   "execution_count": 84,
   "id": "07b019aa",
   "metadata": {},
   "outputs": [
    {
     "name": "stdout",
     "output_type": "stream",
     "text": [
      "['Mumbai', 'chembur']\n",
      "['Mumbai', 'chembur']\n",
      "['sr', 'no', '13', 'beside', 'godrej,', 'opposite', 'to', 'mca', 'stadium,', 'sai', 'nagar,', 'mamurdi,', 'pune', '']\n",
      "['sr', 'no', '13', 'beside', 'godrej,', 'opposite', 'to', 'mca', 'stadium,', 'sai', 'nagar,', 'mamurdi,', 'pune', '']\n",
      "['Sindhi', 'Society,', 'Near', 'Swami', 'Vivekanand', 'Jr', 'College,', 'Chembur,', 'Mumbai', 'Harbour,', 'Mumbai']\n",
      "['Sindhi', 'Society,', 'Near', 'Swami', 'Vivekanand', 'Jr', 'College,', 'Chembur,', 'Mumbai', 'Harbour,', 'Mumbai']\n",
      "['Sindhi', 'Society,', 'Near', 'Swami', 'Vivekanand', 'Jr', 'College,', 'Chembur,', 'Mumbai', 'Harbour,', 'Mumbai']\n",
      "['Sindhi', 'Society,', 'Near', 'Swami', 'Vivekanand', 'Jr', 'College,', 'Chembur,', 'Mumbai', 'Harbour,', 'Mumbai']\n",
      "['Sindhi', 'Society,', 'Near', 'Swami', 'Vivekanand', 'Jr', 'College,', 'Chembur,', 'Mumbai', 'Harbour,', 'Mumbai']\n",
      "['Sindhi', 'Society,', 'Near', 'Swami', 'Vivekanand', 'Jr', 'College,', 'Chembur,', 'Mumbai', 'Harbour,', 'Mumbai']\n"
     ]
    }
   ],
   "source": [
    "for i in list(df[\"fullAddress\"])[:10]:\n",
    "    print(i.split(\" \"))"
   ]
  },
  {
   "cell_type": "code",
   "execution_count": 87,
   "id": "ff82e5e7",
   "metadata": {},
   "outputs": [
    {
     "data": {
      "text/plain": [
       "'Wakad, Pune'"
      ]
     },
     "execution_count": 87,
     "metadata": {},
     "output_type": "execute_result"
    }
   ],
   "source": [
    "address = response[\"fullAddress\"]\n",
    "address"
   ]
  },
  {
   "cell_type": "code",
   "execution_count": 88,
   "id": "55719a5d",
   "metadata": {},
   "outputs": [
    {
     "data": {
      "text/plain": [
       "['Wakad', ' Pune']"
      ]
     },
     "execution_count": 88,
     "metadata": {},
     "output_type": "execute_result"
    }
   ],
   "source": [
    "address.split(\",\")"
   ]
  },
  {
   "cell_type": "code",
   "execution_count": null,
   "id": "29dc2b6e",
   "metadata": {},
   "outputs": [],
   "source": [
    "## first of all i will be creating agents for each condition possible\n",
    "## or we can say creating agent for each column present in the dataset"
   ]
  },
  {
   "cell_type": "code",
   "execution_count": 105,
   "id": "7227d501",
   "metadata": {},
   "outputs": [
    {
     "data": {
      "text/html": [
       "<div>\n",
       "<style scoped>\n",
       "    .dataframe tbody tr th:only-of-type {\n",
       "        vertical-align: middle;\n",
       "    }\n",
       "\n",
       "    .dataframe tbody tr th {\n",
       "        vertical-align: top;\n",
       "    }\n",
       "\n",
       "    .dataframe thead th {\n",
       "        text-align: right;\n",
       "    }\n",
       "</style>\n",
       "<table border=\"1\" class=\"dataframe\">\n",
       "  <thead>\n",
       "    <tr style=\"text-align: right;\">\n",
       "      <th></th>\n",
       "      <th>projectName</th>\n",
       "      <th>status</th>\n",
       "      <th>possessionDate</th>\n",
       "      <th>fullAddress</th>\n",
       "      <th>pincode</th>\n",
       "      <th>type</th>\n",
       "      <th>carpetArea</th>\n",
       "      <th>price</th>\n",
       "      <th>bathrooms</th>\n",
       "      <th>balcony</th>\n",
       "      <th>...</th>\n",
       "      <th>furnishedType</th>\n",
       "      <th>projectCategory</th>\n",
       "      <th>projectType</th>\n",
       "      <th>propertyCategory</th>\n",
       "      <th>landmark</th>\n",
       "      <th>cityId</th>\n",
       "      <th>localityId</th>\n",
       "      <th>subLocalityId</th>\n",
       "      <th>propertyImages</th>\n",
       "      <th>floorPlanImage</th>\n",
       "    </tr>\n",
       "  </thead>\n",
       "  <tbody>\n",
       "    <tr>\n",
       "      <th>0</th>\n",
       "      <td>Ashwini</td>\n",
       "      <td>UNDER_CONSTRUCTION</td>\n",
       "      <td>2025-09-28 00:00:00</td>\n",
       "      <td>Mumbai chembur</td>\n",
       "      <td>411017</td>\n",
       "      <td>1BHK</td>\n",
       "      <td>123.00</td>\n",
       "      <td>11111111</td>\n",
       "      <td>1</td>\n",
       "      <td>1.0</td>\n",
       "      <td>...</td>\n",
       "      <td>UNFURNISHED</td>\n",
       "      <td>STANDALONE</td>\n",
       "      <td>RESIDENTIAL</td>\n",
       "      <td>RESIDENTIAL</td>\n",
       "      <td>Babys school</td>\n",
       "      <td>cmf6nu3ru000gvcxspxarll3v</td>\n",
       "      <td>cmf6pksk30035vcxs7r2mo3iq</td>\n",
       "      <td>cmfdkuymm0001vc90iiyzkr8d</td>\n",
       "      <td>[\"https://pub-d28896f69c604ec5aa743cb0397740d9...</td>\n",
       "      <td>https://pub-d28896f69c604ec5aa743cb0397740d9.r...</td>\n",
       "    </tr>\n",
       "    <tr>\n",
       "      <th>1</th>\n",
       "      <td>Ashwini</td>\n",
       "      <td>UNDER_CONSTRUCTION</td>\n",
       "      <td>2025-09-28 00:00:00</td>\n",
       "      <td>Mumbai chembur</td>\n",
       "      <td>411017</td>\n",
       "      <td>2BHK</td>\n",
       "      <td>456.00</td>\n",
       "      <td>22222222</td>\n",
       "      <td>0</td>\n",
       "      <td>2.0</td>\n",
       "      <td>...</td>\n",
       "      <td>UNFURNISHED</td>\n",
       "      <td>STANDALONE</td>\n",
       "      <td>RESIDENTIAL</td>\n",
       "      <td>RESIDENTIAL</td>\n",
       "      <td>Babys school</td>\n",
       "      <td>cmf6nu3ru000gvcxspxarll3v</td>\n",
       "      <td>cmf6pksk30035vcxs7r2mo3iq</td>\n",
       "      <td>cmfdkuymm0001vc90iiyzkr8d</td>\n",
       "      <td>[\"https://pub-d28896f69c604ec5aa743cb0397740d9...</td>\n",
       "      <td>https://pub-d28896f69c604ec5aa743cb0397740d9.r...</td>\n",
       "    </tr>\n",
       "    <tr>\n",
       "      <th>2</th>\n",
       "      <td>Pristine02</td>\n",
       "      <td>READY_TO_MOVE</td>\n",
       "      <td>NaN</td>\n",
       "      <td>sr no 13 beside godrej, opposite to mca stadiu...</td>\n",
       "      <td>412101</td>\n",
       "      <td>2BHK</td>\n",
       "      <td>972.00</td>\n",
       "      <td>120000000</td>\n",
       "      <td>12</td>\n",
       "      <td>3.0</td>\n",
       "      <td>...</td>\n",
       "      <td>UNFURNISHED</td>\n",
       "      <td>STANDALONE</td>\n",
       "      <td>RESIDENTIAL</td>\n",
       "      <td>RESIDENTIAL</td>\n",
       "      <td>Sai nagar</td>\n",
       "      <td>cmf6nu3ru000gvcxspxarll3v</td>\n",
       "      <td>cmf6pk0cn0033vcxshxbf5hdh</td>\n",
       "      <td>cmfdn705v001pvc90uyle9m34</td>\n",
       "      <td>[\"https://pub-d28896f69c604ec5aa743cb0397740d9...</td>\n",
       "      <td>https://pub-d28896f69c604ec5aa743cb0397740d9.r...</td>\n",
       "    </tr>\n",
       "    <tr>\n",
       "      <th>3</th>\n",
       "      <td>Pristine02</td>\n",
       "      <td>READY_TO_MOVE</td>\n",
       "      <td>NaN</td>\n",
       "      <td>sr no 13 beside godrej, opposite to mca stadiu...</td>\n",
       "      <td>412101</td>\n",
       "      <td>2BHK</td>\n",
       "      <td>188.73</td>\n",
       "      <td>210000000</td>\n",
       "      <td>3</td>\n",
       "      <td>2.0</td>\n",
       "      <td>...</td>\n",
       "      <td>UNFURNISHED</td>\n",
       "      <td>STANDALONE</td>\n",
       "      <td>RESIDENTIAL</td>\n",
       "      <td>RESIDENTIAL</td>\n",
       "      <td>Sai nagar</td>\n",
       "      <td>cmf6nu3ru000gvcxspxarll3v</td>\n",
       "      <td>cmf6pk0cn0033vcxshxbf5hdh</td>\n",
       "      <td>cmfdn705v001pvc90uyle9m34</td>\n",
       "      <td>[\"https://pub-d28896f69c604ec5aa743cb0397740d9...</td>\n",
       "      <td>https://pub-d28896f69c604ec5aa743cb0397740d9.r...</td>\n",
       "    </tr>\n",
       "    <tr>\n",
       "      <th>4</th>\n",
       "      <td>Gurukripa</td>\n",
       "      <td>UNDER_CONSTRUCTION</td>\n",
       "      <td>NaN</td>\n",
       "      <td>Sindhi Society, Near Swami Vivekanand Jr Colle...</td>\n",
       "      <td>400071</td>\n",
       "      <td>1BHK</td>\n",
       "      <td>426.57</td>\n",
       "      <td>13000000</td>\n",
       "      <td>1</td>\n",
       "      <td>1.0</td>\n",
       "      <td>...</td>\n",
       "      <td>UNFURNISHED</td>\n",
       "      <td>COMPLEX</td>\n",
       "      <td>RESIDENTIAL</td>\n",
       "      <td>RESIDENTIAL</td>\n",
       "      <td>Sindhi Society</td>\n",
       "      <td>cmf50r5a00000vcj0k1iuocuu</td>\n",
       "      <td>cmf51ieam0001vcj0kljobiod</td>\n",
       "      <td>cmf51ix980003vcj0z7abv17k</td>\n",
       "      <td>[\"https://pub-d28896f69c604ec5aa743cb0397740d9...</td>\n",
       "      <td>https://pub-d28896f69c604ec5aa743cb0397740d9.r...</td>\n",
       "    </tr>\n",
       "    <tr>\n",
       "      <th>...</th>\n",
       "      <td>...</td>\n",
       "      <td>...</td>\n",
       "      <td>...</td>\n",
       "      <td>...</td>\n",
       "      <td>...</td>\n",
       "      <td>...</td>\n",
       "      <td>...</td>\n",
       "      <td>...</td>\n",
       "      <td>...</td>\n",
       "      <td>...</td>\n",
       "      <td>...</td>\n",
       "      <td>...</td>\n",
       "      <td>...</td>\n",
       "      <td>...</td>\n",
       "      <td>...</td>\n",
       "      <td>...</td>\n",
       "      <td>...</td>\n",
       "      <td>...</td>\n",
       "      <td>...</td>\n",
       "      <td>...</td>\n",
       "      <td>...</td>\n",
       "    </tr>\n",
       "    <tr>\n",
       "      <th>78</th>\n",
       "      <td>testring999</td>\n",
       "      <td>UNDER_CONSTRUCTION</td>\n",
       "      <td>2025-09-25 00:00:00</td>\n",
       "      <td>sdfghj</td>\n",
       "      <td>123456</td>\n",
       "      <td>3BHK</td>\n",
       "      <td>7.00</td>\n",
       "      <td>80000000</td>\n",
       "      <td>9</td>\n",
       "      <td>9.0</td>\n",
       "      <td>...</td>\n",
       "      <td>UNFURNISHED</td>\n",
       "      <td>COMPLEX</td>\n",
       "      <td>RESIDENTIAL</td>\n",
       "      <td>RESIDENTIAL</td>\n",
       "      <td>esrdfghbj</td>\n",
       "      <td>cmf6nu3ru000gvcxspxarll3v</td>\n",
       "      <td>cmf6pksk30035vcxs7r2mo3iq</td>\n",
       "      <td>cmfdkuymm0001vc90iiyzkr8d</td>\n",
       "      <td>[\"https://pub-d28896f69c604ec5aa743cb0397740d9...</td>\n",
       "      <td>https://pub-d28896f69c604ec5aa743cb0397740d9.r...</td>\n",
       "    </tr>\n",
       "    <tr>\n",
       "      <th>79</th>\n",
       "      <td>Queens Glory</td>\n",
       "      <td>UNDER_CONSTRUCTION</td>\n",
       "      <td>2027-12-31 00:00:00</td>\n",
       "      <td>Building No 10, Subhash Nagar Redevelopment Cl...</td>\n",
       "      <td>400076</td>\n",
       "      <td>1RK</td>\n",
       "      <td>331.85</td>\n",
       "      <td>7944000</td>\n",
       "      <td>1</td>\n",
       "      <td>1.0</td>\n",
       "      <td>...</td>\n",
       "      <td>UNFURNISHED</td>\n",
       "      <td>STANDALONE</td>\n",
       "      <td>RESIDENTIAL</td>\n",
       "      <td>RESIDENTIAL</td>\n",
       "      <td>Shri siddhivinayak ganesh temple</td>\n",
       "      <td>cmf50r5a00000vcj0k1iuocuu</td>\n",
       "      <td>cmf51ieam0001vcj0kljobiod</td>\n",
       "      <td>cmfxo3xxc0007qq13foyboh8s</td>\n",
       "      <td>[\"https://pub-d28896f69c604ec5aa743cb0397740d9...</td>\n",
       "      <td>https://pub-d28896f69c604ec5aa743cb0397740d9.r...</td>\n",
       "    </tr>\n",
       "    <tr>\n",
       "      <th>80</th>\n",
       "      <td>Queens Avenue</td>\n",
       "      <td>UNDER_CONSTRUCTION</td>\n",
       "      <td>2027-12-31 00:00:00</td>\n",
       "      <td>Subhash Nagar, Chembur, Mumbai Harbour, Mumbai</td>\n",
       "      <td>400076</td>\n",
       "      <td>1BHK</td>\n",
       "      <td>396.97</td>\n",
       "      <td>10700000</td>\n",
       "      <td>1</td>\n",
       "      <td>1.0</td>\n",
       "      <td>...</td>\n",
       "      <td>UNFURNISHED</td>\n",
       "      <td>TOWNSHIP</td>\n",
       "      <td>RESIDENTIAL</td>\n",
       "      <td>RESIDENTIAL</td>\n",
       "      <td>Shri siddhivinayak ganesh temple</td>\n",
       "      <td>cmf50r5a00000vcj0k1iuocuu</td>\n",
       "      <td>cmf51ieam0001vcj0kljobiod</td>\n",
       "      <td>cmfxo3xxc0007qq13foyboh8s</td>\n",
       "      <td>[\"https://pub-d28896f69c604ec5aa743cb0397740d9...</td>\n",
       "      <td>https://pub-d28896f69c604ec5aa743cb0397740d9.r...</td>\n",
       "    </tr>\n",
       "    <tr>\n",
       "      <th>81</th>\n",
       "      <td>Queens Avenue</td>\n",
       "      <td>UNDER_CONSTRUCTION</td>\n",
       "      <td>2027-12-31 00:00:00</td>\n",
       "      <td>Subhash Nagar, Chembur, Mumbai Harbour, Mumbai</td>\n",
       "      <td>400076</td>\n",
       "      <td>2BHK</td>\n",
       "      <td>568.98</td>\n",
       "      <td>15300000</td>\n",
       "      <td>2</td>\n",
       "      <td>4.0</td>\n",
       "      <td>...</td>\n",
       "      <td>UNFURNISHED</td>\n",
       "      <td>TOWNSHIP</td>\n",
       "      <td>RESIDENTIAL</td>\n",
       "      <td>RESIDENTIAL</td>\n",
       "      <td>Shri siddhivinayak ganesh temple</td>\n",
       "      <td>cmf50r5a00000vcj0k1iuocuu</td>\n",
       "      <td>cmf51ieam0001vcj0kljobiod</td>\n",
       "      <td>cmfxo3xxc0007qq13foyboh8s</td>\n",
       "      <td>[\"https://pub-d28896f69c604ec5aa743cb0397740d9...</td>\n",
       "      <td>https://pub-d28896f69c604ec5aa743cb0397740d9.r...</td>\n",
       "    </tr>\n",
       "    <tr>\n",
       "      <th>82</th>\n",
       "      <td>Queens Avenue</td>\n",
       "      <td>UNDER_CONSTRUCTION</td>\n",
       "      <td>2027-12-31 00:00:00</td>\n",
       "      <td>Subhash Nagar, Chembur, Mumbai Harbour, Mumbai</td>\n",
       "      <td>400076</td>\n",
       "      <td>2BHK</td>\n",
       "      <td>619.89</td>\n",
       "      <td>16700000</td>\n",
       "      <td>2</td>\n",
       "      <td>2.0</td>\n",
       "      <td>...</td>\n",
       "      <td>UNFURNISHED</td>\n",
       "      <td>TOWNSHIP</td>\n",
       "      <td>RESIDENTIAL</td>\n",
       "      <td>RESIDENTIAL</td>\n",
       "      <td>Shri siddhivinayak ganesh temple</td>\n",
       "      <td>cmf50r5a00000vcj0k1iuocuu</td>\n",
       "      <td>cmf51ieam0001vcj0kljobiod</td>\n",
       "      <td>cmfxo3xxc0007qq13foyboh8s</td>\n",
       "      <td>[\"https://pub-d28896f69c604ec5aa743cb0397740d9...</td>\n",
       "      <td>https://pub-d28896f69c604ec5aa743cb0397740d9.r...</td>\n",
       "    </tr>\n",
       "  </tbody>\n",
       "</table>\n",
       "<p>83 rows × 21 columns</p>\n",
       "</div>"
      ],
      "text/plain": [
       "      projectName              status       possessionDate  \\\n",
       "0         Ashwini  UNDER_CONSTRUCTION  2025-09-28 00:00:00   \n",
       "1         Ashwini  UNDER_CONSTRUCTION  2025-09-28 00:00:00   \n",
       "2      Pristine02       READY_TO_MOVE                  NaN   \n",
       "3      Pristine02       READY_TO_MOVE                  NaN   \n",
       "4       Gurukripa  UNDER_CONSTRUCTION                  NaN   \n",
       "..            ...                 ...                  ...   \n",
       "78    testring999  UNDER_CONSTRUCTION  2025-09-25 00:00:00   \n",
       "79   Queens Glory  UNDER_CONSTRUCTION  2027-12-31 00:00:00   \n",
       "80  Queens Avenue  UNDER_CONSTRUCTION  2027-12-31 00:00:00   \n",
       "81  Queens Avenue  UNDER_CONSTRUCTION  2027-12-31 00:00:00   \n",
       "82  Queens Avenue  UNDER_CONSTRUCTION  2027-12-31 00:00:00   \n",
       "\n",
       "                                          fullAddress  pincode  type  \\\n",
       "0                                      Mumbai chembur   411017  1BHK   \n",
       "1                                      Mumbai chembur   411017  2BHK   \n",
       "2   sr no 13 beside godrej, opposite to mca stadiu...   412101  2BHK   \n",
       "3   sr no 13 beside godrej, opposite to mca stadiu...   412101  2BHK   \n",
       "4   Sindhi Society, Near Swami Vivekanand Jr Colle...   400071  1BHK   \n",
       "..                                                ...      ...   ...   \n",
       "78                                             sdfghj   123456  3BHK   \n",
       "79  Building No 10, Subhash Nagar Redevelopment Cl...   400076  1RK    \n",
       "80     Subhash Nagar, Chembur, Mumbai Harbour, Mumbai   400076  1BHK   \n",
       "81     Subhash Nagar, Chembur, Mumbai Harbour, Mumbai   400076  2BHK   \n",
       "82     Subhash Nagar, Chembur, Mumbai Harbour, Mumbai   400076  2BHK   \n",
       "\n",
       "    carpetArea      price  bathrooms  balcony  ... furnishedType  \\\n",
       "0       123.00   11111111          1      1.0  ...   UNFURNISHED   \n",
       "1       456.00   22222222          0      2.0  ...   UNFURNISHED   \n",
       "2       972.00  120000000         12      3.0  ...   UNFURNISHED   \n",
       "3       188.73  210000000          3      2.0  ...   UNFURNISHED   \n",
       "4       426.57   13000000          1      1.0  ...   UNFURNISHED   \n",
       "..         ...        ...        ...      ...  ...           ...   \n",
       "78        7.00   80000000          9      9.0  ...   UNFURNISHED   \n",
       "79      331.85    7944000          1      1.0  ...   UNFURNISHED   \n",
       "80      396.97   10700000          1      1.0  ...   UNFURNISHED   \n",
       "81      568.98   15300000          2      4.0  ...   UNFURNISHED   \n",
       "82      619.89   16700000          2      2.0  ...   UNFURNISHED   \n",
       "\n",
       "   projectCategory  projectType propertyCategory  \\\n",
       "0       STANDALONE  RESIDENTIAL      RESIDENTIAL   \n",
       "1       STANDALONE  RESIDENTIAL      RESIDENTIAL   \n",
       "2       STANDALONE  RESIDENTIAL      RESIDENTIAL   \n",
       "3       STANDALONE  RESIDENTIAL      RESIDENTIAL   \n",
       "4          COMPLEX  RESIDENTIAL      RESIDENTIAL   \n",
       "..             ...          ...              ...   \n",
       "78         COMPLEX  RESIDENTIAL      RESIDENTIAL   \n",
       "79      STANDALONE  RESIDENTIAL      RESIDENTIAL   \n",
       "80        TOWNSHIP  RESIDENTIAL      RESIDENTIAL   \n",
       "81        TOWNSHIP  RESIDENTIAL      RESIDENTIAL   \n",
       "82        TOWNSHIP  RESIDENTIAL      RESIDENTIAL   \n",
       "\n",
       "                            landmark                     cityId  \\\n",
       "0                       Babys school  cmf6nu3ru000gvcxspxarll3v   \n",
       "1                       Babys school  cmf6nu3ru000gvcxspxarll3v   \n",
       "2                         Sai nagar   cmf6nu3ru000gvcxspxarll3v   \n",
       "3                         Sai nagar   cmf6nu3ru000gvcxspxarll3v   \n",
       "4                     Sindhi Society  cmf50r5a00000vcj0k1iuocuu   \n",
       "..                               ...                        ...   \n",
       "78                         esrdfghbj  cmf6nu3ru000gvcxspxarll3v   \n",
       "79  Shri siddhivinayak ganesh temple  cmf50r5a00000vcj0k1iuocuu   \n",
       "80  Shri siddhivinayak ganesh temple  cmf50r5a00000vcj0k1iuocuu   \n",
       "81  Shri siddhivinayak ganesh temple  cmf50r5a00000vcj0k1iuocuu   \n",
       "82  Shri siddhivinayak ganesh temple  cmf50r5a00000vcj0k1iuocuu   \n",
       "\n",
       "                   localityId              subLocalityId  \\\n",
       "0   cmf6pksk30035vcxs7r2mo3iq  cmfdkuymm0001vc90iiyzkr8d   \n",
       "1   cmf6pksk30035vcxs7r2mo3iq  cmfdkuymm0001vc90iiyzkr8d   \n",
       "2   cmf6pk0cn0033vcxshxbf5hdh  cmfdn705v001pvc90uyle9m34   \n",
       "3   cmf6pk0cn0033vcxshxbf5hdh  cmfdn705v001pvc90uyle9m34   \n",
       "4   cmf51ieam0001vcj0kljobiod  cmf51ix980003vcj0z7abv17k   \n",
       "..                        ...                        ...   \n",
       "78  cmf6pksk30035vcxs7r2mo3iq  cmfdkuymm0001vc90iiyzkr8d   \n",
       "79  cmf51ieam0001vcj0kljobiod  cmfxo3xxc0007qq13foyboh8s   \n",
       "80  cmf51ieam0001vcj0kljobiod  cmfxo3xxc0007qq13foyboh8s   \n",
       "81  cmf51ieam0001vcj0kljobiod  cmfxo3xxc0007qq13foyboh8s   \n",
       "82  cmf51ieam0001vcj0kljobiod  cmfxo3xxc0007qq13foyboh8s   \n",
       "\n",
       "                                       propertyImages  \\\n",
       "0   [\"https://pub-d28896f69c604ec5aa743cb0397740d9...   \n",
       "1   [\"https://pub-d28896f69c604ec5aa743cb0397740d9...   \n",
       "2   [\"https://pub-d28896f69c604ec5aa743cb0397740d9...   \n",
       "3   [\"https://pub-d28896f69c604ec5aa743cb0397740d9...   \n",
       "4   [\"https://pub-d28896f69c604ec5aa743cb0397740d9...   \n",
       "..                                                ...   \n",
       "78  [\"https://pub-d28896f69c604ec5aa743cb0397740d9...   \n",
       "79  [\"https://pub-d28896f69c604ec5aa743cb0397740d9...   \n",
       "80  [\"https://pub-d28896f69c604ec5aa743cb0397740d9...   \n",
       "81  [\"https://pub-d28896f69c604ec5aa743cb0397740d9...   \n",
       "82  [\"https://pub-d28896f69c604ec5aa743cb0397740d9...   \n",
       "\n",
       "                                       floorPlanImage  \n",
       "0   https://pub-d28896f69c604ec5aa743cb0397740d9.r...  \n",
       "1   https://pub-d28896f69c604ec5aa743cb0397740d9.r...  \n",
       "2   https://pub-d28896f69c604ec5aa743cb0397740d9.r...  \n",
       "3   https://pub-d28896f69c604ec5aa743cb0397740d9.r...  \n",
       "4   https://pub-d28896f69c604ec5aa743cb0397740d9.r...  \n",
       "..                                                ...  \n",
       "78  https://pub-d28896f69c604ec5aa743cb0397740d9.r...  \n",
       "79  https://pub-d28896f69c604ec5aa743cb0397740d9.r...  \n",
       "80  https://pub-d28896f69c604ec5aa743cb0397740d9.r...  \n",
       "81  https://pub-d28896f69c604ec5aa743cb0397740d9.r...  \n",
       "82  https://pub-d28896f69c604ec5aa743cb0397740d9.r...  \n",
       "\n",
       "[83 rows x 21 columns]"
      ]
     },
     "execution_count": 105,
     "metadata": {},
     "output_type": "execute_result"
    }
   ],
   "source": [
    "df"
   ]
  },
  {
   "cell_type": "code",
   "execution_count": 359,
   "id": "b14b0e68",
   "metadata": {},
   "outputs": [
    {
     "data": {
      "text/plain": [
       "0     2025-09-28 00:00:00\n",
       "1     2025-09-28 00:00:00\n",
       "2                     NaN\n",
       "3                     NaN\n",
       "4                     NaN\n",
       "             ...         \n",
       "78    2025-09-25 00:00:00\n",
       "79    2027-12-31 00:00:00\n",
       "80    2027-12-31 00:00:00\n",
       "81    2027-12-31 00:00:00\n",
       "82    2027-12-31 00:00:00\n",
       "Name: possessionDate, Length: 83, dtype: object"
      ]
     },
     "execution_count": 359,
     "metadata": {},
     "output_type": "execute_result"
    }
   ],
   "source": [
    "df[\"possessionDate\"]"
   ]
  },
  {
   "cell_type": "code",
   "execution_count": 106,
   "id": "8bd384a6",
   "metadata": {},
   "outputs": [],
   "source": [
    "status_value = \"READY_TO_MOVE\"  # any case/form\n",
    "filtered_df = df[df[\"status\"].astype(str).str.upper() == status_value.strip().upper()].copy()\n"
   ]
  },
  {
   "cell_type": "code",
   "execution_count": 331,
   "id": "d30315d4",
   "metadata": {},
   "outputs": [
    {
     "data": {
      "text/plain": [
       "{'type': '1BHK',\n",
       " 'furnishedType': 'UNFURNISHED',\n",
       " 'listingType': 'Sell',\n",
       " 'fullAddress': 'Wakad, Pune',\n",
       " 'carpetArea': 123,\n",
       " 'price': {'min': 0, 'max': 10000000},\n",
       " 'possessionDate': '2025-12-01'}"
      ]
     },
     "execution_count": 331,
     "metadata": {},
     "output_type": "execute_result"
    }
   ],
   "source": [
    "response"
   ]
  },
  {
   "cell_type": "code",
   "execution_count": 107,
   "id": "708f7e17",
   "metadata": {},
   "outputs": [
    {
     "data": {
      "text/html": [
       "<div>\n",
       "<style scoped>\n",
       "    .dataframe tbody tr th:only-of-type {\n",
       "        vertical-align: middle;\n",
       "    }\n",
       "\n",
       "    .dataframe tbody tr th {\n",
       "        vertical-align: top;\n",
       "    }\n",
       "\n",
       "    .dataframe thead th {\n",
       "        text-align: right;\n",
       "    }\n",
       "</style>\n",
       "<table border=\"1\" class=\"dataframe\">\n",
       "  <thead>\n",
       "    <tr style=\"text-align: right;\">\n",
       "      <th></th>\n",
       "      <th>projectName</th>\n",
       "      <th>status</th>\n",
       "      <th>possessionDate</th>\n",
       "      <th>fullAddress</th>\n",
       "      <th>pincode</th>\n",
       "      <th>type</th>\n",
       "      <th>carpetArea</th>\n",
       "      <th>price</th>\n",
       "      <th>bathrooms</th>\n",
       "      <th>balcony</th>\n",
       "      <th>...</th>\n",
       "      <th>furnishedType</th>\n",
       "      <th>projectCategory</th>\n",
       "      <th>projectType</th>\n",
       "      <th>propertyCategory</th>\n",
       "      <th>landmark</th>\n",
       "      <th>cityId</th>\n",
       "      <th>localityId</th>\n",
       "      <th>subLocalityId</th>\n",
       "      <th>propertyImages</th>\n",
       "      <th>floorPlanImage</th>\n",
       "    </tr>\n",
       "  </thead>\n",
       "  <tbody>\n",
       "    <tr>\n",
       "      <th>2</th>\n",
       "      <td>Pristine02</td>\n",
       "      <td>READY_TO_MOVE</td>\n",
       "      <td>NaN</td>\n",
       "      <td>sr no 13 beside godrej, opposite to mca stadiu...</td>\n",
       "      <td>412101</td>\n",
       "      <td>2BHK</td>\n",
       "      <td>972.00</td>\n",
       "      <td>120000000</td>\n",
       "      <td>12</td>\n",
       "      <td>3.0</td>\n",
       "      <td>...</td>\n",
       "      <td>UNFURNISHED</td>\n",
       "      <td>STANDALONE</td>\n",
       "      <td>RESIDENTIAL</td>\n",
       "      <td>RESIDENTIAL</td>\n",
       "      <td>Sai nagar</td>\n",
       "      <td>cmf6nu3ru000gvcxspxarll3v</td>\n",
       "      <td>cmf6pk0cn0033vcxshxbf5hdh</td>\n",
       "      <td>cmfdn705v001pvc90uyle9m34</td>\n",
       "      <td>[\"https://pub-d28896f69c604ec5aa743cb0397740d9...</td>\n",
       "      <td>https://pub-d28896f69c604ec5aa743cb0397740d9.r...</td>\n",
       "    </tr>\n",
       "    <tr>\n",
       "      <th>3</th>\n",
       "      <td>Pristine02</td>\n",
       "      <td>READY_TO_MOVE</td>\n",
       "      <td>NaN</td>\n",
       "      <td>sr no 13 beside godrej, opposite to mca stadiu...</td>\n",
       "      <td>412101</td>\n",
       "      <td>2BHK</td>\n",
       "      <td>188.73</td>\n",
       "      <td>210000000</td>\n",
       "      <td>3</td>\n",
       "      <td>2.0</td>\n",
       "      <td>...</td>\n",
       "      <td>UNFURNISHED</td>\n",
       "      <td>STANDALONE</td>\n",
       "      <td>RESIDENTIAL</td>\n",
       "      <td>RESIDENTIAL</td>\n",
       "      <td>Sai nagar</td>\n",
       "      <td>cmf6nu3ru000gvcxspxarll3v</td>\n",
       "      <td>cmf6pk0cn0033vcxshxbf5hdh</td>\n",
       "      <td>cmfdn705v001pvc90uyle9m34</td>\n",
       "      <td>[\"https://pub-d28896f69c604ec5aa743cb0397740d9...</td>\n",
       "      <td>https://pub-d28896f69c604ec5aa743cb0397740d9.r...</td>\n",
       "    </tr>\n",
       "    <tr>\n",
       "      <th>54</th>\n",
       "      <td>Kedar Residency</td>\n",
       "      <td>READY_TO_MOVE</td>\n",
       "      <td>NaN</td>\n",
       "      <td>MP78+P45, St Tukaram Nagar, Mamurdi, Dehu Road...</td>\n",
       "      <td>412101</td>\n",
       "      <td>1BHK</td>\n",
       "      <td>497.00</td>\n",
       "      <td>30400000</td>\n",
       "      <td>1</td>\n",
       "      <td>1.0</td>\n",
       "      <td>...</td>\n",
       "      <td>FURNISHED</td>\n",
       "      <td>STANDALONE</td>\n",
       "      <td>RESIDENTIAL</td>\n",
       "      <td>RESIDENTIAL</td>\n",
       "      <td>Maharashtra Cricket Association Stadium</td>\n",
       "      <td>cmf6nu3ru000gvcxspxarll3v</td>\n",
       "      <td>cmf6pk0cn0033vcxshxbf5hdh</td>\n",
       "      <td>cmfdn705v001pvc90uyle9m34</td>\n",
       "      <td>[\"https://pub-d28896f69c604ec5aa743cb0397740d9...</td>\n",
       "      <td>https://pub-d28896f69c604ec5aa743cb0397740d9.r...</td>\n",
       "    </tr>\n",
       "    <tr>\n",
       "      <th>55</th>\n",
       "      <td>Kedar Residency</td>\n",
       "      <td>READY_TO_MOVE</td>\n",
       "      <td>NaN</td>\n",
       "      <td>MP78+P45, St Tukaram Nagar, Mamurdi, Dehu Road...</td>\n",
       "      <td>412101</td>\n",
       "      <td>2BHK</td>\n",
       "      <td>805.00</td>\n",
       "      <td>49000000</td>\n",
       "      <td>0</td>\n",
       "      <td>0.0</td>\n",
       "      <td>...</td>\n",
       "      <td>UNFURNISHED</td>\n",
       "      <td>STANDALONE</td>\n",
       "      <td>RESIDENTIAL</td>\n",
       "      <td>RESIDENTIAL</td>\n",
       "      <td>Maharashtra Cricket Association Stadium</td>\n",
       "      <td>cmf6nu3ru000gvcxspxarll3v</td>\n",
       "      <td>cmf6pk0cn0033vcxshxbf5hdh</td>\n",
       "      <td>cmfdn705v001pvc90uyle9m34</td>\n",
       "      <td>[\"https://pub-d28896f69c604ec5aa743cb0397740d9...</td>\n",
       "      <td>https://pub-d28896f69c604ec5aa743cb0397740d9.r...</td>\n",
       "    </tr>\n",
       "    <tr>\n",
       "      <th>66</th>\n",
       "      <td>testing</td>\n",
       "      <td>READY_TO_MOVE</td>\n",
       "      <td>NaN</td>\n",
       "      <td>asdfgh</td>\n",
       "      <td>123456</td>\n",
       "      <td>5BHK</td>\n",
       "      <td>9.79</td>\n",
       "      <td>10088000</td>\n",
       "      <td>8</td>\n",
       "      <td>8.0</td>\n",
       "      <td>...</td>\n",
       "      <td>UNFURNISHED</td>\n",
       "      <td>STANDALONE</td>\n",
       "      <td>RESIDENTIAL</td>\n",
       "      <td>RESIDENTIAL</td>\n",
       "      <td>sdfgb</td>\n",
       "      <td>cmf6nu3ru000gvcxspxarll3v</td>\n",
       "      <td>cmf6pk0cn0033vcxshxbf5hdh</td>\n",
       "      <td>cmfdn705v001pvc90uyle9m34</td>\n",
       "      <td>[\"https://pub-d28896f69c604ec5aa743cb0397740d9...</td>\n",
       "      <td>https://pub-d28896f69c604ec5aa743cb0397740d9.r...</td>\n",
       "    </tr>\n",
       "    <tr>\n",
       "      <th>67</th>\n",
       "      <td>testing</td>\n",
       "      <td>READY_TO_MOVE</td>\n",
       "      <td>NaN</td>\n",
       "      <td>asdfgh</td>\n",
       "      <td>123456</td>\n",
       "      <td>2BHK</td>\n",
       "      <td>9.00</td>\n",
       "      <td>980000000</td>\n",
       "      <td>99</td>\n",
       "      <td>987.0</td>\n",
       "      <td>...</td>\n",
       "      <td>SEMI_FURNISHED</td>\n",
       "      <td>STANDALONE</td>\n",
       "      <td>RESIDENTIAL</td>\n",
       "      <td>RESIDENTIAL</td>\n",
       "      <td>sdfgb</td>\n",
       "      <td>cmf6nu3ru000gvcxspxarll3v</td>\n",
       "      <td>cmf6pk0cn0033vcxshxbf5hdh</td>\n",
       "      <td>cmfdn705v001pvc90uyle9m34</td>\n",
       "      <td>[\"https://pub-d28896f69c604ec5aa743cb0397740d9...</td>\n",
       "      <td>https://pub-d28896f69c604ec5aa743cb0397740d9.r...</td>\n",
       "    </tr>\n",
       "    <tr>\n",
       "      <th>68</th>\n",
       "      <td>testing</td>\n",
       "      <td>READY_TO_MOVE</td>\n",
       "      <td>NaN</td>\n",
       "      <td>asdfgh</td>\n",
       "      <td>123456</td>\n",
       "      <td>2BHK</td>\n",
       "      <td>3.00</td>\n",
       "      <td>120000000</td>\n",
       "      <td>10</td>\n",
       "      <td>2.0</td>\n",
       "      <td>...</td>\n",
       "      <td>UNFURNISHED</td>\n",
       "      <td>STANDALONE</td>\n",
       "      <td>RESIDENTIAL</td>\n",
       "      <td>RESIDENTIAL</td>\n",
       "      <td>sdfgb</td>\n",
       "      <td>cmf6nu3ru000gvcxspxarll3v</td>\n",
       "      <td>cmf6pk0cn0033vcxshxbf5hdh</td>\n",
       "      <td>cmfdn705v001pvc90uyle9m34</td>\n",
       "      <td>[\"https://pub-d28896f69c604ec5aa743cb0397740d9...</td>\n",
       "      <td>https://pub-d28896f69c604ec5aa743cb0397740d9.r...</td>\n",
       "    </tr>\n",
       "    <tr>\n",
       "      <th>69</th>\n",
       "      <td>TESTING</td>\n",
       "      <td>READY_TO_MOVE</td>\n",
       "      <td>NaN</td>\n",
       "      <td>ADDRESS</td>\n",
       "      <td>123456</td>\n",
       "      <td>4BHK</td>\n",
       "      <td>12.00</td>\n",
       "      <td>20000000</td>\n",
       "      <td>1</td>\n",
       "      <td>2.0</td>\n",
       "      <td>...</td>\n",
       "      <td>SEMI_FURNISHED</td>\n",
       "      <td>TOWNSHIP</td>\n",
       "      <td>RESIDENTIAL</td>\n",
       "      <td>RESIDENTIAL</td>\n",
       "      <td>LANDMARK</td>\n",
       "      <td>cmf6nu3ru000gvcxspxarll3v</td>\n",
       "      <td>cmf6pksk30035vcxs7r2mo3iq</td>\n",
       "      <td>cmfdkuymm0001vc90iiyzkr8d</td>\n",
       "      <td>[\"https://pub-d28896f69c604ec5aa743cb0397740d9...</td>\n",
       "      <td>https://pub-d28896f69c604ec5aa743cb0397740d9.r...</td>\n",
       "    </tr>\n",
       "    <tr>\n",
       "      <th>70</th>\n",
       "      <td>TESTING</td>\n",
       "      <td>READY_TO_MOVE</td>\n",
       "      <td>NaN</td>\n",
       "      <td>ADDRESS</td>\n",
       "      <td>123456</td>\n",
       "      <td>4.5BHK</td>\n",
       "      <td>122.00</td>\n",
       "      <td>10000000</td>\n",
       "      <td>1</td>\n",
       "      <td>2.0</td>\n",
       "      <td>...</td>\n",
       "      <td>UNFURNISHED</td>\n",
       "      <td>TOWNSHIP</td>\n",
       "      <td>RESIDENTIAL</td>\n",
       "      <td>RESIDENTIAL</td>\n",
       "      <td>LANDMARK</td>\n",
       "      <td>cmf6nu3ru000gvcxspxarll3v</td>\n",
       "      <td>cmf6pksk30035vcxs7r2mo3iq</td>\n",
       "      <td>cmfdkuymm0001vc90iiyzkr8d</td>\n",
       "      <td>[\"https://pub-d28896f69c604ec5aa743cb0397740d9...</td>\n",
       "      <td>NaN</td>\n",
       "    </tr>\n",
       "    <tr>\n",
       "      <th>71</th>\n",
       "      <td>testing igi</td>\n",
       "      <td>READY_TO_MOVE</td>\n",
       "      <td>NaN</td>\n",
       "      <td>awsedrftgyhujk</td>\n",
       "      <td>123456</td>\n",
       "      <td>House_Villa</td>\n",
       "      <td>8.00</td>\n",
       "      <td>80000000</td>\n",
       "      <td>5</td>\n",
       "      <td>4.0</td>\n",
       "      <td>...</td>\n",
       "      <td>SEMI_FURNISHED</td>\n",
       "      <td>TOWNSHIP</td>\n",
       "      <td>RESIDENTIAL</td>\n",
       "      <td>RESIDENTIAL</td>\n",
       "      <td>sedrftgyhuj</td>\n",
       "      <td>cmf6nu3ru000gvcxspxarll3v</td>\n",
       "      <td>cmf6pksk30035vcxs7r2mo3iq</td>\n",
       "      <td>cmfdkuymm0001vc90iiyzkr8d</td>\n",
       "      <td>[\"https://pub-d28896f69c604ec5aa743cb0397740d9...</td>\n",
       "      <td>https://pub-d28896f69c604ec5aa743cb0397740d9.r...</td>\n",
       "    </tr>\n",
       "    <tr>\n",
       "      <th>72</th>\n",
       "      <td>testing igi</td>\n",
       "      <td>READY_TO_MOVE</td>\n",
       "      <td>NaN</td>\n",
       "      <td>awsedrftgyhujk</td>\n",
       "      <td>123456</td>\n",
       "      <td>3BHK</td>\n",
       "      <td>69.00</td>\n",
       "      <td>960000000</td>\n",
       "      <td>99</td>\n",
       "      <td>88.0</td>\n",
       "      <td>...</td>\n",
       "      <td>UNFURNISHED</td>\n",
       "      <td>TOWNSHIP</td>\n",
       "      <td>RESIDENTIAL</td>\n",
       "      <td>RESIDENTIAL</td>\n",
       "      <td>sedrftgyhuj</td>\n",
       "      <td>cmf6nu3ru000gvcxspxarll3v</td>\n",
       "      <td>cmf6pksk30035vcxs7r2mo3iq</td>\n",
       "      <td>cmfdkuymm0001vc90iiyzkr8d</td>\n",
       "      <td>[\"https://pub-d28896f69c604ec5aa743cb0397740d9...</td>\n",
       "      <td>https://pub-d28896f69c604ec5aa743cb0397740d9.r...</td>\n",
       "    </tr>\n",
       "  </tbody>\n",
       "</table>\n",
       "<p>11 rows × 21 columns</p>\n",
       "</div>"
      ],
      "text/plain": [
       "        projectName         status possessionDate  \\\n",
       "2        Pristine02  READY_TO_MOVE            NaN   \n",
       "3        Pristine02  READY_TO_MOVE            NaN   \n",
       "54  Kedar Residency  READY_TO_MOVE            NaN   \n",
       "55  Kedar Residency  READY_TO_MOVE            NaN   \n",
       "66          testing  READY_TO_MOVE            NaN   \n",
       "67          testing  READY_TO_MOVE            NaN   \n",
       "68          testing  READY_TO_MOVE            NaN   \n",
       "69          TESTING  READY_TO_MOVE            NaN   \n",
       "70          TESTING  READY_TO_MOVE            NaN   \n",
       "71      testing igi  READY_TO_MOVE            NaN   \n",
       "72      testing igi  READY_TO_MOVE            NaN   \n",
       "\n",
       "                                          fullAddress  pincode         type  \\\n",
       "2   sr no 13 beside godrej, opposite to mca stadiu...   412101         2BHK   \n",
       "3   sr no 13 beside godrej, opposite to mca stadiu...   412101         2BHK   \n",
       "54  MP78+P45, St Tukaram Nagar, Mamurdi, Dehu Road...   412101         1BHK   \n",
       "55  MP78+P45, St Tukaram Nagar, Mamurdi, Dehu Road...   412101         2BHK   \n",
       "66                                             asdfgh   123456         5BHK   \n",
       "67                                             asdfgh   123456         2BHK   \n",
       "68                                             asdfgh   123456         2BHK   \n",
       "69                                            ADDRESS   123456         4BHK   \n",
       "70                                            ADDRESS   123456       4.5BHK   \n",
       "71                                     awsedrftgyhujk   123456  House_Villa   \n",
       "72                                     awsedrftgyhujk   123456         3BHK   \n",
       "\n",
       "    carpetArea      price  bathrooms  balcony  ...   furnishedType  \\\n",
       "2       972.00  120000000         12      3.0  ...     UNFURNISHED   \n",
       "3       188.73  210000000          3      2.0  ...     UNFURNISHED   \n",
       "54      497.00   30400000          1      1.0  ...       FURNISHED   \n",
       "55      805.00   49000000          0      0.0  ...     UNFURNISHED   \n",
       "66        9.79   10088000          8      8.0  ...     UNFURNISHED   \n",
       "67        9.00  980000000         99    987.0  ...  SEMI_FURNISHED   \n",
       "68        3.00  120000000         10      2.0  ...     UNFURNISHED   \n",
       "69       12.00   20000000          1      2.0  ...  SEMI_FURNISHED   \n",
       "70      122.00   10000000          1      2.0  ...     UNFURNISHED   \n",
       "71        8.00   80000000          5      4.0  ...  SEMI_FURNISHED   \n",
       "72       69.00  960000000         99     88.0  ...     UNFURNISHED   \n",
       "\n",
       "   projectCategory  projectType propertyCategory  \\\n",
       "2       STANDALONE  RESIDENTIAL      RESIDENTIAL   \n",
       "3       STANDALONE  RESIDENTIAL      RESIDENTIAL   \n",
       "54      STANDALONE  RESIDENTIAL      RESIDENTIAL   \n",
       "55      STANDALONE  RESIDENTIAL      RESIDENTIAL   \n",
       "66      STANDALONE  RESIDENTIAL      RESIDENTIAL   \n",
       "67      STANDALONE  RESIDENTIAL      RESIDENTIAL   \n",
       "68      STANDALONE  RESIDENTIAL      RESIDENTIAL   \n",
       "69        TOWNSHIP  RESIDENTIAL      RESIDENTIAL   \n",
       "70        TOWNSHIP  RESIDENTIAL      RESIDENTIAL   \n",
       "71        TOWNSHIP  RESIDENTIAL      RESIDENTIAL   \n",
       "72        TOWNSHIP  RESIDENTIAL      RESIDENTIAL   \n",
       "\n",
       "                                    landmark                     cityId  \\\n",
       "2                                 Sai nagar   cmf6nu3ru000gvcxspxarll3v   \n",
       "3                                 Sai nagar   cmf6nu3ru000gvcxspxarll3v   \n",
       "54   Maharashtra Cricket Association Stadium  cmf6nu3ru000gvcxspxarll3v   \n",
       "55   Maharashtra Cricket Association Stadium  cmf6nu3ru000gvcxspxarll3v   \n",
       "66                                     sdfgb  cmf6nu3ru000gvcxspxarll3v   \n",
       "67                                     sdfgb  cmf6nu3ru000gvcxspxarll3v   \n",
       "68                                     sdfgb  cmf6nu3ru000gvcxspxarll3v   \n",
       "69                                  LANDMARK  cmf6nu3ru000gvcxspxarll3v   \n",
       "70                                  LANDMARK  cmf6nu3ru000gvcxspxarll3v   \n",
       "71                               sedrftgyhuj  cmf6nu3ru000gvcxspxarll3v   \n",
       "72                               sedrftgyhuj  cmf6nu3ru000gvcxspxarll3v   \n",
       "\n",
       "                   localityId              subLocalityId  \\\n",
       "2   cmf6pk0cn0033vcxshxbf5hdh  cmfdn705v001pvc90uyle9m34   \n",
       "3   cmf6pk0cn0033vcxshxbf5hdh  cmfdn705v001pvc90uyle9m34   \n",
       "54  cmf6pk0cn0033vcxshxbf5hdh  cmfdn705v001pvc90uyle9m34   \n",
       "55  cmf6pk0cn0033vcxshxbf5hdh  cmfdn705v001pvc90uyle9m34   \n",
       "66  cmf6pk0cn0033vcxshxbf5hdh  cmfdn705v001pvc90uyle9m34   \n",
       "67  cmf6pk0cn0033vcxshxbf5hdh  cmfdn705v001pvc90uyle9m34   \n",
       "68  cmf6pk0cn0033vcxshxbf5hdh  cmfdn705v001pvc90uyle9m34   \n",
       "69  cmf6pksk30035vcxs7r2mo3iq  cmfdkuymm0001vc90iiyzkr8d   \n",
       "70  cmf6pksk30035vcxs7r2mo3iq  cmfdkuymm0001vc90iiyzkr8d   \n",
       "71  cmf6pksk30035vcxs7r2mo3iq  cmfdkuymm0001vc90iiyzkr8d   \n",
       "72  cmf6pksk30035vcxs7r2mo3iq  cmfdkuymm0001vc90iiyzkr8d   \n",
       "\n",
       "                                       propertyImages  \\\n",
       "2   [\"https://pub-d28896f69c604ec5aa743cb0397740d9...   \n",
       "3   [\"https://pub-d28896f69c604ec5aa743cb0397740d9...   \n",
       "54  [\"https://pub-d28896f69c604ec5aa743cb0397740d9...   \n",
       "55  [\"https://pub-d28896f69c604ec5aa743cb0397740d9...   \n",
       "66  [\"https://pub-d28896f69c604ec5aa743cb0397740d9...   \n",
       "67  [\"https://pub-d28896f69c604ec5aa743cb0397740d9...   \n",
       "68  [\"https://pub-d28896f69c604ec5aa743cb0397740d9...   \n",
       "69  [\"https://pub-d28896f69c604ec5aa743cb0397740d9...   \n",
       "70  [\"https://pub-d28896f69c604ec5aa743cb0397740d9...   \n",
       "71  [\"https://pub-d28896f69c604ec5aa743cb0397740d9...   \n",
       "72  [\"https://pub-d28896f69c604ec5aa743cb0397740d9...   \n",
       "\n",
       "                                       floorPlanImage  \n",
       "2   https://pub-d28896f69c604ec5aa743cb0397740d9.r...  \n",
       "3   https://pub-d28896f69c604ec5aa743cb0397740d9.r...  \n",
       "54  https://pub-d28896f69c604ec5aa743cb0397740d9.r...  \n",
       "55  https://pub-d28896f69c604ec5aa743cb0397740d9.r...  \n",
       "66  https://pub-d28896f69c604ec5aa743cb0397740d9.r...  \n",
       "67  https://pub-d28896f69c604ec5aa743cb0397740d9.r...  \n",
       "68  https://pub-d28896f69c604ec5aa743cb0397740d9.r...  \n",
       "69  https://pub-d28896f69c604ec5aa743cb0397740d9.r...  \n",
       "70                                                NaN  \n",
       "71  https://pub-d28896f69c604ec5aa743cb0397740d9.r...  \n",
       "72  https://pub-d28896f69c604ec5aa743cb0397740d9.r...  \n",
       "\n",
       "[11 rows x 21 columns]"
      ]
     },
     "execution_count": 107,
     "metadata": {},
     "output_type": "execute_result"
    }
   ],
   "source": [
    "filtered_df"
   ]
  },
  {
   "cell_type": "code",
   "execution_count": 113,
   "id": "1d484f60",
   "metadata": {},
   "outputs": [],
   "source": [
    "def status_agent(state:State):\n",
    "    ## first of all i will fetching the output_dict from the state\n",
    "    output_dict = state.get(\"output_dict\")\n",
    "    df_dict = state.get(\"df_dict\")\n",
    "    if \"status\" in list(output_dict.keys()):\n",
    "        status = output_dict.get(\"status\")\n",
    "        filtered_df = df[df[\"status\"].astype(str).str.upper() == status.strip().upper()].copy()\n",
    "        df_dict[\"filtered_df_status\"] = filtered_df \n",
    "    else:\n",
    "        df_dict[\"filtered_df_status\"] = None\n",
    "    \n",
    "    return {\"df_dict\":df_dict}"
   ]
  },
  {
   "cell_type": "code",
   "execution_count": 413,
   "id": "115ddb31",
   "metadata": {},
   "outputs": [
    {
     "data": {
      "text/plain": [
       "{'status': 'UNDER_CONSTRUCTION',\n",
       " 'fullAddress': 'Wakad, Pune',\n",
       " 'type': '1BHK',\n",
       " 'listingType': 'Sell',\n",
       " 'furnishedType': 'UNFURNISHED',\n",
       " 'carpetArea': 123,\n",
       " 'bathrooms': 2,\n",
       " 'balcony': 1,\n",
       " 'price': {'min': 1000000, 'max': 10000000}}"
      ]
     },
     "execution_count": 413,
     "metadata": {},
     "output_type": "execute_result"
    }
   ],
   "source": [
    "response"
   ]
  },
  {
   "cell_type": "code",
   "execution_count": 182,
   "id": "2e1caf6e",
   "metadata": {},
   "outputs": [],
   "source": [
    "## making the similar agent for furnished type\n",
    "def furnished_agent(state:State):\n",
    "    output_dict = state.get(\"output_dict\")\n",
    "    df_dict = state.get(\"df_dict\")\n",
    "    if \"furnishedType\" in list(output_dict.keys()):\n",
    "        furnishedType = output_dict.get(\"furnishedType\")\n",
    "        filtered_df = df[df[\"furnishedType\"].astype(str).str.upper() == furnishedType.strip().upper()].copy()\n",
    "        df_dict[\"filtered_df_furnished\"] = filtered_df \n",
    "    else:\n",
    "        df_dict[\"filtered_df_status\"] = None\n",
    "    return {\"df_dict\":df_dict} \n"
   ]
  },
  {
   "cell_type": "code",
   "execution_count": 184,
   "id": "37b7c75b",
   "metadata": {},
   "outputs": [],
   "source": [
    "## now making the similar agent for type\n",
    "def type_agent(state:State):\n",
    "    output_dict = state.get(\"output_dict\")\n",
    "    df_dict = state.get(\"df_dict\")\n",
    "    if \"type\" in list(output_dict.keys()):\n",
    "        type = output_dict.get(\"type\")\n",
    "        filtered_df = df[df[\"type\"].astype(str).str.upper() == type.strip().upper()].copy()\n",
    "        df_dict[\"filtered_df_type\"] = filtered_df \n",
    "    else:\n",
    "        df_dict[\"filtered_df_type\"] = None\n",
    "    return {\"df_dict\":df_dict}"
   ]
  },
  {
   "cell_type": "code",
   "execution_count": 225,
   "id": "95ff69d0",
   "metadata": {},
   "outputs": [],
   "source": [
    "## now moving to listingType Column in the dataset\n",
    "def listingType_agent(state:State):\n",
    "    output_dict = state.get(\"output_dict\")\n",
    "    df_dict = state.get(\"df_dict\")\n",
    "    if \"listingType\" in list(output_dict.keys()):\n",
    "        listing = output_dict.get(\"listingType\")\n",
    "        filtered_df = df[df[\"listingType\"] == listing].copy()\n",
    "        df_dict[\"filtered_df_listing\"] = filtered_df\n",
    "    else:\n",
    "        df_dict[\"filtered_df_listing\"] = None\n",
    "    return {\"df_dict\":df_dict}"
   ]
  },
  {
   "cell_type": "code",
   "execution_count": 227,
   "id": "6c277e85",
   "metadata": {},
   "outputs": [],
   "source": [
    "## now  making the agent for the carpetarea\n",
    "def carpet_area_agent(state:State):\n",
    "    output_dict = state.get(\"output_dict\")\n",
    "    df_dict = state.get(\"df_dict\")\n",
    "    if \"carpetArea\" in list(output_dict.keys()):\n",
    "        area = output_dict.get(\"carpetArea\")\n",
    "        filtered_df = df[df[\"carpetArea\"] == area].copy()\n",
    "        df_dict[\"filtered_df_area\"] = filtered_df\n",
    "    else:\n",
    "        df_dict[\"filtered_df_area\"] = None\n",
    "    return {\"df_dict\":df_dict}\n"
   ]
  },
  {
   "cell_type": "code",
   "execution_count": 265,
   "id": "30299c45",
   "metadata": {},
   "outputs": [],
   "source": [
    "def price_agent(state:State):\n",
    "    output_dict = state.get(\"output_dict\")\n",
    "    df_dict = state.get(\"df_dict\")\n",
    "\n",
    "    if \"price\" in list(output_dict.keys()):\n",
    "        price = output_dict.get(\"price\")\n",
    "        if isinstance(price,dict):\n",
    "            min_price = price.get(\"min\") ## minimum price\n",
    "            max_price = price.get(\"max\") ## maximum price\n",
    "            filtered_df = df[(df['price'] > min_price) & (df['price'] < max_price)].copy()\n",
    "        elif isinstance(price,int):\n",
    "            filtered_df = df[df[\"price\"] == price].copy()\n",
    "        else:\n",
    "            filtered_df = None\n",
    "        df_dict[\"filtered_df_price\"] = filtered_df\n",
    "    else:\n",
    "        df_dict[\"filtered_df_price\"] = None\n",
    "    return {\"df_dict\":df_dict}"
   ]
  },
  {
   "cell_type": "code",
   "execution_count": 378,
   "id": "37328280",
   "metadata": {},
   "outputs": [],
   "source": [
    "def convert_to_date(date_input):\n",
    "    \"\"\"\n",
    "    Converts any date-like input (string, int year, datetime, etc.)\n",
    "    into a Python `date` object (YYYY-MM-DD) with no time part.\n",
    "    \n",
    "    Works great for comparisons and filtering in pandas.\n",
    "\n",
    "    Examples:\n",
    "        'Dec 2025'     -> date(2025, 12, 1)\n",
    "        '2025-12-25'   -> date(2025, 12, 25)\n",
    "        '2025'         -> date(2025, 1, 1)\n",
    "        datetime(2024,3,5,9,0) -> date(2024, 3, 5)\n",
    "        None or invalid -> None\n",
    "    \"\"\"\n",
    "    if date_input is None or (isinstance(date_input, str) and not date_input.strip()):\n",
    "        return None\n",
    "\n",
    "    # Already a datetime or date\n",
    "    if isinstance(date_input, datetime):\n",
    "        return date_input.date()\n",
    "    if isinstance(date_input, date):\n",
    "        return date_input  # already date object\n",
    "\n",
    "    # If it's a year (int or string)\n",
    "    try:\n",
    "        year = int(date_input)\n",
    "        if 1900 <= year <= 2100:\n",
    "            return date(year, 1, 1)\n",
    "    except Exception:\n",
    "        pass\n",
    "\n",
    "    # ✅ Correct parsing for ISO formats (YYYY-MM-DD)\n",
    "    try:\n",
    "        dt = pd.to_datetime(str(date_input), errors=\"coerce\")\n",
    "        if pd.notna(dt):\n",
    "            return dt.date()  # convert to date (no time)\n",
    "    except Exception:\n",
    "        pass\n",
    "\n",
    "    # Fallback: find a 4-digit year in text\n",
    "    match = re.search(r\"(20\\d{2})\", str(date_input))\n",
    "    if match:\n",
    "        return date(int(match.group(1)), 1, 1)\n",
    "\n",
    "    return None"
   ]
  },
  {
   "cell_type": "code",
   "execution_count": 379,
   "id": "ed052129",
   "metadata": {},
   "outputs": [
    {
     "data": {
      "text/plain": [
       "datetime.date(2025, 9, 28)"
      ]
     },
     "execution_count": 379,
     "metadata": {},
     "output_type": "execute_result"
    }
   ],
   "source": [
    "output1 = convert_to_date('2025-09-28')\n",
    "output1"
   ]
  },
  {
   "cell_type": "code",
   "execution_count": 380,
   "id": "fd4160dd",
   "metadata": {},
   "outputs": [
    {
     "data": {
      "text/plain": [
       "datetime.date(2025, 9, 26)"
      ]
     },
     "execution_count": 380,
     "metadata": {},
     "output_type": "execute_result"
    }
   ],
   "source": [
    "output2 = convert_to_date('2025-09-26 9:00')\n",
    "output2"
   ]
  },
  {
   "cell_type": "code",
   "execution_count": 381,
   "id": "8f24a495",
   "metadata": {},
   "outputs": [
    {
     "data": {
      "text/plain": [
       "False"
      ]
     },
     "execution_count": 381,
     "metadata": {},
     "output_type": "execute_result"
    }
   ],
   "source": [
    "output2 >output1"
   ]
  },
  {
   "cell_type": "code",
   "execution_count": 382,
   "id": "02785822",
   "metadata": {},
   "outputs": [],
   "source": [
    "def possession_date_agent(state:State):\n",
    "    output_dict = state.get(\"output_dict\")\n",
    "    df_dict = state.get(\"df_dict\")\n",
    "    if \"possessionDate\" in list(output_dict.keys()):\n",
    "        date = output_dict.get(\"possessionDate\")\n",
    "        date_object = convert_to_date(date)\n",
    "        df_test = df.copy()\n",
    "        df_test[\"possessionDate\"] = df_test[\"possessionDate\"].map(lambda x: str(x).split(\" \")[0] if pd.notna(x) else None)\n",
    "\n",
    "        df_test[\"possessionDate\"] = df_test[\"possessionDate\"].map(convert_to_date)\n",
    "        #  filter rows where possessionDate is not null and < target_date\n",
    "        filtered_df = df_test[df_test[\"possessionDate\"].notna() & (df_test[\"possessionDate\"] < date_object)].copy()\n",
    "        df_dict[\"filtered_df_possession\"] = filtered_df\n",
    "    else:\n",
    "        df_dict[\"filtered_df_possession\"] = None\n",
    "    return {\"df_dict\":df_dict}"
   ]
  },
  {
   "cell_type": "code",
   "execution_count": 400,
   "id": "5fd215b9",
   "metadata": {},
   "outputs": [],
   "source": [
    "## now creating the final agents for bathrooms and balcony\n",
    "def bathroom_agent(state:State):\n",
    "    output_dict = state.get(\"output_dict\")\n",
    "    df_dict = state.get(\"df_dict\")\n",
    "    if \"bathrooms\" in list(output_dict.keys()):\n",
    "        bathrooms = output_dict.get(\"bathrooms\")\n",
    "        filtered_df = df[df[\"bathrooms\"] == bathrooms].copy()\n",
    "        df_dict[\"filtered_df_bathrooms\"] = filtered_df\n",
    "    else:\n",
    "        df_dict[\"filtered_df_bathrooms\"] = None\n",
    "    return {\"df_dict\":df_dict}"
   ]
  },
  {
   "cell_type": "code",
   "execution_count": 404,
   "id": "84ccebab",
   "metadata": {},
   "outputs": [],
   "source": [
    "def balcony_agent(state:State):\n",
    "    output_dict = state.get(\"output_dict\")\n",
    "    df_dict = state.get(\"df_dict\")\n",
    "    if \"balcony\" in list(output_dict.keys()):\n",
    "        balcony = output_dict.get(\"balcony\")\n",
    "        filtered_df = df[df[\"balcony\"] == balcony].copy()\n",
    "        df_dict[\"filtered_df_balcony\"] = filtered_df\n",
    "    else:\n",
    "        df_dict[\"filtered_df_balcony\"] = None\n",
    "    return {\"df_dict\":df_dict}"
   ]
  },
  {
   "cell_type": "code",
   "execution_count": null,
   "id": "ed4574d8",
   "metadata": {},
   "outputs": [],
   "source": [
    "## till here i have created the main agent along with all parallel agents\n",
    "## now i will create th retrieve agent \n",
    "## this agent will retreive all the frameworks from all agents\n",
    "## then will store all of the pandas dataframe in a list \n",
    "## and will select the common rows out of all these pandas dataframe"
   ]
  },
  {
   "cell_type": "code",
   "execution_count": 415,
   "id": "a31ba905",
   "metadata": {},
   "outputs": [],
   "source": [
    "def retrieve_agent(state: State):\n",
    "    output_dict = state.get(\"output_dict\", {})\n",
    "    df_dict = state.get(\"df_dict\", {})\n",
    "\n",
    "    list_agents = list(output_dict.keys())\n",
    "    list_df = []\n",
    "\n",
    "    # --- collect all filtered dataframes that exist ---\n",
    "    if \"status\" in list_agents and df_dict.get(\"filtered_df_status\") is not None:\n",
    "        list_df.append(df_dict[\"filtered_df_status\"])\n",
    "\n",
    "    if \"furnishedType\" in list_agents and df_dict.get(\"filtered_df_furnished\") is not None:\n",
    "        list_df.append(df_dict[\"filtered_df_furnished\"])\n",
    "\n",
    "    if \"type\" in list_agents and df_dict.get(\"filtered_df_type\") is not None:\n",
    "        list_df.append(df_dict[\"filtered_df_type\"])\n",
    "\n",
    "    if \"listingType\" in list_agents and df_dict.get(\"filtered_df_listing\") is not None:\n",
    "        list_df.append(df_dict[\"filtered_df_listing\"])\n",
    "\n",
    "    if \"carpetArea\" in list_agents and df_dict.get(\"filtered_df_area\") is not None:\n",
    "        list_df.append(df_dict[\"filtered_df_area\"])\n",
    "\n",
    "    if \"price\" in list_agents and df_dict.get(\"filtered_df_price\") is not None:\n",
    "        list_df.append(df_dict[\"filtered_df_price\"])\n",
    "\n",
    "    if \"possessionDate\" in list_agents and df_dict.get(\"filtered_df_possession\") is not None:\n",
    "        list_df.append(df_dict[\"filtered_df_possession\"])\n",
    "\n",
    "    if \"bathrooms\" in list_agents and df_dict.get(\"filtered_df_bathrooms\") is not None:\n",
    "        list_df.append(df_dict[\"filtered_df_bathrooms\"])\n",
    "\n",
    "    if \"balcony\" in list_agents and df_dict.get(\"filtered_df_balcony\") is not None:\n",
    "        list_df.append(df_dict[\"filtered_df_balcony\"])\n",
    "\n",
    "    # --- Step 2: find intersection of all filtered DataFrames ---\n",
    "    if not list_df:\n",
    "        # if no filters were applied\n",
    "        final_df = None\n",
    "    else:\n",
    "        # start with the first dataframe\n",
    "        final_df = list_df[0]\n",
    "        # iteratively keep only common rows\n",
    "        for df_part in list_df[1:]:\n",
    "            final_df = pd.merge(final_df, df_part, how=\"inner\")\n",
    "\n",
    "    # --- Step 3: store the final filtered dataframe ---\n",
    "    df_dict[\"final_filtered_df\"] = final_df\n",
    "    state[\"df_dict\"] = df_dict\n",
    "\n",
    "    return {\"df_dict\":df_dict}\n"
   ]
  },
  {
   "cell_type": "code",
   "execution_count": 416,
   "id": "7d05a8f4",
   "metadata": {},
   "outputs": [
    {
     "data": {
      "text/plain": [
       "{'status': 'UNDER_CONSTRUCTION',\n",
       " 'fullAddress': 'Wakad, Pune',\n",
       " 'type': '1BHK',\n",
       " 'listingType': 'Sell',\n",
       " 'furnishedType': 'UNFURNISHED',\n",
       " 'carpetArea': 123,\n",
       " 'bathrooms': 2,\n",
       " 'balcony': 1,\n",
       " 'price': {'min': 1000000, 'max': 10000000}}"
      ]
     },
     "execution_count": 416,
     "metadata": {},
     "output_type": "execute_result"
    }
   ],
   "source": [
    "response"
   ]
  },
  {
   "cell_type": "code",
   "execution_count": 473,
   "id": "a9888e03",
   "metadata": {},
   "outputs": [
    {
     "data": {
      "text/plain": [
       "ChatOpenAI(client=<openai.resources.chat.completions.completions.Completions object at 0x0000022566977250>, async_client=<openai.resources.chat.completions.completions.AsyncCompletions object at 0x0000022566ECBF10>, root_client=<openai.OpenAI object at 0x0000022566977C10>, root_async_client=<openai.AsyncOpenAI object at 0x0000022566ECBE80>, model_kwargs={}, openai_api_key=SecretStr('**********'), stream_usage=True)"
      ]
     },
     "execution_count": 473,
     "metadata": {},
     "output_type": "execute_result"
    }
   ],
   "source": [
    "llm"
   ]
  },
  {
   "cell_type": "code",
   "execution_count": null,
   "id": "c8036055",
   "metadata": {},
   "outputs": [],
   "source": [
    "## now i will be making the final agent such that this final agent\n",
    "## will take final_filtered_df as input which will have all these columns\n",
    "## ['projectName', 'status', 'possessionDate', 'fullAddress', 'pincode',\n",
    "  #     'type', 'carpetArea', 'price', 'bathrooms', 'balcony', 'listingType',\n",
    "  #     'furnishedType', 'projectCategory', 'projectType', 'propertyCategory',\n",
    "  #     'landmark', 'cityId', 'localityId', 'subLocalityId', 'propertyImages',\n",
    "  #     'floorPlanImage']\n",
    "## also this similar response \n",
    "\"\"\"  {'status': 'UNDER_CONSTRUCTION',\n",
    " 'fullAddress': 'Wakad, Pune',\n",
    " 'type': '1BHK',\n",
    " 'listingType': 'Sell',\n",
    " 'furnishedType': 'UNFURNISHED',\n",
    " 'carpetArea': 123,\n",
    " 'bathrooms': 2,\n",
    " 'balcony': 1,\n",
    " 'price': {'min': 1000000, 'max': 10000000}}\n",
    "          \"\"\"\n",
    "## along with the user question\n",
    "## 1 bhk unfurnished for buying in wakad, pune above 123 sqft ,with two bathrooms and one balcony of price range 1000000 to 10000000\n",
    "## i want an agent which may take these information as input\n",
    "## column names in prompt,output_dict from state ,user question\n",
    "## the agent will generate the prompt also thre is column propertyImages and floorPlanImage\n",
    "## having the url of image so agnet will also show the image along with the text using image url\n",
    "\n"
   ]
  },
  {
   "cell_type": "code",
   "execution_count": 436,
   "id": "155e8ffe",
   "metadata": {},
   "outputs": [],
   "source": [
    "def final_agent(state:State):\n",
    "    df_dict = state.get(\"df_dict\")\n",
    "    output_dict = state.get(\"output_dict\")\n",
    "    final_df = df_dict.get(\"final_filtered_df\")\n",
    "    final_df_list = final_df.to_dict(orient='records')\n",
    "\n",
    "    user_query = state.get(\"user_query\")\n",
    "    template = \"\"\" You are an intelligent system.You will be given final dataset in list format {final_df_list}\n",
    "     along with output dictionary provided in a dictionary  {output_dict}.These are the columns of the dataset \n",
    "     ['projectName', 'status', 'possessionDate', 'fullAddress', 'pincode',\n",
    "       'type', 'carpetArea', 'price', 'bathrooms', 'balcony', 'listingType',\n",
    "       'furnishedType', 'projectCategory', 'projectType', 'propertyCategory',\n",
    "       'landmark', 'cityId', 'localityId', 'subLocalityId', 'propertyImages',\n",
    "       'floorPlanImage'].\n",
    "       and this is the orignal user query {user_query}.\n",
    "       based on this following data give a final response.This final response will be holding the answer of the query\n",
    "       based on the data of final dataset and output dictionary.The response should be in simple langauge covering\n",
    "       all the information about the user query what every you think the user is expecting for.Before generating the query think two three times\n",
    "       while taking the reference of provided data.\n",
    "                    \"\"\"\n",
    "    \n",
    "\n",
    "    prompt = PromptTemplate(template = template,input_variables = [\"final_df_dict\",\"output_dict\",\"user_query\"])\n",
    "    chain = prompt | llm \n",
    "    response = chain.invoke({\"final_df_list\":final_df_list,\"output_dict\":json.dumps(output_dict),\"user_query\":user_query})\n",
    "    return {\"response\":response}"
   ]
  },
  {
   "cell_type": "code",
   "execution_count": null,
   "id": "fe9dc44e",
   "metadata": {},
   "outputs": [],
   "source": [
    "## i just want this fianl response and rest is fine\n",
    "## i have created all the agents now i just need to combine all the agents "
   ]
  },
  {
   "cell_type": "code",
   "execution_count": 489,
   "id": "d0e059fa",
   "metadata": {},
   "outputs": [],
   "source": [
    "## now creating the langgraph workflow for this \n",
    "workflow = StateGraph(State)\n",
    "## defining all the nodes\n",
    "workflow.add_node(\"main_agent\",main_agent)\n",
    "workflow.add_node(\"status_agent\",status_agent)\n",
    "workflow.add_node(\"furnished_agent\",furnished_agent)\n",
    "workflow.add_node(\"type_agent\",type_agent)\n",
    "workflow.add_node(\"listingType_agent\",listingType_agent)\n",
    "workflow.add_node(\"carpet_area_agent\",carpet_area_agent)\n",
    "workflow.add_node(\"price_agent\",price_agent)\n",
    "workflow.add_node(\"possession_date_agent\",possession_date_agent)\n",
    "workflow.add_node(\"bathroom_agent\",bathroom_agent)\n",
    "workflow.add_node(\"balcony_agent\",balcony_agent)\n",
    "workflow.add_node(\"retrieve_agent\",retrieve_agent)\n",
    "workflow.add_node(\"final_agent\",final_agent)\n",
    "\n",
    "## connecting the nodes with each other\n",
    "workflow.add_edge(START,\"main_agent\")\n",
    "workflow.add_edge(\"main_agent\",\"status_agent\")\n",
    "workflow.add_edge(\"main_agent\",\"furnished_agent\")\n",
    "workflow.add_edge(\"main_agent\",\"type_agent\")\n",
    "workflow.add_edge(\"main_agent\",\"listingType_agent\")\n",
    "workflow.add_edge(\"main_agent\",\"carpet_area_agent\")\n",
    "workflow.add_edge(\"main_agent\",\"price_agent\")\n",
    "workflow.add_edge(\"main_agent\",\"possession_date_agent\")\n",
    "workflow.add_edge(\"main_agent\",\"bathroom_agent\")\n",
    "workflow.add_edge(\"main_agent\",\"balcony_agent\")\n",
    "\n",
    "workflow.add_edge(\"status_agent\",\"retrieve_agent\")\n",
    "workflow.add_edge(\"furnished_agent\",\"retrieve_agent\")\n",
    "workflow.add_edge(\"type_agent\",\"retrieve_agent\")\n",
    "workflow.add_edge(\"listingType_agent\",\"retrieve_agent\")\n",
    "workflow.add_edge(\"carpet_area_agent\",\"retrieve_agent\")\n",
    "workflow.add_edge(\"price_agent\",\"retrieve_agent\")\n",
    "workflow.add_edge(\"possession_date_agent\",\"retrieve_agent\")\n",
    "workflow.add_edge(\"bathroom_agent\",\"retrieve_agent\")\n",
    "workflow.add_edge(\"balcony_agent\",\"retrieve_agent\")\n",
    "workflow.add_edge(\"retrieve_agent\",\"final_agent\")\n",
    "workflow.add_edge(\"final_agent\",END)\n",
    "graph = workflow.compile()\n",
    "\n"
   ]
  },
  {
   "cell_type": "code",
   "execution_count": 459,
   "id": "1a0d8967",
   "metadata": {},
   "outputs": [
    {
     "data": {
      "image/png": "[encoded data removed]",
      "text/plain": [
       "<langgraph.graph.state.CompiledStateGraph object at 0x000002256B20C8B0>"
      ]
     },
     "execution_count": 459,
     "metadata": {},
     "output_type": "execute_result"
    }
   ],
   "source": [
    "graph"
   ]
  },
  {
   "cell_type": "code",
   "execution_count": 495,
   "id": "cf94a925",
   "metadata": {},
   "outputs": [],
   "source": [
    "inputs = {\"user_query\":\"1 bhk unfurnished for buying in wakad, pune above 123 sqft upto price 1 crore should be ready before  dec 2025\",\"df_dict\":{}}"
   ]
  },
  {
   "cell_type": "code",
   "execution_count": 496,
   "id": "591fba22",
   "metadata": {},
   "outputs": [
    {
     "name": "stdout",
     "output_type": "stream",
     "text": [
      "\"Node 'main_agent':\"\n",
      "'\\n---\\n'\n",
      "\"Node 'balcony_agent':\"\n",
      "'\\n---\\n'\n",
      "\"Node 'bathroom_agent':\"\n",
      "'\\n---\\n'\n",
      "\"Node 'carpet_area_agent':\"\n",
      "'\\n---\\n'\n",
      "\"Node 'furnished_agent':\"\n",
      "'\\n---\\n'\n",
      "\"Node 'listingType_agent':\"\n",
      "'\\n---\\n'\n",
      "\"Node 'possession_date_agent':\"\n",
      "'\\n---\\n'\n",
      "\"Node 'price_agent':\"\n",
      "'\\n---\\n'\n",
      "\"Node 'status_agent':\"\n",
      "'\\n---\\n'\n",
      "\"Node 'type_agent':\"\n",
      "'\\n---\\n'\n",
      "\"Node 'retrieve_agent':\"\n",
      "'\\n---\\n'\n",
      "\"Node 'final_agent':\"\n",
      "'\\n---\\n'\n",
      "AIMessage(content=\"Based on your query for **1 BHK, unfurnished apartments for buying in Wakad, Pune** with a **carpet area above 123 sq.ft.**, **price up to ₹1 crore**, and **ready for possession before December 2025**, here’s what I found from the provided data:\\n\\n---\\n\\n## **Summary of User Requirements:**\\n- **Type:** 1BHK\\n- **Furnished Type:** Unfurnished\\n- **Listing Type:** Sell (Buy)\\n- **Location:** Wakad, Pune\\n- **Carpet Area:** Above 123 sq.ft.\\n- **Budget:** Up to ₹1 crore (₹10,000,000)\\n- **Possession Date:** Ready before or by December 2025\\n\\n---\\n\\n## **Dataset Evaluation:**\\n\\nAfter checking the dataset, let’s break down each filter:\\n\\n### 1. **Location: Wakad, Pune**\\n- **The provided dataset columns:** 'fullAddress', 'cityId', 'localityId', 'subLocalityId'.\\n- In the given data, **no property has 'Wakad' mentioned in 'fullAddress'**.\\n- Also, cross-checking with possible locality or sublocality IDs doesn’t indicate 'Wakad' or its surrounding areas in Pune.\\n\\n### 2. **Type & Furnishing**\\n- There are several 1BHK, unfurnished options in the dataset, majorly spread across Mumbai and other localities in Pune (Chembur, Mamurdi, Keshav Nagar, etc.).\\n\\n### 3. **Price, Area & Possession Date**\\n- Several 1BHK flats in the dataset meet the area and price criteria and are either ready-to-move or under-construction with possession before Dec 2025.\\n- However, **none are explicitly listed in Wakad, Pune.**\\n\\n---\\n\\n## **Conclusion:**\\n\\n**Currently, there are no 1BHK unfurnished flats for sale in Wakad, Pune within your specified carpet area and price range, ready before December 2025, in the given dataset.**\\n\\n### **Alternatives Found:**\\n- There are several 1BHK unfurnished flats available in Pune (e.g., Keshav Nagar, Mamurdi, Shivajinagar) and many options in Mumbai, but none specifically in Wakad.\\n- If you are open to nearby areas of Wakad (for example, Hinjewadi, Baner, Pimple Saudagar, or Keshav Nagar), or if you want a broader search within Pune, you may find matching options.\\n\\n---\\n\\n## **What You Can Do:**\\n\\n1. **Expand location preferences:** Include neighboring areas to Wakad.\\n2. **Broaden criteria:** Adjust carpet area or budget if location is fixed.\\n3. **Request for future updates:** Let us know if you’d like to be notified when a suitable property in Wakad becomes available.\\n\\n---\\n\\n### **Let me know if you’d like to explore 1BHK options in other parts of Pune or if you want to broaden your search!**\", additional_kwargs={'refusal': None}, response_metadata={'token_usage': {'completion_tokens': 625, 'prompt_tokens': 26026, 'total_tokens': 26651, 'completion_tokens_details': {'accepted_prediction_tokens': 0, 'audio_tokens': 0, 'reasoning_tokens': 0, 'rejected_prediction_tokens': 0}, 'prompt_tokens_details': {'audio_tokens': 0, 'cached_tokens': 17408}}, 'model_name': 'gpt-4.1-2025-04-14', 'system_fingerprint': 'fp_422e2d36a8', 'id': 'chatcmpl-CRd0Al4sniooCJhoZ9owq5Gqyqf6O', 'service_tier': 'default', 'finish_reason': 'stop', 'logprobs': None}, id='run--7207e7ef-2980-4216-bece-79156df0623b-0', usage_metadata={'input_tokens': 26026, 'output_tokens': 625, 'total_tokens': 26651, 'input_token_details': {'audio': 0, 'cache_read': 17408}, 'output_token_details': {'audio': 0, 'reasoning': 0}})\n"
     ]
    }
   ],
   "source": [
    "from pprint import pprint\n",
    "for output in graph.stream(inputs):\n",
    "    for key, value in output.items():\n",
    "        # Node\n",
    "        pprint(f\"Node '{key}':\")\n",
    "        # Optional: print full state at each node\n",
    "        # pprint.pprint(value[\"keys\"], indent=2, width=80, depth=None)\n",
    "    pprint(\"\\n---\\n\")\n",
    "# Final generation\n",
    "pprint(value[\"response\"])"
   ]
  },
  {
   "cell_type": "code",
   "execution_count": 494,
   "id": "a136d5aa",
   "metadata": {},
   "outputs": [],
   "source": [
    "inputs = {\"user_query\":\"1 bhk unfurnished for buying in wakad, pune above 123 sqft upto price 1 crore should be ready before  dec 2025\",\"df_dict\":{}}"
   ]
  },
  {
   "cell_type": "code",
   "execution_count": 497,
   "id": "69e79096",
   "metadata": {},
   "outputs": [],
   "source": [
    "result = graph.invoke(inputs)"
   ]
  },
  {
   "cell_type": "code",
   "execution_count": 498,
   "id": "f90828f5",
   "metadata": {},
   "outputs": [
    {
     "data": {
      "text/plain": [
       "{'user_query': '1 bhk unfurnished for buying in wakad, pune above 123 sqft upto price 1 crore should be ready before  dec 2025',\n",
       " 'output_dict': {'type': '1BHK',\n",
       "  'furnishedType': 'UNFURNISHED',\n",
       "  'listingType': 'Sell',\n",
       "  'fullAddress': 'Wakad, Pune',\n",
       "  'carpetArea': 123,\n",
       "  'price': {'min': 0, 'max': 10000000},\n",
       "  'possessionDate': '2025-12-01'},\n",
       " 'df_dict': {'filtered_df_listing':       projectName              status       possessionDate  \\\n",
       "  0         Ashwini  UNDER_CONSTRUCTION  2025-09-28 00:00:00   \n",
       "  1         Ashwini  UNDER_CONSTRUCTION  2025-09-28 00:00:00   \n",
       "  2      Pristine02       READY_TO_MOVE                  NaN   \n",
       "  3      Pristine02       READY_TO_MOVE                  NaN   \n",
       "  4       Gurukripa  UNDER_CONSTRUCTION                  NaN   \n",
       "  ..            ...                 ...                  ...   \n",
       "  78    testring999  UNDER_CONSTRUCTION  2025-09-25 00:00:00   \n",
       "  79   Queens Glory  UNDER_CONSTRUCTION  2027-12-31 00:00:00   \n",
       "  80  Queens Avenue  UNDER_CONSTRUCTION  2027-12-31 00:00:00   \n",
       "  81  Queens Avenue  UNDER_CONSTRUCTION  2027-12-31 00:00:00   \n",
       "  82  Queens Avenue  UNDER_CONSTRUCTION  2027-12-31 00:00:00   \n",
       "  \n",
       "                                            fullAddress  pincode  type  \\\n",
       "  0                                      Mumbai chembur   411017  1BHK   \n",
       "  1                                      Mumbai chembur   411017  2BHK   \n",
       "  2   sr no 13 beside godrej, opposite to mca stadiu...   412101  2BHK   \n",
       "  3   sr no 13 beside godrej, opposite to mca stadiu...   412101  2BHK   \n",
       "  4   Sindhi Society, Near Swami Vivekanand Jr Colle...   400071  1BHK   \n",
       "  ..                                                ...      ...   ...   \n",
       "  78                                             sdfghj   123456  3BHK   \n",
       "  79  Building No 10, Subhash Nagar Redevelopment Cl...   400076  1RK    \n",
       "  80     Subhash Nagar, Chembur, Mumbai Harbour, Mumbai   400076  1BHK   \n",
       "  81     Subhash Nagar, Chembur, Mumbai Harbour, Mumbai   400076  2BHK   \n",
       "  82     Subhash Nagar, Chembur, Mumbai Harbour, Mumbai   400076  2BHK   \n",
       "  \n",
       "      carpetArea      price  bathrooms  balcony  ... furnishedType  \\\n",
       "  0       123.00   11111111          1      1.0  ...   UNFURNISHED   \n",
       "  1       456.00   22222222          0      2.0  ...   UNFURNISHED   \n",
       "  2       972.00  120000000         12      3.0  ...   UNFURNISHED   \n",
       "  3       188.73  210000000          3      2.0  ...   UNFURNISHED   \n",
       "  4       426.57   13000000          1      1.0  ...   UNFURNISHED   \n",
       "  ..         ...        ...        ...      ...  ...           ...   \n",
       "  78        7.00   80000000          9      9.0  ...   UNFURNISHED   \n",
       "  79      331.85    7944000          1      1.0  ...   UNFURNISHED   \n",
       "  80      396.97   10700000          1      1.0  ...   UNFURNISHED   \n",
       "  81      568.98   15300000          2      4.0  ...   UNFURNISHED   \n",
       "  82      619.89   16700000          2      2.0  ...   UNFURNISHED   \n",
       "  \n",
       "     projectCategory  projectType propertyCategory  \\\n",
       "  0       STANDALONE  RESIDENTIAL      RESIDENTIAL   \n",
       "  1       STANDALONE  RESIDENTIAL      RESIDENTIAL   \n",
       "  2       STANDALONE  RESIDENTIAL      RESIDENTIAL   \n",
       "  3       STANDALONE  RESIDENTIAL      RESIDENTIAL   \n",
       "  4          COMPLEX  RESIDENTIAL      RESIDENTIAL   \n",
       "  ..             ...          ...              ...   \n",
       "  78         COMPLEX  RESIDENTIAL      RESIDENTIAL   \n",
       "  79      STANDALONE  RESIDENTIAL      RESIDENTIAL   \n",
       "  80        TOWNSHIP  RESIDENTIAL      RESIDENTIAL   \n",
       "  81        TOWNSHIP  RESIDENTIAL      RESIDENTIAL   \n",
       "  82        TOWNSHIP  RESIDENTIAL      RESIDENTIAL   \n",
       "  \n",
       "                              landmark                     cityId  \\\n",
       "  0                       Babys school  cmf6nu3ru000gvcxspxarll3v   \n",
       "  1                       Babys school  cmf6nu3ru000gvcxspxarll3v   \n",
       "  2                         Sai nagar   cmf6nu3ru000gvcxspxarll3v   \n",
       "  3                         Sai nagar   cmf6nu3ru000gvcxspxarll3v   \n",
       "  4                     Sindhi Society  cmf50r5a00000vcj0k1iuocuu   \n",
       "  ..                               ...                        ...   \n",
       "  78                         esrdfghbj  cmf6nu3ru000gvcxspxarll3v   \n",
       "  79  Shri siddhivinayak ganesh temple  cmf50r5a00000vcj0k1iuocuu   \n",
       "  80  Shri siddhivinayak ganesh temple  cmf50r5a00000vcj0k1iuocuu   \n",
       "  81  Shri siddhivinayak ganesh temple  cmf50r5a00000vcj0k1iuocuu   \n",
       "  82  Shri siddhivinayak ganesh temple  cmf50r5a00000vcj0k1iuocuu   \n",
       "  \n",
       "                     localityId              subLocalityId  \\\n",
       "  0   cmf6pksk30035vcxs7r2mo3iq  cmfdkuymm0001vc90iiyzkr8d   \n",
       "  1   cmf6pksk30035vcxs7r2mo3iq  cmfdkuymm0001vc90iiyzkr8d   \n",
       "  2   cmf6pk0cn0033vcxshxbf5hdh  cmfdn705v001pvc90uyle9m34   \n",
       "  3   cmf6pk0cn0033vcxshxbf5hdh  cmfdn705v001pvc90uyle9m34   \n",
       "  4   cmf51ieam0001vcj0kljobiod  cmf51ix980003vcj0z7abv17k   \n",
       "  ..                        ...                        ...   \n",
       "  78  cmf6pksk30035vcxs7r2mo3iq  cmfdkuymm0001vc90iiyzkr8d   \n",
       "  79  cmf51ieam0001vcj0kljobiod  cmfxo3xxc0007qq13foyboh8s   \n",
       "  80  cmf51ieam0001vcj0kljobiod  cmfxo3xxc0007qq13foyboh8s   \n",
       "  81  cmf51ieam0001vcj0kljobiod  cmfxo3xxc0007qq13foyboh8s   \n",
       "  82  cmf51ieam0001vcj0kljobiod  cmfxo3xxc0007qq13foyboh8s   \n",
       "  \n",
       "                                         propertyImages  \\\n",
       "  0   [\"https://pub-d28896f69c604ec5aa743cb0397740d9...   \n",
       "  1   [\"https://pub-d28896f69c604ec5aa743cb0397740d9...   \n",
       "  2   [\"https://pub-d28896f69c604ec5aa743cb0397740d9...   \n",
       "  3   [\"https://pub-d28896f69c604ec5aa743cb0397740d9...   \n",
       "  4   [\"https://pub-d28896f69c604ec5aa743cb0397740d9...   \n",
       "  ..                                                ...   \n",
       "  78  [\"https://pub-d28896f69c604ec5aa743cb0397740d9...   \n",
       "  79  [\"https://pub-d28896f69c604ec5aa743cb0397740d9...   \n",
       "  80  [\"https://pub-d28896f69c604ec5aa743cb0397740d9...   \n",
       "  81  [\"https://pub-d28896f69c604ec5aa743cb0397740d9...   \n",
       "  82  [\"https://pub-d28896f69c604ec5aa743cb0397740d9...   \n",
       "  \n",
       "                                         floorPlanImage  \n",
       "  0   https://pub-d28896f69c604ec5aa743cb0397740d9.r...  \n",
       "  1   https://pub-d28896f69c604ec5aa743cb0397740d9.r...  \n",
       "  2   https://pub-d28896f69c604ec5aa743cb0397740d9.r...  \n",
       "  3   https://pub-d28896f69c604ec5aa743cb0397740d9.r...  \n",
       "  4   https://pub-d28896f69c604ec5aa743cb0397740d9.r...  \n",
       "  ..                                                ...  \n",
       "  78  https://pub-d28896f69c604ec5aa743cb0397740d9.r...  \n",
       "  79  https://pub-d28896f69c604ec5aa743cb0397740d9.r...  \n",
       "  80  https://pub-d28896f69c604ec5aa743cb0397740d9.r...  \n",
       "  81  https://pub-d28896f69c604ec5aa743cb0397740d9.r...  \n",
       "  82  https://pub-d28896f69c604ec5aa743cb0397740d9.r...  \n",
       "  \n",
       "  [83 rows x 21 columns],\n",
       "  'filtered_df_furnished':       projectName              status       possessionDate  \\\n",
       "  0         Ashwini  UNDER_CONSTRUCTION  2025-09-28 00:00:00   \n",
       "  1         Ashwini  UNDER_CONSTRUCTION  2025-09-28 00:00:00   \n",
       "  2      Pristine02       READY_TO_MOVE                  NaN   \n",
       "  3      Pristine02       READY_TO_MOVE                  NaN   \n",
       "  4       Gurukripa  UNDER_CONSTRUCTION                  NaN   \n",
       "  ..            ...                 ...                  ...   \n",
       "  78    testring999  UNDER_CONSTRUCTION  2025-09-25 00:00:00   \n",
       "  79   Queens Glory  UNDER_CONSTRUCTION  2027-12-31 00:00:00   \n",
       "  80  Queens Avenue  UNDER_CONSTRUCTION  2027-12-31 00:00:00   \n",
       "  81  Queens Avenue  UNDER_CONSTRUCTION  2027-12-31 00:00:00   \n",
       "  82  Queens Avenue  UNDER_CONSTRUCTION  2027-12-31 00:00:00   \n",
       "  \n",
       "                                            fullAddress  pincode  type  \\\n",
       "  0                                      Mumbai chembur   411017  1BHK   \n",
       "  1                                      Mumbai chembur   411017  2BHK   \n",
       "  2   sr no 13 beside godrej, opposite to mca stadiu...   412101  2BHK   \n",
       "  3   sr no 13 beside godrej, opposite to mca stadiu...   412101  2BHK   \n",
       "  4   Sindhi Society, Near Swami Vivekanand Jr Colle...   400071  1BHK   \n",
       "  ..                                                ...      ...   ...   \n",
       "  78                                             sdfghj   123456  3BHK   \n",
       "  79  Building No 10, Subhash Nagar Redevelopment Cl...   400076  1RK    \n",
       "  80     Subhash Nagar, Chembur, Mumbai Harbour, Mumbai   400076  1BHK   \n",
       "  81     Subhash Nagar, Chembur, Mumbai Harbour, Mumbai   400076  2BHK   \n",
       "  82     Subhash Nagar, Chembur, Mumbai Harbour, Mumbai   400076  2BHK   \n",
       "  \n",
       "      carpetArea      price  bathrooms  balcony  ... furnishedType  \\\n",
       "  0       123.00   11111111          1      1.0  ...   UNFURNISHED   \n",
       "  1       456.00   22222222          0      2.0  ...   UNFURNISHED   \n",
       "  2       972.00  120000000         12      3.0  ...   UNFURNISHED   \n",
       "  3       188.73  210000000          3      2.0  ...   UNFURNISHED   \n",
       "  4       426.57   13000000          1      1.0  ...   UNFURNISHED   \n",
       "  ..         ...        ...        ...      ...  ...           ...   \n",
       "  78        7.00   80000000          9      9.0  ...   UNFURNISHED   \n",
       "  79      331.85    7944000          1      1.0  ...   UNFURNISHED   \n",
       "  80      396.97   10700000          1      1.0  ...   UNFURNISHED   \n",
       "  81      568.98   15300000          2      4.0  ...   UNFURNISHED   \n",
       "  82      619.89   16700000          2      2.0  ...   UNFURNISHED   \n",
       "  \n",
       "     projectCategory  projectType propertyCategory  \\\n",
       "  0       STANDALONE  RESIDENTIAL      RESIDENTIAL   \n",
       "  1       STANDALONE  RESIDENTIAL      RESIDENTIAL   \n",
       "  2       STANDALONE  RESIDENTIAL      RESIDENTIAL   \n",
       "  3       STANDALONE  RESIDENTIAL      RESIDENTIAL   \n",
       "  4          COMPLEX  RESIDENTIAL      RESIDENTIAL   \n",
       "  ..             ...          ...              ...   \n",
       "  78         COMPLEX  RESIDENTIAL      RESIDENTIAL   \n",
       "  79      STANDALONE  RESIDENTIAL      RESIDENTIAL   \n",
       "  80        TOWNSHIP  RESIDENTIAL      RESIDENTIAL   \n",
       "  81        TOWNSHIP  RESIDENTIAL      RESIDENTIAL   \n",
       "  82        TOWNSHIP  RESIDENTIAL      RESIDENTIAL   \n",
       "  \n",
       "                              landmark                     cityId  \\\n",
       "  0                       Babys school  cmf6nu3ru000gvcxspxarll3v   \n",
       "  1                       Babys school  cmf6nu3ru000gvcxspxarll3v   \n",
       "  2                         Sai nagar   cmf6nu3ru000gvcxspxarll3v   \n",
       "  3                         Sai nagar   cmf6nu3ru000gvcxspxarll3v   \n",
       "  4                     Sindhi Society  cmf50r5a00000vcj0k1iuocuu   \n",
       "  ..                               ...                        ...   \n",
       "  78                         esrdfghbj  cmf6nu3ru000gvcxspxarll3v   \n",
       "  79  Shri siddhivinayak ganesh temple  cmf50r5a00000vcj0k1iuocuu   \n",
       "  80  Shri siddhivinayak ganesh temple  cmf50r5a00000vcj0k1iuocuu   \n",
       "  81  Shri siddhivinayak ganesh temple  cmf50r5a00000vcj0k1iuocuu   \n",
       "  82  Shri siddhivinayak ganesh temple  cmf50r5a00000vcj0k1iuocuu   \n",
       "  \n",
       "                     localityId              subLocalityId  \\\n",
       "  0   cmf6pksk30035vcxs7r2mo3iq  cmfdkuymm0001vc90iiyzkr8d   \n",
       "  1   cmf6pksk30035vcxs7r2mo3iq  cmfdkuymm0001vc90iiyzkr8d   \n",
       "  2   cmf6pk0cn0033vcxshxbf5hdh  cmfdn705v001pvc90uyle9m34   \n",
       "  3   cmf6pk0cn0033vcxshxbf5hdh  cmfdn705v001pvc90uyle9m34   \n",
       "  4   cmf51ieam0001vcj0kljobiod  cmf51ix980003vcj0z7abv17k   \n",
       "  ..                        ...                        ...   \n",
       "  78  cmf6pksk30035vcxs7r2mo3iq  cmfdkuymm0001vc90iiyzkr8d   \n",
       "  79  cmf51ieam0001vcj0kljobiod  cmfxo3xxc0007qq13foyboh8s   \n",
       "  80  cmf51ieam0001vcj0kljobiod  cmfxo3xxc0007qq13foyboh8s   \n",
       "  81  cmf51ieam0001vcj0kljobiod  cmfxo3xxc0007qq13foyboh8s   \n",
       "  82  cmf51ieam0001vcj0kljobiod  cmfxo3xxc0007qq13foyboh8s   \n",
       "  \n",
       "                                         propertyImages  \\\n",
       "  0   [\"https://pub-d28896f69c604ec5aa743cb0397740d9...   \n",
       "  1   [\"https://pub-d28896f69c604ec5aa743cb0397740d9...   \n",
       "  2   [\"https://pub-d28896f69c604ec5aa743cb0397740d9...   \n",
       "  3   [\"https://pub-d28896f69c604ec5aa743cb0397740d9...   \n",
       "  4   [\"https://pub-d28896f69c604ec5aa743cb0397740d9...   \n",
       "  ..                                                ...   \n",
       "  78  [\"https://pub-d28896f69c604ec5aa743cb0397740d9...   \n",
       "  79  [\"https://pub-d28896f69c604ec5aa743cb0397740d9...   \n",
       "  80  [\"https://pub-d28896f69c604ec5aa743cb0397740d9...   \n",
       "  81  [\"https://pub-d28896f69c604ec5aa743cb0397740d9...   \n",
       "  82  [\"https://pub-d28896f69c604ec5aa743cb0397740d9...   \n",
       "  \n",
       "                                         floorPlanImage  \n",
       "  0   https://pub-d28896f69c604ec5aa743cb0397740d9.r...  \n",
       "  1   https://pub-d28896f69c604ec5aa743cb0397740d9.r...  \n",
       "  2   https://pub-d28896f69c604ec5aa743cb0397740d9.r...  \n",
       "  3   https://pub-d28896f69c604ec5aa743cb0397740d9.r...  \n",
       "  4   https://pub-d28896f69c604ec5aa743cb0397740d9.r...  \n",
       "  ..                                                ...  \n",
       "  78  https://pub-d28896f69c604ec5aa743cb0397740d9.r...  \n",
       "  79  https://pub-d28896f69c604ec5aa743cb0397740d9.r...  \n",
       "  80  https://pub-d28896f69c604ec5aa743cb0397740d9.r...  \n",
       "  81  https://pub-d28896f69c604ec5aa743cb0397740d9.r...  \n",
       "  82  https://pub-d28896f69c604ec5aa743cb0397740d9.r...  \n",
       "  \n",
       "  [79 rows x 21 columns],\n",
       "  'filtered_df_balcony': None,\n",
       "  'filtered_df_bathrooms': None,\n",
       "  'filtered_df_area': None,\n",
       "  'filtered_df_possession': None,\n",
       "  'filtered_df_price': None,\n",
       "  'filtered_df_status': None,\n",
       "  'filtered_df_type': None,\n",
       "  'final_filtered_df':       projectName              status       possessionDate  \\\n",
       "  0         Ashwini  UNDER_CONSTRUCTION  2025-09-28 00:00:00   \n",
       "  1         Ashwini  UNDER_CONSTRUCTION  2025-09-28 00:00:00   \n",
       "  2      Pristine02       READY_TO_MOVE                  NaN   \n",
       "  3      Pristine02       READY_TO_MOVE                  NaN   \n",
       "  4       Gurukripa  UNDER_CONSTRUCTION                  NaN   \n",
       "  ..            ...                 ...                  ...   \n",
       "  74    testring999  UNDER_CONSTRUCTION  2025-09-25 00:00:00   \n",
       "  75   Queens Glory  UNDER_CONSTRUCTION  2027-12-31 00:00:00   \n",
       "  76  Queens Avenue  UNDER_CONSTRUCTION  2027-12-31 00:00:00   \n",
       "  77  Queens Avenue  UNDER_CONSTRUCTION  2027-12-31 00:00:00   \n",
       "  78  Queens Avenue  UNDER_CONSTRUCTION  2027-12-31 00:00:00   \n",
       "  \n",
       "                                            fullAddress  pincode  type  \\\n",
       "  0                                      Mumbai chembur   411017  1BHK   \n",
       "  1                                      Mumbai chembur   411017  2BHK   \n",
       "  2   sr no 13 beside godrej, opposite to mca stadiu...   412101  2BHK   \n",
       "  3   sr no 13 beside godrej, opposite to mca stadiu...   412101  2BHK   \n",
       "  4   Sindhi Society, Near Swami Vivekanand Jr Colle...   400071  1BHK   \n",
       "  ..                                                ...      ...   ...   \n",
       "  74                                             sdfghj   123456  3BHK   \n",
       "  75  Building No 10, Subhash Nagar Redevelopment Cl...   400076  1RK    \n",
       "  76     Subhash Nagar, Chembur, Mumbai Harbour, Mumbai   400076  1BHK   \n",
       "  77     Subhash Nagar, Chembur, Mumbai Harbour, Mumbai   400076  2BHK   \n",
       "  78     Subhash Nagar, Chembur, Mumbai Harbour, Mumbai   400076  2BHK   \n",
       "  \n",
       "      carpetArea      price  bathrooms  balcony  ... furnishedType  \\\n",
       "  0       123.00   11111111          1      1.0  ...   UNFURNISHED   \n",
       "  1       456.00   22222222          0      2.0  ...   UNFURNISHED   \n",
       "  2       972.00  120000000         12      3.0  ...   UNFURNISHED   \n",
       "  3       188.73  210000000          3      2.0  ...   UNFURNISHED   \n",
       "  4       426.57   13000000          1      1.0  ...   UNFURNISHED   \n",
       "  ..         ...        ...        ...      ...  ...           ...   \n",
       "  74        7.00   80000000          9      9.0  ...   UNFURNISHED   \n",
       "  75      331.85    7944000          1      1.0  ...   UNFURNISHED   \n",
       "  76      396.97   10700000          1      1.0  ...   UNFURNISHED   \n",
       "  77      568.98   15300000          2      4.0  ...   UNFURNISHED   \n",
       "  78      619.89   16700000          2      2.0  ...   UNFURNISHED   \n",
       "  \n",
       "     projectCategory  projectType propertyCategory  \\\n",
       "  0       STANDALONE  RESIDENTIAL      RESIDENTIAL   \n",
       "  1       STANDALONE  RESIDENTIAL      RESIDENTIAL   \n",
       "  2       STANDALONE  RESIDENTIAL      RESIDENTIAL   \n",
       "  3       STANDALONE  RESIDENTIAL      RESIDENTIAL   \n",
       "  4          COMPLEX  RESIDENTIAL      RESIDENTIAL   \n",
       "  ..             ...          ...              ...   \n",
       "  74         COMPLEX  RESIDENTIAL      RESIDENTIAL   \n",
       "  75      STANDALONE  RESIDENTIAL      RESIDENTIAL   \n",
       "  76        TOWNSHIP  RESIDENTIAL      RESIDENTIAL   \n",
       "  77        TOWNSHIP  RESIDENTIAL      RESIDENTIAL   \n",
       "  78        TOWNSHIP  RESIDENTIAL      RESIDENTIAL   \n",
       "  \n",
       "                              landmark                     cityId  \\\n",
       "  0                       Babys school  cmf6nu3ru000gvcxspxarll3v   \n",
       "  1                       Babys school  cmf6nu3ru000gvcxspxarll3v   \n",
       "  2                         Sai nagar   cmf6nu3ru000gvcxspxarll3v   \n",
       "  3                         Sai nagar   cmf6nu3ru000gvcxspxarll3v   \n",
       "  4                     Sindhi Society  cmf50r5a00000vcj0k1iuocuu   \n",
       "  ..                               ...                        ...   \n",
       "  74                         esrdfghbj  cmf6nu3ru000gvcxspxarll3v   \n",
       "  75  Shri siddhivinayak ganesh temple  cmf50r5a00000vcj0k1iuocuu   \n",
       "  76  Shri siddhivinayak ganesh temple  cmf50r5a00000vcj0k1iuocuu   \n",
       "  77  Shri siddhivinayak ganesh temple  cmf50r5a00000vcj0k1iuocuu   \n",
       "  78  Shri siddhivinayak ganesh temple  cmf50r5a00000vcj0k1iuocuu   \n",
       "  \n",
       "                     localityId              subLocalityId  \\\n",
       "  0   cmf6pksk30035vcxs7r2mo3iq  cmfdkuymm0001vc90iiyzkr8d   \n",
       "  1   cmf6pksk30035vcxs7r2mo3iq  cmfdkuymm0001vc90iiyzkr8d   \n",
       "  2   cmf6pk0cn0033vcxshxbf5hdh  cmfdn705v001pvc90uyle9m34   \n",
       "  3   cmf6pk0cn0033vcxshxbf5hdh  cmfdn705v001pvc90uyle9m34   \n",
       "  4   cmf51ieam0001vcj0kljobiod  cmf51ix980003vcj0z7abv17k   \n",
       "  ..                        ...                        ...   \n",
       "  74  cmf6pksk30035vcxs7r2mo3iq  cmfdkuymm0001vc90iiyzkr8d   \n",
       "  75  cmf51ieam0001vcj0kljobiod  cmfxo3xxc0007qq13foyboh8s   \n",
       "  76  cmf51ieam0001vcj0kljobiod  cmfxo3xxc0007qq13foyboh8s   \n",
       "  77  cmf51ieam0001vcj0kljobiod  cmfxo3xxc0007qq13foyboh8s   \n",
       "  78  cmf51ieam0001vcj0kljobiod  cmfxo3xxc0007qq13foyboh8s   \n",
       "  \n",
       "                                         propertyImages  \\\n",
       "  0   [\"https://pub-d28896f69c604ec5aa743cb0397740d9...   \n",
       "  1   [\"https://pub-d28896f69c604ec5aa743cb0397740d9...   \n",
       "  2   [\"https://pub-d28896f69c604ec5aa743cb0397740d9...   \n",
       "  3   [\"https://pub-d28896f69c604ec5aa743cb0397740d9...   \n",
       "  4   [\"https://pub-d28896f69c604ec5aa743cb0397740d9...   \n",
       "  ..                                                ...   \n",
       "  74  [\"https://pub-d28896f69c604ec5aa743cb0397740d9...   \n",
       "  75  [\"https://pub-d28896f69c604ec5aa743cb0397740d9...   \n",
       "  76  [\"https://pub-d28896f69c604ec5aa743cb0397740d9...   \n",
       "  77  [\"https://pub-d28896f69c604ec5aa743cb0397740d9...   \n",
       "  78  [\"https://pub-d28896f69c604ec5aa743cb0397740d9...   \n",
       "  \n",
       "                                         floorPlanImage  \n",
       "  0   https://pub-d28896f69c604ec5aa743cb0397740d9.r...  \n",
       "  1   https://pub-d28896f69c604ec5aa743cb0397740d9.r...  \n",
       "  2   https://pub-d28896f69c604ec5aa743cb0397740d9.r...  \n",
       "  3   https://pub-d28896f69c604ec5aa743cb0397740d9.r...  \n",
       "  4   https://pub-d28896f69c604ec5aa743cb0397740d9.r...  \n",
       "  ..                                                ...  \n",
       "  74  https://pub-d28896f69c604ec5aa743cb0397740d9.r...  \n",
       "  75  https://pub-d28896f69c604ec5aa743cb0397740d9.r...  \n",
       "  76  https://pub-d28896f69c604ec5aa743cb0397740d9.r...  \n",
       "  77  https://pub-d28896f69c604ec5aa743cb0397740d9.r...  \n",
       "  78  https://pub-d28896f69c604ec5aa743cb0397740d9.r...  \n",
       "  \n",
       "  [79 rows x 21 columns]},\n",
       " 'response': AIMessage(content='Based on your query:\\n\\n**You asked for:**  \\n* 1 BHK unfurnished flats for buying in Wakad, Pune  \\n* Minimum carpet area: 123 sqft  \\n* Price: Up to ₹1 crore  \\n* Ready for possession before December 2025  \\n\\n**Here\\'s what I found for you:**\\n\\n### Matching Property\\n\\n#### Project: **Ashwini**\\n- **Location:** Mumbai Chembur  \\n  (Please note: There are no listings specifying \"Wakad, Pune\" in the provided data. The closest matching property based on your requirements is this one, but it is located in Mumbai Chembur, not Pune.)\\n\\n#### **Details:**\\n- **Type:** 1BHK\\n- **Furnishing:** Unfurnished\\n- **Carpet Area:** 123 sqft\\n- **Price:** ₹1,11,11,111 (slightly above 1 crore)\\n- **Bathrooms:** 1\\n- **Balcony:** 1\\n- **Listing Type:** Sell\\n- **Status:** Under Construction\\n- **Posession Date:** 28th September 2025\\n- **Address:** Mumbai Chembur\\n- **Landmark:** Babys School\\n- **Images:** [Property](https://pub-d28896f69c604ec5aa743cb0397740d9.r2.dev/1756971672464-1e5179453b5df91d.jpg), [Floor Plan](https://pub-d28896f69c604ec5aa743cb0397740d9.r2.dev/1757584023815-67012c27580e3e23.jpg)\\n\\n---\\n\\n### **Summary**\\n\\n- At this time, there are **no 1BHK unfurnished flats listed for sale in Wakad, Pune** that match all your criteria (120+ sqft carpet, up to ₹1 crore, possession before Dec 2025) in the data provided.\\n- The **closest available match** is in Mumbai Chembur from the “Ashwini” project, ready for possession before December 2025, unfurnished, 1 BHK, and with the required carpet area. However, its price is slightly above ₹1 crore (₹1,11,11,111) and it is in Mumbai Chembur, not Pune.\\n\\n---\\n\\n### **What to Expect**\\n\\n- If you are specifically looking for properties in Wakad, Pune, I would recommend widening your search or checking back soon as new listings come.\\n- If you are open to nearby areas or slightly above ₹1 crore, you might consider the Chembur property, but please note the location difference.\\n\\nWould you like to see options for other locations or modify any of your requirements? Let me know how I can assist further!', additional_kwargs={'refusal': None}, response_metadata={'token_usage': {'completion_tokens': 566, 'prompt_tokens': 26026, 'total_tokens': 26592, 'completion_tokens_details': {'accepted_prediction_tokens': 0, 'audio_tokens': 0, 'reasoning_tokens': 0, 'rejected_prediction_tokens': 0}, 'prompt_tokens_details': {'audio_tokens': 0, 'cached_tokens': 25600}}, 'model_name': 'gpt-4.1-2025-04-14', 'system_fingerprint': 'fp_422e2d36a8', 'id': 'chatcmpl-CRd0qWX5EhGx0Kg6ylTjL3uBYOuix', 'service_tier': 'default', 'finish_reason': 'stop', 'logprobs': None}, id='run--33268d2e-5cf6-4c89-9980-2de8360fbafe-0', usage_metadata={'input_tokens': 26026, 'output_tokens': 566, 'total_tokens': 26592, 'input_token_details': {'audio': 0, 'cache_read': 25600}, 'output_token_details': {'audio': 0, 'reasoning': 0}})}"
      ]
     },
     "execution_count": 498,
     "metadata": {},
     "output_type": "execute_result"
    }
   ],
   "source": [
    "result"
   ]
  },
  {
   "cell_type": "code",
   "execution_count": 499,
   "id": "67e61801",
   "metadata": {},
   "outputs": [
    {
     "data": {
      "text/plain": [
       "'Based on your query:\\n\\n**You asked for:**  \\n* 1 BHK unfurnished flats for buying in Wakad, Pune  \\n* Minimum carpet area: 123 sqft  \\n* Price: Up to ₹1 crore  \\n* Ready for possession before December 2025  \\n\\n**Here\\'s what I found for you:**\\n\\n### Matching Property\\n\\n#### Project: **Ashwini**\\n- **Location:** Mumbai Chembur  \\n  (Please note: There are no listings specifying \"Wakad, Pune\" in the provided data. The closest matching property based on your requirements is this one, but it is located in Mumbai Chembur, not Pune.)\\n\\n#### **Details:**\\n- **Type:** 1BHK\\n- **Furnishing:** Unfurnished\\n- **Carpet Area:** 123 sqft\\n- **Price:** ₹1,11,11,111 (slightly above 1 crore)\\n- **Bathrooms:** 1\\n- **Balcony:** 1\\n- **Listing Type:** Sell\\n- **Status:** Under Construction\\n- **Posession Date:** 28th September 2025\\n- **Address:** Mumbai Chembur\\n- **Landmark:** Babys School\\n- **Images:** [Property](https://pub-d28896f69c604ec5aa743cb0397740d9.r2.dev/1756971672464-1e5179453b5df91d.jpg), [Floor Plan](https://pub-d28896f69c604ec5aa743cb0397740d9.r2.dev/1757584023815-67012c27580e3e23.jpg)\\n\\n---\\n\\n### **Summary**\\n\\n- At this time, there are **no 1BHK unfurnished flats listed for sale in Wakad, Pune** that match all your criteria (120+ sqft carpet, up to ₹1 crore, possession before Dec 2025) in the data provided.\\n- The **closest available match** is in Mumbai Chembur from the “Ashwini” project, ready for possession before December 2025, unfurnished, 1 BHK, and with the required carpet area. However, its price is slightly above ₹1 crore (₹1,11,11,111) and it is in Mumbai Chembur, not Pune.\\n\\n---\\n\\n### **What to Expect**\\n\\n- If you are specifically looking for properties in Wakad, Pune, I would recommend widening your search or checking back soon as new listings come.\\n- If you are open to nearby areas or slightly above ₹1 crore, you might consider the Chembur property, but please note the location difference.\\n\\nWould you like to see options for other locations or modify any of your requirements? Let me know how I can assist further!'"
      ]
     },
     "execution_count": 499,
     "metadata": {},
     "output_type": "execute_result"
    }
   ],
   "source": [
    "result[\"response\"].content"
   ]
  }
 ],
 "metadata": {
  "kernelspec": {
   "display_name": "venv",
   "language": "python",
   "name": "python3"
  },
  "language_info": {
   "codemirror_mode": {
    "name": "ipython",
    "version": 3
   },
   "file_extension": ".py",
   "mimetype": "text/x-python",
   "name": "python",
   "nbconvert_exporter": "python",
   "pygments_lexer": "ipython3",
   "version": "3.10.0"
  }
 },
 "nbformat": 4,
 "nbformat_minor": 5
}
